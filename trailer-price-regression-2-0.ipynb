{
 "cells": [
  {
   "cell_type": "code",
   "execution_count": 1,
   "id": "a52c8313",
   "metadata": {
    "_cell_guid": "b1076dfc-b9ad-4769-8c92-a6c4dae69d19",
    "_uuid": "8f2839f25d086af736a60e9eeb907d3b93b6e0e5",
    "execution": {
     "iopub.execute_input": "2023-03-08T18:03:14.845495Z",
     "iopub.status.busy": "2023-03-08T18:03:14.845016Z",
     "iopub.status.idle": "2023-03-08T18:03:16.306477Z",
     "shell.execute_reply": "2023-03-08T18:03:16.305228Z"
    },
    "papermill": {
     "duration": 1.479849,
     "end_time": "2023-03-08T18:03:16.309440",
     "exception": false,
     "start_time": "2023-03-08T18:03:14.829591",
     "status": "completed"
    },
    "tags": []
   },
   "outputs": [
    {
     "name": "stdout",
     "output_type": "stream",
     "text": [
      "/kaggle/input/trailer-prices/trailerdata1.csv\n",
      "/kaggle/input/trailer-prices/trailerdata2.csv\n"
     ]
    }
   ],
   "source": [
    "import numpy as np # linear algebra\n",
    "import pandas as pd # data processing, CSV file I/O (e.g. pd.read_csv)\n",
    "\n",
    "import matplotlib.pyplot as plt\n",
    "import seaborn as sns\n",
    "\n",
    "import os\n",
    "for dirname, _, filenames in os.walk('/kaggle/input'):\n",
    "    for filename in filenames:\n",
    "        print(os.path.join(dirname, filename))\n",
    "        \n",
    "        \n",
    "#Scaling and Splitting\n",
    "from sklearn.preprocessing import StandardScaler,MinMaxScaler,RobustScaler\n",
    "from sklearn.model_selection import train_test_split\n",
    "\n",
    "#Modeling\n",
    "from sklearn.linear_model import LassoLars\n",
    "from sklearn.linear_model import BayesianRidge\n",
    "from sklearn.linear_model import SGDRegressor\n",
    "from sklearn.svm import SVR\n",
    "from sklearn.linear_model import LinearRegression\n",
    "from sklearn.tree import DecisionTreeRegressor\n",
    "from sklearn.ensemble import RandomForestRegressor\n",
    "from sklearn.linear_model import Ridge\n",
    "from sklearn.linear_model import Lasso\n",
    "from sklearn.linear_model import ElasticNet\n",
    "\n",
    "#Evaluation\n",
    "from sklearn.model_selection import cross_validate, GridSearchCV\n",
    "from sklearn.metrics import mean_absolute_error,r2_score,mean_squared_error"
   ]
  },
  {
   "cell_type": "markdown",
   "id": "89ce8d85",
   "metadata": {
    "papermill": {
     "duration": 0.011585,
     "end_time": "2023-03-08T18:03:16.333293",
     "exception": false,
     "start_time": "2023-03-08T18:03:16.321708",
     "status": "completed"
    },
    "tags": []
   },
   "source": [
    "# About this notebook\n",
    "This notebook aims to predict the price of a product (trailer) for an early stage start-up. The data has been anonymized. Due to the web infrastructure of other manufacturers of similar trailers, the data was collected by hand. This project is still on-going and updated regularly. \n",
    "\n",
    "## Current Challenges\n",
    "Currently the challenge is to deal with the small amount of data. There are unfortunately not many data points availbale in general, but more data is still being collected. More features will be added soon :) "
   ]
  },
  {
   "cell_type": "code",
   "execution_count": 2,
   "id": "a536ed1c",
   "metadata": {
    "execution": {
     "iopub.execute_input": "2023-03-08T18:03:16.358851Z",
     "iopub.status.busy": "2023-03-08T18:03:16.358395Z",
     "iopub.status.idle": "2023-03-08T18:03:16.395690Z",
     "shell.execute_reply": "2023-03-08T18:03:16.394441Z"
    },
    "papermill": {
     "duration": 0.052927,
     "end_time": "2023-03-08T18:03:16.398063",
     "exception": false,
     "start_time": "2023-03-08T18:03:16.345136",
     "status": "completed"
    },
    "tags": []
   },
   "outputs": [
    {
     "data": {
      "text/html": [
       "<div>\n",
       "<style scoped>\n",
       "    .dataframe tbody tr th:only-of-type {\n",
       "        vertical-align: middle;\n",
       "    }\n",
       "\n",
       "    .dataframe tbody tr th {\n",
       "        vertical-align: top;\n",
       "    }\n",
       "\n",
       "    .dataframe thead th {\n",
       "        text-align: right;\n",
       "    }\n",
       "</style>\n",
       "<table border=\"1\" class=\"dataframe\">\n",
       "  <thead>\n",
       "    <tr style=\"text-align: right;\">\n",
       "      <th></th>\n",
       "      <th>total dry weight</th>\n",
       "      <th>length</th>\n",
       "      <th>exterior width</th>\n",
       "      <th>exterior height</th>\n",
       "      <th>interior height</th>\n",
       "      <th>price</th>\n",
       "    </tr>\n",
       "  </thead>\n",
       "  <tbody>\n",
       "    <tr>\n",
       "      <th>0</th>\n",
       "      <td>1660.0</td>\n",
       "      <td>198.0</td>\n",
       "      <td>102.0</td>\n",
       "      <td>84.0</td>\n",
       "      <td>54.0</td>\n",
       "      <td>14879.0</td>\n",
       "    </tr>\n",
       "    <tr>\n",
       "      <th>1</th>\n",
       "      <td>2260.0</td>\n",
       "      <td>194.0</td>\n",
       "      <td>102.0</td>\n",
       "      <td>108.0</td>\n",
       "      <td>74.0</td>\n",
       "      <td>18489.0</td>\n",
       "    </tr>\n",
       "    <tr>\n",
       "      <th>2</th>\n",
       "      <td>1320.0</td>\n",
       "      <td>144.0</td>\n",
       "      <td>102.0</td>\n",
       "      <td>90.0</td>\n",
       "      <td>54.0</td>\n",
       "      <td>12500.0</td>\n",
       "    </tr>\n",
       "    <tr>\n",
       "      <th>3</th>\n",
       "      <td>1320.0</td>\n",
       "      <td>144.0</td>\n",
       "      <td>102.0</td>\n",
       "      <td>90.0</td>\n",
       "      <td>54.0</td>\n",
       "      <td>14997.0</td>\n",
       "    </tr>\n",
       "    <tr>\n",
       "      <th>4</th>\n",
       "      <td>1930.0</td>\n",
       "      <td>185.0</td>\n",
       "      <td>102.0</td>\n",
       "      <td>105.0</td>\n",
       "      <td>73.0</td>\n",
       "      <td>15965.0</td>\n",
       "    </tr>\n",
       "  </tbody>\n",
       "</table>\n",
       "</div>"
      ],
      "text/plain": [
       "   total dry weight  length  exterior width  exterior height  interior height  \\\n",
       "0            1660.0   198.0           102.0             84.0             54.0   \n",
       "1            2260.0   194.0           102.0            108.0             74.0   \n",
       "2            1320.0   144.0           102.0             90.0             54.0   \n",
       "3            1320.0   144.0           102.0             90.0             54.0   \n",
       "4            1930.0   185.0           102.0            105.0             73.0   \n",
       "\n",
       "     price  \n",
       "0  14879.0  \n",
       "1  18489.0  \n",
       "2  12500.0  \n",
       "3  14997.0  \n",
       "4  15965.0  "
      ]
     },
     "execution_count": 2,
     "metadata": {},
     "output_type": "execute_result"
    }
   ],
   "source": [
    "#The trailer price data is saved in a csv file and must first be loaded\n",
    "data = pd.read_csv('/kaggle/input/trailer-prices/trailerdata2.csv', sep=';')\n",
    "data.head(5)"
   ]
  },
  {
   "cell_type": "code",
   "execution_count": 3,
   "id": "1fdb6624",
   "metadata": {
    "execution": {
     "iopub.execute_input": "2023-03-08T18:03:16.424024Z",
     "iopub.status.busy": "2023-03-08T18:03:16.423594Z",
     "iopub.status.idle": "2023-03-08T18:03:16.432210Z",
     "shell.execute_reply": "2023-03-08T18:03:16.431023Z"
    },
    "papermill": {
     "duration": 0.024292,
     "end_time": "2023-03-08T18:03:16.434517",
     "exception": false,
     "start_time": "2023-03-08T18:03:16.410225",
     "status": "completed"
    },
    "tags": []
   },
   "outputs": [
    {
     "data": {
      "text/plain": [
       "total dry weight    float64\n",
       "length              float64\n",
       "exterior width      float64\n",
       "exterior height     float64\n",
       "interior height     float64\n",
       "price               float64\n",
       "dtype: object"
      ]
     },
     "execution_count": 3,
     "metadata": {},
     "output_type": "execute_result"
    }
   ],
   "source": [
    "#inspect the data types of each column\n",
    "#for modeling everything needs to be and int or float\n",
    "data.dtypes"
   ]
  },
  {
   "cell_type": "code",
   "execution_count": 4,
   "id": "20991289",
   "metadata": {
    "execution": {
     "iopub.execute_input": "2023-03-08T18:03:16.461786Z",
     "iopub.status.busy": "2023-03-08T18:03:16.461366Z",
     "iopub.status.idle": "2023-03-08T18:03:16.472859Z",
     "shell.execute_reply": "2023-03-08T18:03:16.472008Z"
    },
    "papermill": {
     "duration": 0.028226,
     "end_time": "2023-03-08T18:03:16.475288",
     "exception": false,
     "start_time": "2023-03-08T18:03:16.447062",
     "status": "completed"
    },
    "tags": []
   },
   "outputs": [
    {
     "data": {
      "text/plain": [
       "total dry weight     9\n",
       "length               9\n",
       "exterior width      10\n",
       "exterior height     15\n",
       "interior height     17\n",
       "price                9\n",
       "dtype: int64"
      ]
     },
     "execution_count": 4,
     "metadata": {},
     "output_type": "execute_result"
    }
   ],
   "source": [
    "#checking for missing values\n",
    "#missing values must be dealt with for ML modeling\n",
    "data.isna().sum()"
   ]
  },
  {
   "cell_type": "markdown",
   "id": "b069aa6e",
   "metadata": {
    "papermill": {
     "duration": 0.012373,
     "end_time": "2023-03-08T18:03:16.500136",
     "exception": false,
     "start_time": "2023-03-08T18:03:16.487763",
     "status": "completed"
    },
    "tags": []
   },
   "source": [
    "For modeling all rows and columns must contain data to be considered \"clean\". There are numerous empty rows which will be dealt with in various ways coming up."
   ]
  },
  {
   "cell_type": "code",
   "execution_count": 5,
   "id": "3f69d126",
   "metadata": {
    "execution": {
     "iopub.execute_input": "2023-03-08T18:03:16.527322Z",
     "iopub.status.busy": "2023-03-08T18:03:16.526879Z",
     "iopub.status.idle": "2023-03-08T18:03:16.548325Z",
     "shell.execute_reply": "2023-03-08T18:03:16.547168Z"
    },
    "papermill": {
     "duration": 0.038086,
     "end_time": "2023-03-08T18:03:16.550657",
     "exception": false,
     "start_time": "2023-03-08T18:03:16.512571",
     "status": "completed"
    },
    "tags": []
   },
   "outputs": [
    {
     "data": {
      "text/html": [
       "<div>\n",
       "<style scoped>\n",
       "    .dataframe tbody tr th:only-of-type {\n",
       "        vertical-align: middle;\n",
       "    }\n",
       "\n",
       "    .dataframe tbody tr th {\n",
       "        vertical-align: top;\n",
       "    }\n",
       "\n",
       "    .dataframe thead th {\n",
       "        text-align: right;\n",
       "    }\n",
       "</style>\n",
       "<table border=\"1\" class=\"dataframe\">\n",
       "  <thead>\n",
       "    <tr style=\"text-align: right;\">\n",
       "      <th></th>\n",
       "      <th>total dry weight</th>\n",
       "      <th>length</th>\n",
       "      <th>exterior width</th>\n",
       "      <th>exterior height</th>\n",
       "      <th>interior height</th>\n",
       "      <th>price</th>\n",
       "    </tr>\n",
       "  </thead>\n",
       "  <tbody>\n",
       "    <tr>\n",
       "      <th>0</th>\n",
       "      <td>1660.0</td>\n",
       "      <td>198.0</td>\n",
       "      <td>102.0</td>\n",
       "      <td>84.0</td>\n",
       "      <td>54.0</td>\n",
       "      <td>14879.0</td>\n",
       "    </tr>\n",
       "    <tr>\n",
       "      <th>1</th>\n",
       "      <td>2260.0</td>\n",
       "      <td>194.0</td>\n",
       "      <td>102.0</td>\n",
       "      <td>108.0</td>\n",
       "      <td>74.0</td>\n",
       "      <td>18489.0</td>\n",
       "    </tr>\n",
       "    <tr>\n",
       "      <th>2</th>\n",
       "      <td>1320.0</td>\n",
       "      <td>144.0</td>\n",
       "      <td>102.0</td>\n",
       "      <td>90.0</td>\n",
       "      <td>54.0</td>\n",
       "      <td>12500.0</td>\n",
       "    </tr>\n",
       "    <tr>\n",
       "      <th>3</th>\n",
       "      <td>1320.0</td>\n",
       "      <td>144.0</td>\n",
       "      <td>102.0</td>\n",
       "      <td>90.0</td>\n",
       "      <td>54.0</td>\n",
       "      <td>14997.0</td>\n",
       "    </tr>\n",
       "    <tr>\n",
       "      <th>4</th>\n",
       "      <td>1930.0</td>\n",
       "      <td>185.0</td>\n",
       "      <td>102.0</td>\n",
       "      <td>105.0</td>\n",
       "      <td>73.0</td>\n",
       "      <td>15965.0</td>\n",
       "    </tr>\n",
       "    <tr>\n",
       "      <th>...</th>\n",
       "      <td>...</td>\n",
       "      <td>...</td>\n",
       "      <td>...</td>\n",
       "      <td>...</td>\n",
       "      <td>...</td>\n",
       "      <td>...</td>\n",
       "    </tr>\n",
       "    <tr>\n",
       "      <th>91</th>\n",
       "      <td>NaN</td>\n",
       "      <td>NaN</td>\n",
       "      <td>NaN</td>\n",
       "      <td>NaN</td>\n",
       "      <td>NaN</td>\n",
       "      <td>NaN</td>\n",
       "    </tr>\n",
       "    <tr>\n",
       "      <th>92</th>\n",
       "      <td>NaN</td>\n",
       "      <td>NaN</td>\n",
       "      <td>NaN</td>\n",
       "      <td>NaN</td>\n",
       "      <td>NaN</td>\n",
       "      <td>NaN</td>\n",
       "    </tr>\n",
       "    <tr>\n",
       "      <th>93</th>\n",
       "      <td>NaN</td>\n",
       "      <td>NaN</td>\n",
       "      <td>NaN</td>\n",
       "      <td>NaN</td>\n",
       "      <td>NaN</td>\n",
       "      <td>NaN</td>\n",
       "    </tr>\n",
       "    <tr>\n",
       "      <th>94</th>\n",
       "      <td>NaN</td>\n",
       "      <td>NaN</td>\n",
       "      <td>NaN</td>\n",
       "      <td>NaN</td>\n",
       "      <td>NaN</td>\n",
       "      <td>NaN</td>\n",
       "    </tr>\n",
       "    <tr>\n",
       "      <th>95</th>\n",
       "      <td>NaN</td>\n",
       "      <td>NaN</td>\n",
       "      <td>NaN</td>\n",
       "      <td>NaN</td>\n",
       "      <td>NaN</td>\n",
       "      <td>NaN</td>\n",
       "    </tr>\n",
       "  </tbody>\n",
       "</table>\n",
       "<p>96 rows × 6 columns</p>\n",
       "</div>"
      ],
      "text/plain": [
       "    total dry weight  length  exterior width  exterior height  \\\n",
       "0             1660.0   198.0           102.0             84.0   \n",
       "1             2260.0   194.0           102.0            108.0   \n",
       "2             1320.0   144.0           102.0             90.0   \n",
       "3             1320.0   144.0           102.0             90.0   \n",
       "4             1930.0   185.0           102.0            105.0   \n",
       "..               ...     ...             ...              ...   \n",
       "91               NaN     NaN             NaN              NaN   \n",
       "92               NaN     NaN             NaN              NaN   \n",
       "93               NaN     NaN             NaN              NaN   \n",
       "94               NaN     NaN             NaN              NaN   \n",
       "95               NaN     NaN             NaN              NaN   \n",
       "\n",
       "    interior height    price  \n",
       "0              54.0  14879.0  \n",
       "1              74.0  18489.0  \n",
       "2              54.0  12500.0  \n",
       "3              54.0  14997.0  \n",
       "4              73.0  15965.0  \n",
       "..              ...      ...  \n",
       "91              NaN      NaN  \n",
       "92              NaN      NaN  \n",
       "93              NaN      NaN  \n",
       "94              NaN      NaN  \n",
       "95              NaN      NaN  \n",
       "\n",
       "[96 rows x 6 columns]"
      ]
     },
     "execution_count": 5,
     "metadata": {},
     "output_type": "execute_result"
    }
   ],
   "source": [
    "data"
   ]
  },
  {
   "cell_type": "code",
   "execution_count": 6,
   "id": "beb56e7f",
   "metadata": {
    "execution": {
     "iopub.execute_input": "2023-03-08T18:03:16.578383Z",
     "iopub.status.busy": "2023-03-08T18:03:16.577440Z",
     "iopub.status.idle": "2023-03-08T18:03:16.585981Z",
     "shell.execute_reply": "2023-03-08T18:03:16.584770Z"
    },
    "papermill": {
     "duration": 0.024783,
     "end_time": "2023-03-08T18:03:16.588212",
     "exception": false,
     "start_time": "2023-03-08T18:03:16.563429",
     "status": "completed"
    },
    "tags": []
   },
   "outputs": [],
   "source": [
    "#52 is the target\n",
    "#everything after is blank rows\n",
    "data2=data.drop(data.index[87:])"
   ]
  },
  {
   "cell_type": "code",
   "execution_count": 7,
   "id": "89a96610",
   "metadata": {
    "execution": {
     "iopub.execute_input": "2023-03-08T18:03:16.615450Z",
     "iopub.status.busy": "2023-03-08T18:03:16.615068Z",
     "iopub.status.idle": "2023-03-08T18:03:16.630066Z",
     "shell.execute_reply": "2023-03-08T18:03:16.628818Z"
    },
    "papermill": {
     "duration": 0.031548,
     "end_time": "2023-03-08T18:03:16.632569",
     "exception": false,
     "start_time": "2023-03-08T18:03:16.601021",
     "status": "completed"
    },
    "tags": []
   },
   "outputs": [
    {
     "data": {
      "text/html": [
       "<div>\n",
       "<style scoped>\n",
       "    .dataframe tbody tr th:only-of-type {\n",
       "        vertical-align: middle;\n",
       "    }\n",
       "\n",
       "    .dataframe tbody tr th {\n",
       "        vertical-align: top;\n",
       "    }\n",
       "\n",
       "    .dataframe thead th {\n",
       "        text-align: right;\n",
       "    }\n",
       "</style>\n",
       "<table border=\"1\" class=\"dataframe\">\n",
       "  <thead>\n",
       "    <tr style=\"text-align: right;\">\n",
       "      <th></th>\n",
       "      <th>total dry weight</th>\n",
       "      <th>length</th>\n",
       "      <th>exterior width</th>\n",
       "      <th>exterior height</th>\n",
       "      <th>interior height</th>\n",
       "      <th>price</th>\n",
       "    </tr>\n",
       "  </thead>\n",
       "  <tbody>\n",
       "    <tr>\n",
       "      <th>0</th>\n",
       "      <td>1660.0</td>\n",
       "      <td>198.0</td>\n",
       "      <td>102.0</td>\n",
       "      <td>84.0</td>\n",
       "      <td>54.0</td>\n",
       "      <td>14879.0</td>\n",
       "    </tr>\n",
       "    <tr>\n",
       "      <th>1</th>\n",
       "      <td>2260.0</td>\n",
       "      <td>194.0</td>\n",
       "      <td>102.0</td>\n",
       "      <td>108.0</td>\n",
       "      <td>74.0</td>\n",
       "      <td>18489.0</td>\n",
       "    </tr>\n",
       "    <tr>\n",
       "      <th>2</th>\n",
       "      <td>1320.0</td>\n",
       "      <td>144.0</td>\n",
       "      <td>102.0</td>\n",
       "      <td>90.0</td>\n",
       "      <td>54.0</td>\n",
       "      <td>12500.0</td>\n",
       "    </tr>\n",
       "    <tr>\n",
       "      <th>3</th>\n",
       "      <td>1320.0</td>\n",
       "      <td>144.0</td>\n",
       "      <td>102.0</td>\n",
       "      <td>90.0</td>\n",
       "      <td>54.0</td>\n",
       "      <td>14997.0</td>\n",
       "    </tr>\n",
       "    <tr>\n",
       "      <th>4</th>\n",
       "      <td>1930.0</td>\n",
       "      <td>185.0</td>\n",
       "      <td>102.0</td>\n",
       "      <td>105.0</td>\n",
       "      <td>73.0</td>\n",
       "      <td>15965.0</td>\n",
       "    </tr>\n",
       "  </tbody>\n",
       "</table>\n",
       "</div>"
      ],
      "text/plain": [
       "   total dry weight  length  exterior width  exterior height  interior height  \\\n",
       "0            1660.0   198.0           102.0             84.0             54.0   \n",
       "1            2260.0   194.0           102.0            108.0             74.0   \n",
       "2            1320.0   144.0           102.0             90.0             54.0   \n",
       "3            1320.0   144.0           102.0             90.0             54.0   \n",
       "4            1930.0   185.0           102.0            105.0             73.0   \n",
       "\n",
       "     price  \n",
       "0  14879.0  \n",
       "1  18489.0  \n",
       "2  12500.0  \n",
       "3  14997.0  \n",
       "4  15965.0  "
      ]
     },
     "execution_count": 7,
     "metadata": {},
     "output_type": "execute_result"
    }
   ],
   "source": [
    "data2.head(5)"
   ]
  },
  {
   "cell_type": "code",
   "execution_count": 8,
   "id": "3df6c08f",
   "metadata": {
    "execution": {
     "iopub.execute_input": "2023-03-08T18:03:16.661226Z",
     "iopub.status.busy": "2023-03-08T18:03:16.660837Z",
     "iopub.status.idle": "2023-03-08T18:03:16.670487Z",
     "shell.execute_reply": "2023-03-08T18:03:16.668956Z"
    },
    "papermill": {
     "duration": 0.026833,
     "end_time": "2023-03-08T18:03:16.672929",
     "exception": false,
     "start_time": "2023-03-08T18:03:16.646096",
     "status": "completed"
    },
    "tags": []
   },
   "outputs": [
    {
     "data": {
      "text/plain": [
       "total dry weight    0\n",
       "length              0\n",
       "exterior width      1\n",
       "exterior height     6\n",
       "interior height     8\n",
       "price               0\n",
       "dtype: int64"
      ]
     },
     "execution_count": 8,
     "metadata": {},
     "output_type": "execute_result"
    }
   ],
   "source": [
    "data2.isna().sum()"
   ]
  },
  {
   "cell_type": "code",
   "execution_count": 9,
   "id": "e241433f",
   "metadata": {
    "execution": {
     "iopub.execute_input": "2023-03-08T18:03:16.701818Z",
     "iopub.status.busy": "2023-03-08T18:03:16.701395Z",
     "iopub.status.idle": "2023-03-08T18:03:16.707587Z",
     "shell.execute_reply": "2023-03-08T18:03:16.706790Z"
    },
    "papermill": {
     "duration": 0.023518,
     "end_time": "2023-03-08T18:03:16.709924",
     "exception": false,
     "start_time": "2023-03-08T18:03:16.686406",
     "status": "completed"
    },
    "tags": []
   },
   "outputs": [
    {
     "data": {
      "text/plain": [
       "(87, 6)"
      ]
     },
     "execution_count": 9,
     "metadata": {},
     "output_type": "execute_result"
    }
   ],
   "source": [
    "data2.shape"
   ]
  },
  {
   "cell_type": "code",
   "execution_count": 10,
   "id": "9b9f96d0",
   "metadata": {
    "execution": {
     "iopub.execute_input": "2023-03-08T18:03:16.739035Z",
     "iopub.status.busy": "2023-03-08T18:03:16.738492Z",
     "iopub.status.idle": "2023-03-08T18:03:16.743062Z",
     "shell.execute_reply": "2023-03-08T18:03:16.742260Z"
    },
    "papermill": {
     "duration": 0.021591,
     "end_time": "2023-03-08T18:03:16.744943",
     "exception": false,
     "start_time": "2023-03-08T18:03:16.723352",
     "status": "completed"
    },
    "tags": []
   },
   "outputs": [],
   "source": [
    "#data2 = data1.drop(['model', 'year', 'sleeps', 'aluminum siding (inch)', 'A/C', 'msrp', 'interior height'], axis=1)"
   ]
  },
  {
   "cell_type": "code",
   "execution_count": 11,
   "id": "7bf32801",
   "metadata": {
    "execution": {
     "iopub.execute_input": "2023-03-08T18:03:16.773419Z",
     "iopub.status.busy": "2023-03-08T18:03:16.773038Z",
     "iopub.status.idle": "2023-03-08T18:03:16.781048Z",
     "shell.execute_reply": "2023-03-08T18:03:16.780231Z"
    },
    "papermill": {
     "duration": 0.025096,
     "end_time": "2023-03-08T18:03:16.783230",
     "exception": false,
     "start_time": "2023-03-08T18:03:16.758134",
     "status": "completed"
    },
    "tags": []
   },
   "outputs": [],
   "source": [
    "#this column will be renamed to get rid of the space\n",
    "data2 = data2.rename(columns={\"exterior height\": \"eheight\", \"total dry weight\": \"tdweight\", \"interior height\":\"intheight\", \"exterior width\":\"ewidth\"})"
   ]
  },
  {
   "cell_type": "markdown",
   "id": "2ff6f534",
   "metadata": {
    "papermill": {
     "duration": 0.012696,
     "end_time": "2023-03-08T18:03:16.809239",
     "exception": false,
     "start_time": "2023-03-08T18:03:16.796543",
     "status": "completed"
    },
    "tags": []
   },
   "source": [
    "~~There are still 3 missing values, but it is missing because these trailers are small than all the others and actually don't have an interior to have an interior height. Therefore it makes the most sense to fill them all in with 0, as they must contain some number for modeling.~~\n",
    "These were edited in the file"
   ]
  },
  {
   "cell_type": "code",
   "execution_count": 12,
   "id": "f3c0e30d",
   "metadata": {
    "execution": {
     "iopub.execute_input": "2023-03-08T18:03:16.836540Z",
     "iopub.status.busy": "2023-03-08T18:03:16.836133Z",
     "iopub.status.idle": "2023-03-08T18:03:16.844936Z",
     "shell.execute_reply": "2023-03-08T18:03:16.844046Z"
    },
    "papermill": {
     "duration": 0.024779,
     "end_time": "2023-03-08T18:03:16.846851",
     "exception": false,
     "start_time": "2023-03-08T18:03:16.822072",
     "status": "completed"
    },
    "tags": []
   },
   "outputs": [],
   "source": [
    "#impute null values \n",
    "data2['intheight'] = data2['intheight'].fillna(0)\n",
    "data2['eheight'] = data2['eheight'].fillna(data2['eheight'].mean())\n",
    "data2['ewidth'] = data2['ewidth'].fillna(data2['ewidth'].mean())"
   ]
  },
  {
   "cell_type": "code",
   "execution_count": 13,
   "id": "10c1516a",
   "metadata": {
    "execution": {
     "iopub.execute_input": "2023-03-08T18:03:16.876181Z",
     "iopub.status.busy": "2023-03-08T18:03:16.875732Z",
     "iopub.status.idle": "2023-03-08T18:03:16.895186Z",
     "shell.execute_reply": "2023-03-08T18:03:16.893887Z"
    },
    "papermill": {
     "duration": 0.036959,
     "end_time": "2023-03-08T18:03:16.897520",
     "exception": false,
     "start_time": "2023-03-08T18:03:16.860561",
     "status": "completed"
    },
    "tags": []
   },
   "outputs": [
    {
     "data": {
      "text/html": [
       "<div>\n",
       "<style scoped>\n",
       "    .dataframe tbody tr th:only-of-type {\n",
       "        vertical-align: middle;\n",
       "    }\n",
       "\n",
       "    .dataframe tbody tr th {\n",
       "        vertical-align: top;\n",
       "    }\n",
       "\n",
       "    .dataframe thead th {\n",
       "        text-align: right;\n",
       "    }\n",
       "</style>\n",
       "<table border=\"1\" class=\"dataframe\">\n",
       "  <thead>\n",
       "    <tr style=\"text-align: right;\">\n",
       "      <th></th>\n",
       "      <th>tdweight</th>\n",
       "      <th>length</th>\n",
       "      <th>ewidth</th>\n",
       "      <th>eheight</th>\n",
       "      <th>intheight</th>\n",
       "      <th>price</th>\n",
       "    </tr>\n",
       "  </thead>\n",
       "  <tbody>\n",
       "    <tr>\n",
       "      <th>0</th>\n",
       "      <td>1660.0</td>\n",
       "      <td>198.0</td>\n",
       "      <td>102.000000</td>\n",
       "      <td>84.00</td>\n",
       "      <td>54.0</td>\n",
       "      <td>14879.0</td>\n",
       "    </tr>\n",
       "    <tr>\n",
       "      <th>1</th>\n",
       "      <td>2260.0</td>\n",
       "      <td>194.0</td>\n",
       "      <td>102.000000</td>\n",
       "      <td>108.00</td>\n",
       "      <td>74.0</td>\n",
       "      <td>18489.0</td>\n",
       "    </tr>\n",
       "    <tr>\n",
       "      <th>2</th>\n",
       "      <td>1320.0</td>\n",
       "      <td>144.0</td>\n",
       "      <td>102.000000</td>\n",
       "      <td>90.00</td>\n",
       "      <td>54.0</td>\n",
       "      <td>12500.0</td>\n",
       "    </tr>\n",
       "    <tr>\n",
       "      <th>3</th>\n",
       "      <td>1320.0</td>\n",
       "      <td>144.0</td>\n",
       "      <td>102.000000</td>\n",
       "      <td>90.00</td>\n",
       "      <td>54.0</td>\n",
       "      <td>14997.0</td>\n",
       "    </tr>\n",
       "    <tr>\n",
       "      <th>4</th>\n",
       "      <td>1930.0</td>\n",
       "      <td>185.0</td>\n",
       "      <td>102.000000</td>\n",
       "      <td>105.00</td>\n",
       "      <td>73.0</td>\n",
       "      <td>15965.0</td>\n",
       "    </tr>\n",
       "    <tr>\n",
       "      <th>...</th>\n",
       "      <td>...</td>\n",
       "      <td>...</td>\n",
       "      <td>...</td>\n",
       "      <td>...</td>\n",
       "      <td>...</td>\n",
       "      <td>...</td>\n",
       "    </tr>\n",
       "    <tr>\n",
       "      <th>82</th>\n",
       "      <td>2200.0</td>\n",
       "      <td>110.0</td>\n",
       "      <td>60.000000</td>\n",
       "      <td>48.00</td>\n",
       "      <td>45.0</td>\n",
       "      <td>38990.0</td>\n",
       "    </tr>\n",
       "    <tr>\n",
       "      <th>83</th>\n",
       "      <td>3750.0</td>\n",
       "      <td>156.0</td>\n",
       "      <td>86.000000</td>\n",
       "      <td>63.75</td>\n",
       "      <td>78.0</td>\n",
       "      <td>79990.0</td>\n",
       "    </tr>\n",
       "    <tr>\n",
       "      <th>84</th>\n",
       "      <td>640.0</td>\n",
       "      <td>140.0</td>\n",
       "      <td>76.000000</td>\n",
       "      <td>62.00</td>\n",
       "      <td>38.0</td>\n",
       "      <td>9950.0</td>\n",
       "    </tr>\n",
       "    <tr>\n",
       "      <th>85</th>\n",
       "      <td>1200.0</td>\n",
       "      <td>157.0</td>\n",
       "      <td>72.000000</td>\n",
       "      <td>64.00</td>\n",
       "      <td>42.0</td>\n",
       "      <td>30590.0</td>\n",
       "    </tr>\n",
       "    <tr>\n",
       "      <th>86</th>\n",
       "      <td>3000.0</td>\n",
       "      <td>201.0</td>\n",
       "      <td>77.709302</td>\n",
       "      <td>92.00</td>\n",
       "      <td>59.0</td>\n",
       "      <td>38999.0</td>\n",
       "    </tr>\n",
       "  </tbody>\n",
       "</table>\n",
       "<p>87 rows × 6 columns</p>\n",
       "</div>"
      ],
      "text/plain": [
       "    tdweight  length      ewidth  eheight  intheight    price\n",
       "0     1660.0   198.0  102.000000    84.00       54.0  14879.0\n",
       "1     2260.0   194.0  102.000000   108.00       74.0  18489.0\n",
       "2     1320.0   144.0  102.000000    90.00       54.0  12500.0\n",
       "3     1320.0   144.0  102.000000    90.00       54.0  14997.0\n",
       "4     1930.0   185.0  102.000000   105.00       73.0  15965.0\n",
       "..       ...     ...         ...      ...        ...      ...\n",
       "82    2200.0   110.0   60.000000    48.00       45.0  38990.0\n",
       "83    3750.0   156.0   86.000000    63.75       78.0  79990.0\n",
       "84     640.0   140.0   76.000000    62.00       38.0   9950.0\n",
       "85    1200.0   157.0   72.000000    64.00       42.0  30590.0\n",
       "86    3000.0   201.0   77.709302    92.00       59.0  38999.0\n",
       "\n",
       "[87 rows x 6 columns]"
      ]
     },
     "execution_count": 13,
     "metadata": {},
     "output_type": "execute_result"
    }
   ],
   "source": [
    "data2"
   ]
  },
  {
   "cell_type": "code",
   "execution_count": 14,
   "id": "cf20a9b0",
   "metadata": {
    "execution": {
     "iopub.execute_input": "2023-03-08T18:03:16.926340Z",
     "iopub.status.busy": "2023-03-08T18:03:16.925903Z",
     "iopub.status.idle": "2023-03-08T18:03:16.935327Z",
     "shell.execute_reply": "2023-03-08T18:03:16.934048Z"
    },
    "papermill": {
     "duration": 0.026487,
     "end_time": "2023-03-08T18:03:16.937698",
     "exception": false,
     "start_time": "2023-03-08T18:03:16.911211",
     "status": "completed"
    },
    "tags": []
   },
   "outputs": [
    {
     "data": {
      "text/plain": [
       "tdweight     0\n",
       "length       0\n",
       "ewidth       0\n",
       "eheight      0\n",
       "intheight    0\n",
       "price        0\n",
       "dtype: int64"
      ]
     },
     "execution_count": 14,
     "metadata": {},
     "output_type": "execute_result"
    }
   ],
   "source": [
    "data2.isna().sum()"
   ]
  },
  {
   "cell_type": "code",
   "execution_count": 15,
   "id": "5f875465",
   "metadata": {
    "execution": {
     "iopub.execute_input": "2023-03-08T18:03:16.966382Z",
     "iopub.status.busy": "2023-03-08T18:03:16.965958Z",
     "iopub.status.idle": "2023-03-08T18:03:16.974448Z",
     "shell.execute_reply": "2023-03-08T18:03:16.973196Z"
    },
    "papermill": {
     "duration": 0.025576,
     "end_time": "2023-03-08T18:03:16.976841",
     "exception": false,
     "start_time": "2023-03-08T18:03:16.951265",
     "status": "completed"
    },
    "tags": []
   },
   "outputs": [
    {
     "data": {
      "text/plain": [
       "tdweight     float64\n",
       "length       float64\n",
       "ewidth       float64\n",
       "eheight      float64\n",
       "intheight    float64\n",
       "price        float64\n",
       "dtype: object"
      ]
     },
     "execution_count": 15,
     "metadata": {},
     "output_type": "execute_result"
    }
   ],
   "source": [
    "data2.dtypes"
   ]
  },
  {
   "cell_type": "code",
   "execution_count": 16,
   "id": "adaffc2f",
   "metadata": {
    "execution": {
     "iopub.execute_input": "2023-03-08T18:03:17.006646Z",
     "iopub.status.busy": "2023-03-08T18:03:17.006245Z",
     "iopub.status.idle": "2023-03-08T18:03:17.010732Z",
     "shell.execute_reply": "2023-03-08T18:03:17.009644Z"
    },
    "papermill": {
     "duration": 0.022208,
     "end_time": "2023-03-08T18:03:17.013159",
     "exception": false,
     "start_time": "2023-03-08T18:03:16.990951",
     "status": "completed"
    },
    "tags": []
   },
   "outputs": [],
   "source": [
    "#data2['tdweight'] = data2['tdweight'].astype(float)"
   ]
  },
  {
   "cell_type": "code",
   "execution_count": 17,
   "id": "93ecac39",
   "metadata": {
    "execution": {
     "iopub.execute_input": "2023-03-08T18:03:17.043033Z",
     "iopub.status.busy": "2023-03-08T18:03:17.042584Z",
     "iopub.status.idle": "2023-03-08T18:03:24.321654Z",
     "shell.execute_reply": "2023-03-08T18:03:24.320417Z"
    },
    "papermill": {
     "duration": 7.299524,
     "end_time": "2023-03-08T18:03:24.326635",
     "exception": false,
     "start_time": "2023-03-08T18:03:17.027111",
     "status": "completed"
    },
    "tags": []
   },
   "outputs": [
    {
     "data": {
      "text/plain": [
       "<seaborn.axisgrid.PairGrid at 0x7ff59794e610>"
      ]
     },
     "execution_count": 17,
     "metadata": {},
     "output_type": "execute_result"
    },
    {
     "data": {
      "image/png": "[encoded data removed]",
      "text/plain": [
       "<Figure size 1500x1500 with 42 Axes>"
      ]
     },
     "metadata": {},
     "output_type": "display_data"
    }
   ],
   "source": [
    "sns.pairplot(data2)"
   ]
  },
  {
   "cell_type": "markdown",
   "id": "9359cfb7",
   "metadata": {
    "papermill": {
     "duration": 0.017296,
     "end_time": "2023-03-08T18:03:24.362276",
     "exception": false,
     "start_time": "2023-03-08T18:03:24.344980",
     "status": "completed"
    },
    "tags": []
   },
   "source": [
    "Of all the variables, total dry weight appears to be the most correlated with the price. Let's look at it a bit more closely. "
   ]
  },
  {
   "cell_type": "code",
   "execution_count": 18,
   "id": "9e37a94f",
   "metadata": {
    "execution": {
     "iopub.execute_input": "2023-03-08T18:03:24.399390Z",
     "iopub.status.busy": "2023-03-08T18:03:24.398995Z",
     "iopub.status.idle": "2023-03-08T18:03:24.682929Z",
     "shell.execute_reply": "2023-03-08T18:03:24.681789Z"
    },
    "papermill": {
     "duration": 0.30557,
     "end_time": "2023-03-08T18:03:24.685672",
     "exception": false,
     "start_time": "2023-03-08T18:03:24.380102",
     "status": "completed"
    },
    "tags": []
   },
   "outputs": [
    {
     "data": {
      "text/plain": [
       "Text(0.5, 0, 'Price ($)')"
      ]
     },
     "execution_count": 18,
     "metadata": {},
     "output_type": "execute_result"
    },
    {
     "data": {
      "image/png": "[encoded data removed]",
      "text/plain": [
       "<Figure size 640x480 with 1 Axes>"
      ]
     },
     "metadata": {},
     "output_type": "display_data"
    }
   ],
   "source": [
    "x=\"price\"\n",
    "y= \"tdweight\"\n",
    "plt.scatter(x, y, data=data2, alpha=0.6);\n",
    "plt.title(\"Price of Trailer by Weight in lbs\", fontsize=20)\n",
    "plt.ylabel(\"Total Dry Weight (lbs)\", fontsize=15)\n",
    "plt.xlabel(\"Price ($)\", fontsize=15)\n",
    "#highlight last point"
   ]
  },
  {
   "cell_type": "code",
   "execution_count": 19,
   "id": "8cc6efec",
   "metadata": {
    "execution": {
     "iopub.execute_input": "2023-03-08T18:03:24.725765Z",
     "iopub.status.busy": "2023-03-08T18:03:24.724901Z",
     "iopub.status.idle": "2023-03-08T18:03:24.740157Z",
     "shell.execute_reply": "2023-03-08T18:03:24.738879Z"
    },
    "papermill": {
     "duration": 0.03814,
     "end_time": "2023-03-08T18:03:24.742544",
     "exception": false,
     "start_time": "2023-03-08T18:03:24.704404",
     "status": "completed"
    },
    "tags": []
   },
   "outputs": [
    {
     "data": {
      "text/html": [
       "<div>\n",
       "<style scoped>\n",
       "    .dataframe tbody tr th:only-of-type {\n",
       "        vertical-align: middle;\n",
       "    }\n",
       "\n",
       "    .dataframe tbody tr th {\n",
       "        vertical-align: top;\n",
       "    }\n",
       "\n",
       "    .dataframe thead th {\n",
       "        text-align: right;\n",
       "    }\n",
       "</style>\n",
       "<table border=\"1\" class=\"dataframe\">\n",
       "  <thead>\n",
       "    <tr style=\"text-align: right;\">\n",
       "      <th></th>\n",
       "      <th>tdweight</th>\n",
       "      <th>length</th>\n",
       "      <th>ewidth</th>\n",
       "      <th>eheight</th>\n",
       "      <th>intheight</th>\n",
       "      <th>price</th>\n",
       "    </tr>\n",
       "  </thead>\n",
       "  <tbody>\n",
       "    <tr>\n",
       "      <th>tdweight</th>\n",
       "      <td>1.000000</td>\n",
       "      <td>0.486464</td>\n",
       "      <td>0.447369</td>\n",
       "      <td>0.471513</td>\n",
       "      <td>0.408638</td>\n",
       "      <td>0.854057</td>\n",
       "    </tr>\n",
       "    <tr>\n",
       "      <th>length</th>\n",
       "      <td>0.486464</td>\n",
       "      <td>1.000000</td>\n",
       "      <td>0.647218</td>\n",
       "      <td>0.604059</td>\n",
       "      <td>0.630505</td>\n",
       "      <td>0.310064</td>\n",
       "    </tr>\n",
       "    <tr>\n",
       "      <th>ewidth</th>\n",
       "      <td>0.447369</td>\n",
       "      <td>0.647218</td>\n",
       "      <td>1.000000</td>\n",
       "      <td>0.643739</td>\n",
       "      <td>0.589227</td>\n",
       "      <td>0.287664</td>\n",
       "    </tr>\n",
       "    <tr>\n",
       "      <th>eheight</th>\n",
       "      <td>0.471513</td>\n",
       "      <td>0.604059</td>\n",
       "      <td>0.643739</td>\n",
       "      <td>1.000000</td>\n",
       "      <td>0.468357</td>\n",
       "      <td>0.178408</td>\n",
       "    </tr>\n",
       "    <tr>\n",
       "      <th>intheight</th>\n",
       "      <td>0.408638</td>\n",
       "      <td>0.630505</td>\n",
       "      <td>0.589227</td>\n",
       "      <td>0.468357</td>\n",
       "      <td>1.000000</td>\n",
       "      <td>0.312110</td>\n",
       "    </tr>\n",
       "    <tr>\n",
       "      <th>price</th>\n",
       "      <td>0.854057</td>\n",
       "      <td>0.310064</td>\n",
       "      <td>0.287664</td>\n",
       "      <td>0.178408</td>\n",
       "      <td>0.312110</td>\n",
       "      <td>1.000000</td>\n",
       "    </tr>\n",
       "  </tbody>\n",
       "</table>\n",
       "</div>"
      ],
      "text/plain": [
       "           tdweight    length    ewidth   eheight  intheight     price\n",
       "tdweight   1.000000  0.486464  0.447369  0.471513   0.408638  0.854057\n",
       "length     0.486464  1.000000  0.647218  0.604059   0.630505  0.310064\n",
       "ewidth     0.447369  0.647218  1.000000  0.643739   0.589227  0.287664\n",
       "eheight    0.471513  0.604059  0.643739  1.000000   0.468357  0.178408\n",
       "intheight  0.408638  0.630505  0.589227  0.468357   1.000000  0.312110\n",
       "price      0.854057  0.310064  0.287664  0.178408   0.312110  1.000000"
      ]
     },
     "execution_count": 19,
     "metadata": {},
     "output_type": "execute_result"
    }
   ],
   "source": [
    "corr=data2.corr()\n",
    "corr"
   ]
  },
  {
   "cell_type": "code",
   "execution_count": 20,
   "id": "c5c30c87",
   "metadata": {
    "execution": {
     "iopub.execute_input": "2023-03-08T18:03:24.782766Z",
     "iopub.status.busy": "2023-03-08T18:03:24.782358Z",
     "iopub.status.idle": "2023-03-08T18:03:25.445766Z",
     "shell.execute_reply": "2023-03-08T18:03:25.444560Z"
    },
    "papermill": {
     "duration": 0.686828,
     "end_time": "2023-03-08T18:03:25.448707",
     "exception": false,
     "start_time": "2023-03-08T18:03:24.761879",
     "status": "completed"
    },
    "tags": []
   },
   "outputs": [
    {
     "data": {
      "text/plain": [
       "<AxesSubplot:>"
      ]
     },
     "execution_count": 20,
     "metadata": {},
     "output_type": "execute_result"
    },
    {
     "data": {
      "image/png": "[encoded data removed]",
      "text/plain": [
       "<Figure size 1000x800 with 2 Axes>"
      ]
     },
     "metadata": {},
     "output_type": "display_data"
    }
   ],
   "source": [
    "plt.figure(figsize=(10,8))\n",
    "sns.heatmap(corr,annot=True)"
   ]
  },
  {
   "cell_type": "markdown",
   "id": "01ea4f7a",
   "metadata": {
    "papermill": {
     "duration": 0.02068,
     "end_time": "2023-03-08T18:03:25.490156",
     "exception": false,
     "start_time": "2023-03-08T18:03:25.469476",
     "status": "completed"
    },
    "tags": []
   },
   "source": [
    "# Machine Learning Modeling\n",
    "The data is now clean and we can move forward with creating some machine learning models. Once we settle on the best model it can be used to predict the target price of the trailer in question."
   ]
  },
  {
   "cell_type": "code",
   "execution_count": 21,
   "id": "a78d94c4",
   "metadata": {
    "execution": {
     "iopub.execute_input": "2023-03-08T18:03:25.534090Z",
     "iopub.status.busy": "2023-03-08T18:03:25.533636Z",
     "iopub.status.idle": "2023-03-08T18:03:25.540457Z",
     "shell.execute_reply": "2023-03-08T18:03:25.539327Z"
    },
    "papermill": {
     "duration": 0.031493,
     "end_time": "2023-03-08T18:03:25.542840",
     "exception": false,
     "start_time": "2023-03-08T18:03:25.511347",
     "status": "completed"
    },
    "tags": []
   },
   "outputs": [],
   "source": [
    "#here the data is split up into X,y where X contains everything but price and y contains what we want to predict (price)\n",
    "#price is what we want to predict\n",
    "X = data2.drop(['price'],axis=1)\n",
    "y=data2['price']"
   ]
  },
  {
   "cell_type": "code",
   "execution_count": 22,
   "id": "90768c71",
   "metadata": {
    "execution": {
     "iopub.execute_input": "2023-03-08T18:03:25.587078Z",
     "iopub.status.busy": "2023-03-08T18:03:25.585830Z",
     "iopub.status.idle": "2023-03-08T18:03:25.594315Z",
     "shell.execute_reply": "2023-03-08T18:03:25.593061Z"
    },
    "papermill": {
     "duration": 0.033183,
     "end_time": "2023-03-08T18:03:25.597112",
     "exception": false,
     "start_time": "2023-03-08T18:03:25.563929",
     "status": "completed"
    },
    "tags": []
   },
   "outputs": [],
   "source": [
    "X_train,X_test,y_train,y_test = train_test_split(X,y,test_size=0.30,random_state=1)"
   ]
  },
  {
   "cell_type": "code",
   "execution_count": 23,
   "id": "96efa64c",
   "metadata": {
    "execution": {
     "iopub.execute_input": "2023-03-08T18:03:25.641729Z",
     "iopub.status.busy": "2023-03-08T18:03:25.641268Z",
     "iopub.status.idle": "2023-03-08T18:03:25.652935Z",
     "shell.execute_reply": "2023-03-08T18:03:25.651250Z"
    },
    "papermill": {
     "duration": 0.036598,
     "end_time": "2023-03-08T18:03:25.655624",
     "exception": false,
     "start_time": "2023-03-08T18:03:25.619026",
     "status": "completed"
    },
    "tags": []
   },
   "outputs": [],
   "source": [
    "#scaling the data\n",
    "#this usually helps with modeling\n",
    "scaler = StandardScaler()\n",
    "\n",
    "X_train_scaled = scaler.fit_transform(X_train)\n",
    "X_test_scaled = scaler.transform(X_test)"
   ]
  },
  {
   "cell_type": "code",
   "execution_count": 24,
   "id": "8b030791",
   "metadata": {
    "execution": {
     "iopub.execute_input": "2023-03-08T18:03:25.698947Z",
     "iopub.status.busy": "2023-03-08T18:03:25.698562Z",
     "iopub.status.idle": "2023-03-08T18:03:25.705083Z",
     "shell.execute_reply": "2023-03-08T18:03:25.703890Z"
    },
    "papermill": {
     "duration": 0.030928,
     "end_time": "2023-03-08T18:03:25.707507",
     "exception": false,
     "start_time": "2023-03-08T18:03:25.676579",
     "status": "completed"
    },
    "tags": []
   },
   "outputs": [],
   "source": [
    "#function which runs different ML models and prints R^2, MAE and RMSE\n",
    "def run_experiment(model):\n",
    "    model.fit(X_train_scaled, y_train)\n",
    "    y_pred = model.predict(X_test_scaled)\n",
    "    print(\"R^2 : \", r2_score(y_test, y_pred))\n",
    "    print(\"MAE :\", mean_absolute_error(y_test,y_pred))\n",
    "    print(\"RMSE:\",np.sqrt(mean_squared_error(y_test, y_pred)))"
   ]
  },
  {
   "cell_type": "markdown",
   "id": "2c30951c",
   "metadata": {
    "papermill": {
     "duration": 0.019313,
     "end_time": "2023-03-08T18:03:25.746680",
     "exception": false,
     "start_time": "2023-03-08T18:03:25.727367",
     "status": "completed"
    },
    "tags": []
   },
   "source": [
    "Now the data is all cleaned up and ready for creating some machine learning models. A funtion has been written to run various models and output metrics "
   ]
  },
  {
   "cell_type": "code",
   "execution_count": 25,
   "id": "f979f956",
   "metadata": {
    "execution": {
     "iopub.execute_input": "2023-03-08T18:03:25.789163Z",
     "iopub.status.busy": "2023-03-08T18:03:25.787517Z",
     "iopub.status.idle": "2023-03-08T18:03:25.800597Z",
     "shell.execute_reply": "2023-03-08T18:03:25.799043Z"
    },
    "papermill": {
     "duration": 0.036989,
     "end_time": "2023-03-08T18:03:25.803262",
     "exception": false,
     "start_time": "2023-03-08T18:03:25.766273",
     "status": "completed"
    },
    "tags": []
   },
   "outputs": [
    {
     "name": "stdout",
     "output_type": "stream",
     "text": [
      "R^2 :  0.849702797804907\n",
      "MAE : 2974.2127649777267\n",
      "RMSE: 4199.8131967175605\n"
     ]
    }
   ],
   "source": [
    "model_1 = LinearRegression()\n",
    "run_experiment(model_1)"
   ]
  },
  {
   "cell_type": "code",
   "execution_count": 26,
   "id": "0fa7e98c",
   "metadata": {
    "execution": {
     "iopub.execute_input": "2023-03-08T18:03:25.848375Z",
     "iopub.status.busy": "2023-03-08T18:03:25.847488Z",
     "iopub.status.idle": "2023-03-08T18:03:25.858577Z",
     "shell.execute_reply": "2023-03-08T18:03:25.857319Z"
    },
    "papermill": {
     "duration": 0.037444,
     "end_time": "2023-03-08T18:03:25.861155",
     "exception": false,
     "start_time": "2023-03-08T18:03:25.823711",
     "status": "completed"
    },
    "tags": []
   },
   "outputs": [
    {
     "name": "stdout",
     "output_type": "stream",
     "text": [
      "R^2 :  0.2559953912691034\n",
      "MAE : 5595.777777777777\n",
      "RMSE: 9344.204589338111\n"
     ]
    }
   ],
   "source": [
    "model_2 = DecisionTreeRegressor(random_state = 1)\n",
    "run_experiment(model_2)"
   ]
  },
  {
   "cell_type": "code",
   "execution_count": 27,
   "id": "9ee04cb1",
   "metadata": {
    "execution": {
     "iopub.execute_input": "2023-03-08T18:03:25.905390Z",
     "iopub.status.busy": "2023-03-08T18:03:25.904724Z",
     "iopub.status.idle": "2023-03-08T18:03:25.917766Z",
     "shell.execute_reply": "2023-03-08T18:03:25.916684Z"
    },
    "papermill": {
     "duration": 0.039128,
     "end_time": "2023-03-08T18:03:25.920420",
     "exception": false,
     "start_time": "2023-03-08T18:03:25.881292",
     "status": "completed"
    },
    "tags": []
   },
   "outputs": [
    {
     "name": "stdout",
     "output_type": "stream",
     "text": [
      "R^2 :  0.5378098966385402\n",
      "MAE : 5527.6864341354685\n",
      "RMSE: 7364.865953172602\n"
     ]
    }
   ],
   "source": [
    "model_3 = Ridge(alpha=100, solver='cholesky', tol=0.0001, random_state=1)\n",
    "run_experiment(model_3)"
   ]
  },
  {
   "cell_type": "code",
   "execution_count": 28,
   "id": "f1d93ebe",
   "metadata": {
    "execution": {
     "iopub.execute_input": "2023-03-08T18:03:25.976561Z",
     "iopub.status.busy": "2023-03-08T18:03:25.976134Z",
     "iopub.status.idle": "2023-03-08T18:03:25.988718Z",
     "shell.execute_reply": "2023-03-08T18:03:25.987290Z"
    },
    "papermill": {
     "duration": 0.043512,
     "end_time": "2023-03-08T18:03:25.992175",
     "exception": false,
     "start_time": "2023-03-08T18:03:25.948663",
     "status": "completed"
    },
    "tags": []
   },
   "outputs": [
    {
     "name": "stdout",
     "output_type": "stream",
     "text": [
      "R^2 :  0.9023774204992092\n",
      "MAE : 2465.6369147002756\n",
      "RMSE: 3384.7739135026136\n"
     ]
    }
   ],
   "source": [
    "model_4 = Lasso(alpha=0.1, precompute=True, positive=True, selection='random', random_state=1)\n",
    "run_experiment(model_4)"
   ]
  },
  {
   "cell_type": "code",
   "execution_count": 29,
   "id": "49c585fe",
   "metadata": {
    "execution": {
     "iopub.execute_input": "2023-03-08T18:03:26.037506Z",
     "iopub.status.busy": "2023-03-08T18:03:26.036731Z",
     "iopub.status.idle": "2023-03-08T18:03:26.048336Z",
     "shell.execute_reply": "2023-03-08T18:03:26.046817Z"
    },
    "papermill": {
     "duration": 0.036113,
     "end_time": "2023-03-08T18:03:26.051247",
     "exception": false,
     "start_time": "2023-03-08T18:03:26.015134",
     "status": "completed"
    },
    "tags": []
   },
   "outputs": [
    {
     "name": "stdout",
     "output_type": "stream",
     "text": [
      "R^2 :  0.8592747180124155\n",
      "MAE : 2894.09688919914\n",
      "RMSE: 4063.8773249104897\n"
     ]
    }
   ],
   "source": [
    "model_5 = ElasticNet(alpha=0.1, l1_ratio=0.9, selection='random', random_state=1)\n",
    "run_experiment(model_5)"
   ]
  },
  {
   "cell_type": "code",
   "execution_count": 30,
   "id": "343418ff",
   "metadata": {
    "execution": {
     "iopub.execute_input": "2023-03-08T18:03:26.094717Z",
     "iopub.status.busy": "2023-03-08T18:03:26.093467Z",
     "iopub.status.idle": "2023-03-08T18:03:26.105719Z",
     "shell.execute_reply": "2023-03-08T18:03:26.104091Z"
    },
    "papermill": {
     "duration": 0.036347,
     "end_time": "2023-03-08T18:03:26.108450",
     "exception": false,
     "start_time": "2023-03-08T18:03:26.072103",
     "status": "completed"
    },
    "tags": []
   },
   "outputs": [
    {
     "name": "stdout",
     "output_type": "stream",
     "text": [
      "R^2 :  0.8498797487047273\n",
      "MAE : 2973.172352634149\n",
      "RMSE: 4197.340164683564\n"
     ]
    },
    {
     "name": "stderr",
     "output_type": "stream",
     "text": [
      "/opt/conda/lib/python3.7/site-packages/sklearn/linear_model/_base.py:138: FutureWarning: The default of 'normalize' will be set to False in version 1.2 and deprecated in version 1.4.\n",
      "If you wish to scale the data, use Pipeline with a StandardScaler in a preprocessing stage. To reproduce the previous behavior:\n",
      "\n",
      "from sklearn.pipeline import make_pipeline\n",
      "\n",
      "model = make_pipeline(StandardScaler(with_mean=False), LassoLars())\n",
      "\n",
      "If you wish to pass a sample_weight parameter, you need to pass it as a fit parameter to each step of the pipeline as follows:\n",
      "\n",
      "kwargs = {s[0] + '__sample_weight': sample_weight for s in model.steps}\n",
      "model.fit(X, y, **kwargs)\n",
      "\n",
      "Set parameter alpha to: original_alpha * np.sqrt(n_samples). \n",
      "  FutureWarning,\n"
     ]
    }
   ],
   "source": [
    "model_6 = LassoLars(alpha=.1)\n",
    "run_experiment(model_6)"
   ]
  },
  {
   "cell_type": "code",
   "execution_count": 31,
   "id": "748c4c59",
   "metadata": {
    "execution": {
     "iopub.execute_input": "2023-03-08T18:03:26.151353Z",
     "iopub.status.busy": "2023-03-08T18:03:26.150909Z",
     "iopub.status.idle": "2023-03-08T18:03:26.161541Z",
     "shell.execute_reply": "2023-03-08T18:03:26.160237Z"
    },
    "papermill": {
     "duration": 0.034597,
     "end_time": "2023-03-08T18:03:26.163758",
     "exception": false,
     "start_time": "2023-03-08T18:03:26.129161",
     "status": "completed"
    },
    "tags": []
   },
   "outputs": [
    {
     "name": "stdout",
     "output_type": "stream",
     "text": [
      "R^2 :  0.8671772658240227\n",
      "MAE : 2821.679633101384\n",
      "RMSE: 3948.12354118215\n"
     ]
    }
   ],
   "source": [
    "model_7 = BayesianRidge()\n",
    "run_experiment(model_7)"
   ]
  },
  {
   "cell_type": "code",
   "execution_count": 32,
   "id": "34a9dee8",
   "metadata": {
    "execution": {
     "iopub.execute_input": "2023-03-08T18:03:26.208403Z",
     "iopub.status.busy": "2023-03-08T18:03:26.207600Z",
     "iopub.status.idle": "2023-03-08T18:03:26.218142Z",
     "shell.execute_reply": "2023-03-08T18:03:26.216663Z"
    },
    "papermill": {
     "duration": 0.036253,
     "end_time": "2023-03-08T18:03:26.220812",
     "exception": false,
     "start_time": "2023-03-08T18:03:26.184559",
     "status": "completed"
    },
    "tags": []
   },
   "outputs": [
    {
     "name": "stdout",
     "output_type": "stream",
     "text": [
      "R^2 :  0.8614246632563406\n",
      "MAE : 2883.0580549974734\n",
      "RMSE: 4032.714688329846\n"
     ]
    }
   ],
   "source": [
    "model_8 = SGDRegressor(max_iter=1000, tol=1e-3)\n",
    "run_experiment(model_8)"
   ]
  },
  {
   "cell_type": "code",
   "execution_count": 33,
   "id": "fd9888cc",
   "metadata": {
    "execution": {
     "iopub.execute_input": "2023-03-08T18:03:26.265245Z",
     "iopub.status.busy": "2023-03-08T18:03:26.264559Z",
     "iopub.status.idle": "2023-03-08T18:03:26.273850Z",
     "shell.execute_reply": "2023-03-08T18:03:26.272572Z"
    },
    "papermill": {
     "duration": 0.034144,
     "end_time": "2023-03-08T18:03:26.276219",
     "exception": false,
     "start_time": "2023-03-08T18:03:26.242075",
     "status": "completed"
    },
    "tags": []
   },
   "outputs": [
    {
     "name": "stdout",
     "output_type": "stream",
     "text": [
      "R^2 :  -0.1325521963951266\n",
      "MAE : 7777.618030429563\n",
      "RMSE: 11528.787627396434\n"
     ]
    }
   ],
   "source": [
    "model_9 = SVR(epsilon=0.2)\n",
    "run_experiment(model_9)"
   ]
  },
  {
   "cell_type": "code",
   "execution_count": 34,
   "id": "75046b7f",
   "metadata": {
    "execution": {
     "iopub.execute_input": "2023-03-08T18:03:26.320621Z",
     "iopub.status.busy": "2023-03-08T18:03:26.319885Z",
     "iopub.status.idle": "2023-03-08T18:03:26.456477Z",
     "shell.execute_reply": "2023-03-08T18:03:26.454708Z"
    },
    "papermill": {
     "duration": 0.162408,
     "end_time": "2023-03-08T18:03:26.459361",
     "exception": false,
     "start_time": "2023-03-08T18:03:26.296953",
     "status": "completed"
    },
    "tags": []
   },
   "outputs": [
    {
     "name": "stdout",
     "output_type": "stream",
     "text": [
      "R^2 :  0.8528473543262977\n",
      "MAE : 2837.4437872908975\n",
      "RMSE: 4155.646173953227\n"
     ]
    }
   ],
   "source": [
    "model_10 = RandomForestRegressor(n_estimators=100, min_samples_leaf=3, random_state=1)\n",
    "run_experiment(model_10)"
   ]
  },
  {
   "cell_type": "markdown",
   "id": "4ead41b3",
   "metadata": {
    "papermill": {
     "duration": 0.020648,
     "end_time": "2023-03-08T18:03:26.501705",
     "exception": false,
     "start_time": "2023-03-08T18:03:26.481057",
     "status": "completed"
    },
    "tags": []
   },
   "source": [
    "At first the Random Forest model was preforming the best, but now it is changing every time new data is added, so more comments will be made later."
   ]
  },
  {
   "cell_type": "markdown",
   "id": "ce95a841",
   "metadata": {
    "papermill": {
     "duration": 0.02061,
     "end_time": "2023-03-08T18:03:26.543060",
     "exception": false,
     "start_time": "2023-03-08T18:03:26.522450",
     "status": "completed"
    },
    "tags": []
   },
   "source": [
    "## Hyperparameter Tuning\n",
    "Started this when the Random Forest was working better than other models by far, but now it's clear need to wait until the dataset is more complete."
   ]
  },
  {
   "cell_type": "code",
   "execution_count": 35,
   "id": "96355ef5",
   "metadata": {
    "execution": {
     "iopub.execute_input": "2023-03-08T18:03:26.586598Z",
     "iopub.status.busy": "2023-03-08T18:03:26.586174Z",
     "iopub.status.idle": "2023-03-08T18:03:26.590770Z",
     "shell.execute_reply": "2023-03-08T18:03:26.589689Z"
    },
    "papermill": {
     "duration": 0.02915,
     "end_time": "2023-03-08T18:03:26.592910",
     "exception": false,
     "start_time": "2023-03-08T18:03:26.563760",
     "status": "completed"
    },
    "tags": []
   },
   "outputs": [],
   "source": [
    "#rfc=RandomForestRegressor(random_state=1)"
   ]
  },
  {
   "cell_type": "code",
   "execution_count": 36,
   "id": "106823e6",
   "metadata": {
    "execution": {
     "iopub.execute_input": "2023-03-08T18:03:26.638993Z",
     "iopub.status.busy": "2023-03-08T18:03:26.636589Z",
     "iopub.status.idle": "2023-03-08T18:03:26.643328Z",
     "shell.execute_reply": "2023-03-08T18:03:26.642264Z"
    },
    "papermill": {
     "duration": 0.031971,
     "end_time": "2023-03-08T18:03:26.645869",
     "exception": false,
     "start_time": "2023-03-08T18:03:26.613898",
     "status": "completed"
    },
    "tags": []
   },
   "outputs": [],
   "source": [
    "#param_grid = { \n",
    "#    'n_estimators': [100, 500, 1000, 5000],\n",
    "#    'max_features': ['auto', 'sqrt', 'log2'],\n",
    "    #to save time in updating the notebook, max_depth is also left out\n",
    "#    'max_depth' : [5, 10, 15],\n",
    "#    'min_samples_leaf' : [1,2,3,5],\n",
    "    #'criterion' :['squared_error', 'absolute_error', 'friedman_mse']\n",
    "#}\n"
   ]
  },
  {
   "cell_type": "code",
   "execution_count": 37,
   "id": "b6e5c840",
   "metadata": {
    "execution": {
     "iopub.execute_input": "2023-03-08T18:03:26.690172Z",
     "iopub.status.busy": "2023-03-08T18:03:26.689253Z",
     "iopub.status.idle": "2023-03-08T18:03:26.694553Z",
     "shell.execute_reply": "2023-03-08T18:03:26.693277Z"
    },
    "papermill": {
     "duration": 0.029763,
     "end_time": "2023-03-08T18:03:26.696931",
     "exception": false,
     "start_time": "2023-03-08T18:03:26.667168",
     "status": "completed"
    },
    "tags": []
   },
   "outputs": [],
   "source": [
    "#CV_rfc = GridSearchCV(estimator=rfc, param_grid=param_grid, cv= 5)\n",
    "#CV_rfc.fit(X_train_scaled, y_train)"
   ]
  },
  {
   "cell_type": "code",
   "execution_count": 38,
   "id": "a2e53d27",
   "metadata": {
    "execution": {
     "iopub.execute_input": "2023-03-08T18:03:26.742823Z",
     "iopub.status.busy": "2023-03-08T18:03:26.741591Z",
     "iopub.status.idle": "2023-03-08T18:03:26.746065Z",
     "shell.execute_reply": "2023-03-08T18:03:26.745256Z"
    },
    "papermill": {
     "duration": 0.029321,
     "end_time": "2023-03-08T18:03:26.748199",
     "exception": false,
     "start_time": "2023-03-08T18:03:26.718878",
     "status": "completed"
    },
    "tags": []
   },
   "outputs": [],
   "source": [
    "#print the best parameters determined in GridSearchCV\n",
    "#CV_rfc.best_params_"
   ]
  },
  {
   "cell_type": "code",
   "execution_count": 39,
   "id": "aebf13f5",
   "metadata": {
    "execution": {
     "iopub.execute_input": "2023-03-08T18:03:26.791488Z",
     "iopub.status.busy": "2023-03-08T18:03:26.790724Z",
     "iopub.status.idle": "2023-03-08T18:03:26.795208Z",
     "shell.execute_reply": "2023-03-08T18:03:26.794124Z"
    },
    "papermill": {
     "duration": 0.028796,
     "end_time": "2023-03-08T18:03:26.797565",
     "exception": false,
     "start_time": "2023-03-08T18:03:26.768769",
     "status": "completed"
    },
    "tags": []
   },
   "outputs": [],
   "source": [
    "#run a final model using the optimal parameters\n",
    "#final_model = RandomForestRegressor(n_estimators=5000, max_features='sqrt', max_depth=10, min_samples_leaf=1, random_state=1)\n",
    "#run_experiment(final_model)"
   ]
  },
  {
   "cell_type": "markdown",
   "id": "f900ab07",
   "metadata": {
    "papermill": {
     "duration": 0.020189,
     "end_time": "2023-03-08T18:03:26.838746",
     "exception": false,
     "start_time": "2023-03-08T18:03:26.818557",
     "status": "completed"
    },
    "tags": []
   },
   "source": [
    "# Making a prediction for the target "
   ]
  },
  {
   "cell_type": "code",
   "execution_count": 40,
   "id": "00891468",
   "metadata": {
    "execution": {
     "iopub.execute_input": "2023-03-08T18:03:26.883619Z",
     "iopub.status.busy": "2023-03-08T18:03:26.883186Z",
     "iopub.status.idle": "2023-03-08T18:03:26.896635Z",
     "shell.execute_reply": "2023-03-08T18:03:26.895467Z"
    },
    "papermill": {
     "duration": 0.038729,
     "end_time": "2023-03-08T18:03:26.899181",
     "exception": false,
     "start_time": "2023-03-08T18:03:26.860452",
     "status": "completed"
    },
    "tags": []
   },
   "outputs": [
    {
     "data": {
      "text/html": [
       "<div>\n",
       "<style scoped>\n",
       "    .dataframe tbody tr th:only-of-type {\n",
       "        vertical-align: middle;\n",
       "    }\n",
       "\n",
       "    .dataframe tbody tr th {\n",
       "        vertical-align: top;\n",
       "    }\n",
       "\n",
       "    .dataframe thead th {\n",
       "        text-align: right;\n",
       "    }\n",
       "</style>\n",
       "<table border=\"1\" class=\"dataframe\">\n",
       "  <thead>\n",
       "    <tr style=\"text-align: right;\">\n",
       "      <th></th>\n",
       "      <th>total dry weight</th>\n",
       "      <th>length</th>\n",
       "      <th>exterior width</th>\n",
       "      <th>exterior height</th>\n",
       "      <th>interior height</th>\n",
       "      <th>price</th>\n",
       "    </tr>\n",
       "  </thead>\n",
       "  <tbody>\n",
       "    <tr>\n",
       "      <th>53</th>\n",
       "      <td>850.0</td>\n",
       "      <td>144.0</td>\n",
       "      <td>93.0</td>\n",
       "      <td>72.0</td>\n",
       "      <td>47.0</td>\n",
       "      <td>9995.0</td>\n",
       "    </tr>\n",
       "  </tbody>\n",
       "</table>\n",
       "</div>"
      ],
      "text/plain": [
       "    total dry weight  length  exterior width  exterior height  \\\n",
       "53             850.0   144.0            93.0             72.0   \n",
       "\n",
       "    interior height   price  \n",
       "53             47.0  9995.0  "
      ]
     },
     "execution_count": 40,
     "metadata": {},
     "output_type": "execute_result"
    }
   ],
   "source": [
    "#select the row of the target\n",
    "new_input = data.iloc[53:54]\n",
    "new_input"
   ]
  },
  {
   "cell_type": "code",
   "execution_count": 41,
   "id": "176f619a",
   "metadata": {
    "execution": {
     "iopub.execute_input": "2023-03-08T18:03:26.944852Z",
     "iopub.status.busy": "2023-03-08T18:03:26.944452Z",
     "iopub.status.idle": "2023-03-08T18:03:26.957261Z",
     "shell.execute_reply": "2023-03-08T18:03:26.956202Z"
    },
    "papermill": {
     "duration": 0.038108,
     "end_time": "2023-03-08T18:03:26.959559",
     "exception": false,
     "start_time": "2023-03-08T18:03:26.921451",
     "status": "completed"
    },
    "tags": []
   },
   "outputs": [
    {
     "data": {
      "text/html": [
       "<div>\n",
       "<style scoped>\n",
       "    .dataframe tbody tr th:only-of-type {\n",
       "        vertical-align: middle;\n",
       "    }\n",
       "\n",
       "    .dataframe tbody tr th {\n",
       "        vertical-align: top;\n",
       "    }\n",
       "\n",
       "    .dataframe thead th {\n",
       "        text-align: right;\n",
       "    }\n",
       "</style>\n",
       "<table border=\"1\" class=\"dataframe\">\n",
       "  <thead>\n",
       "    <tr style=\"text-align: right;\">\n",
       "      <th></th>\n",
       "      <th>total dry weight</th>\n",
       "      <th>length</th>\n",
       "      <th>exterior width</th>\n",
       "      <th>exterior height</th>\n",
       "      <th>interior height</th>\n",
       "    </tr>\n",
       "  </thead>\n",
       "  <tbody>\n",
       "    <tr>\n",
       "      <th>53</th>\n",
       "      <td>850.0</td>\n",
       "      <td>144.0</td>\n",
       "      <td>93.0</td>\n",
       "      <td>72.0</td>\n",
       "      <td>47.0</td>\n",
       "    </tr>\n",
       "  </tbody>\n",
       "</table>\n",
       "</div>"
      ],
      "text/plain": [
       "    total dry weight  length  exterior width  exterior height  interior height\n",
       "53             850.0   144.0            93.0             72.0             47.0"
      ]
     },
     "execution_count": 41,
     "metadata": {},
     "output_type": "execute_result"
    }
   ],
   "source": [
    "#drop the variable to be predicted\n",
    "new_input=new_input.drop(['price'],axis=1)\n",
    "new_input"
   ]
  },
  {
   "cell_type": "code",
   "execution_count": 42,
   "id": "4a37f7c4",
   "metadata": {
    "execution": {
     "iopub.execute_input": "2023-03-08T18:03:27.004756Z",
     "iopub.status.busy": "2023-03-08T18:03:27.004117Z",
     "iopub.status.idle": "2023-03-08T18:03:27.012662Z",
     "shell.execute_reply": "2023-03-08T18:03:27.011442Z"
    },
    "papermill": {
     "duration": 0.034343,
     "end_time": "2023-03-08T18:03:27.015408",
     "exception": false,
     "start_time": "2023-03-08T18:03:26.981065",
     "status": "completed"
    },
    "tags": []
   },
   "outputs": [],
   "source": [
    "#scale the new input\n",
    "new_input_scaled = scaler.fit_transform(new_input)"
   ]
  },
  {
   "cell_type": "code",
   "execution_count": 43,
   "id": "02788fea",
   "metadata": {
    "execution": {
     "iopub.execute_input": "2023-03-08T18:03:27.061230Z",
     "iopub.status.busy": "2023-03-08T18:03:27.060783Z",
     "iopub.status.idle": "2023-03-08T18:03:27.067992Z",
     "shell.execute_reply": "2023-03-08T18:03:27.067212Z"
    },
    "papermill": {
     "duration": 0.033066,
     "end_time": "2023-03-08T18:03:27.070123",
     "exception": false,
     "start_time": "2023-03-08T18:03:27.037057",
     "status": "completed"
    },
    "tags": []
   },
   "outputs": [
    {
     "data": {
      "text/plain": [
       "array([13387.31114397])"
      ]
     },
     "execution_count": 43,
     "metadata": {},
     "output_type": "execute_result"
    }
   ],
   "source": [
    "#gives prediction in USD\n",
    "new_output = model_9.predict(new_input_scaled)\n",
    "new_output"
   ]
  },
  {
   "cell_type": "markdown",
   "id": "134fe5a0",
   "metadata": {
    "papermill": {
     "duration": 0.020941,
     "end_time": "2023-03-08T18:03:27.112157",
     "exception": false,
     "start_time": "2023-03-08T18:03:27.091216",
     "status": "completed"
    },
    "tags": []
   },
   "source": [
    "# Notes on the metrics used\n",
    "✔️ Regression Evaluation Metrics\n",
    "Here are three common evaluation metrics for regression problems:\n",
    "\n",
    "Mean Absolute Error (MAE) is the mean of the absolute value of the errors:\n",
    "1𝑛∑𝑖=1𝑛|𝑦𝑖−𝑦̂𝑖|\n",
    "1\n",
    "n\n",
    "∑\n",
    "i\n",
    "=\n",
    "1\n",
    "n\n",
    "|\n",
    "y\n",
    "i\n",
    "−\n",
    "y\n",
    "^\n",
    "i\n",
    "|\n",
    " \n",
    "\n",
    " \n",
    "Mean Squared Error (MSE) is the mean of the squared errors:\n",
    "1𝑛∑𝑖=1𝑛(𝑦𝑖−𝑦̂𝑖)2\n",
    "1\n",
    "n\n",
    "∑\n",
    "i\n",
    "=\n",
    "1\n",
    "n\n",
    "(\n",
    "y\n",
    "i\n",
    "−\n",
    "y\n",
    "^\n",
    "i\n",
    ")\n",
    "2\n",
    " \n",
    "Root Mean Squared Error (RMSE) is the square root of the mean of the squared errors:\n",
    "1𝑛∑𝑖=1𝑛(𝑦𝑖−𝑦̂𝑖)2‾‾‾‾‾‾‾‾‾‾‾‾‾‾⎷\n",
    "1\n",
    "n\n",
    "∑\n",
    "i\n",
    "=\n",
    "1\n",
    "n\n",
    "(\n",
    "y\n",
    "i\n",
    "−\n",
    "y\n",
    "^\n",
    "i\n",
    ")\n",
    "2\n",
    " \n",
    "📌 Comparing these metrics:\n",
    "\n",
    "MAE is the easiest to understand, because it's the average error.\n",
    "MSE is more popular than MAE, because MSE \"punishes\" larger errors, which tends to be useful in the real world.\n",
    "RMSE is even more popular than MSE, because RMSE is interpretable in the \"y\" units.\n",
    "All of these are loss functions, because we want to minimize them."
   ]
  },
  {
   "cell_type": "markdown",
   "id": "b70731d4",
   "metadata": {
    "papermill": {
     "duration": 0.020701,
     "end_time": "2023-03-08T18:03:27.153705",
     "exception": false,
     "start_time": "2023-03-08T18:03:27.133004",
     "status": "completed"
    },
    "tags": []
   },
   "source": [
    "https://www.kaggle.com/code/faressayah/practical-introduction-to-10-regression-algorithm?scriptVersionId=117768677&cellId=36"
   ]
  },
  {
   "cell_type": "markdown",
   "id": "683d936a",
   "metadata": {
    "papermill": {
     "duration": 0.020609,
     "end_time": "2023-03-08T18:03:27.195197",
     "exception": false,
     "start_time": "2023-03-08T18:03:27.174588",
     "status": "completed"
    },
    "tags": []
   },
   "source": [
    "<iframe src=\"https://www.kaggle.com/embed/faressayah/practical-introduction-to-10-regression-algorithm?cellIds=36&kernelSessionId=117768677\" height=\"300\" style=\"margin: 0 auto; width: 100%; max-width: 950px;\" frameborder=\"0\" scrolling=\"auto\" title=\"Practical Introduction to 10 Regression Algorithm\"></iframe>"
   ]
  }
 ],
 "metadata": {
  "kernelspec": {
   "display_name": "Python 3",
   "language": "python",
   "name": "python3"
  },
  "language_info": {
   "codemirror_mode": {
    "name": "ipython",
    "version": 3
   },
   "file_extension": ".py",
   "mimetype": "text/x-python",
   "name": "python",
   "nbconvert_exporter": "python",
   "pygments_lexer": "ipython3",
   "version": "3.7.12"
  },
  "papermill": {
   "default_parameters": {},
   "duration": 23.06823,
   "end_time": "2023-03-08T18:03:28.138172",
   "environment_variables": {},
   "exception": null,
   "input_path": "__notebook__.ipynb",
   "output_path": "__notebook__.ipynb",
   "parameters": {},
   "start_time": "2023-03-08T18:03:05.069942",
   "version": "2.3.4"
  }
 },
 "nbformat": 4,
 "nbformat_minor": 5
}
