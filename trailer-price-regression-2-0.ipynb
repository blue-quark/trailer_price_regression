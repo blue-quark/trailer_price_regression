{
 "cells": [
  {
   "cell_type": "code",
   "execution_count": 1,
   "id": "b0370c94",
   "metadata": {
    "_cell_guid": "b1076dfc-b9ad-4769-8c92-a6c4dae69d19",
    "_uuid": "8f2839f25d086af736a60e9eeb907d3b93b6e0e5",
    "execution": {
     "iopub.execute_input": "2023-03-10T11:42:06.167353Z",
     "iopub.status.busy": "2023-03-10T11:42:06.166897Z",
     "iopub.status.idle": "2023-03-10T11:42:07.632231Z",
     "shell.execute_reply": "2023-03-10T11:42:07.630967Z"
    },
    "papermill": {
     "duration": 1.484626,
     "end_time": "2023-03-10T11:42:07.635196",
     "exception": false,
     "start_time": "2023-03-10T11:42:06.150570",
     "status": "completed"
    },
    "tags": []
   },
   "outputs": [
    {
     "name": "stdout",
     "output_type": "stream",
     "text": [
      "/kaggle/input/trailer-prices/trailerdata1.csv\n",
      "/kaggle/input/trailer-prices/trailerdata2.csv\n"
     ]
    }
   ],
   "source": [
    "import numpy as np # linear algebra\n",
    "import pandas as pd # data processing, CSV file I/O (e.g. pd.read_csv)\n",
    "\n",
    "import matplotlib.pyplot as plt\n",
    "import seaborn as sns\n",
    "\n",
    "import os\n",
    "for dirname, _, filenames in os.walk('/kaggle/input'):\n",
    "    for filename in filenames:\n",
    "        print(os.path.join(dirname, filename))\n",
    "        \n",
    "        \n",
    "#Scaling and Splitting\n",
    "from sklearn.preprocessing import StandardScaler,MinMaxScaler,RobustScaler\n",
    "from sklearn.model_selection import train_test_split\n",
    "\n",
    "#Modeling\n",
    "from sklearn.linear_model import LassoLars\n",
    "from sklearn.linear_model import BayesianRidge\n",
    "from sklearn.linear_model import SGDRegressor\n",
    "from sklearn.svm import SVR\n",
    "from sklearn.linear_model import LinearRegression\n",
    "from sklearn.tree import DecisionTreeRegressor\n",
    "from sklearn.ensemble import RandomForestRegressor\n",
    "from sklearn.linear_model import Ridge\n",
    "from sklearn.linear_model import Lasso\n",
    "from sklearn.linear_model import ElasticNet\n",
    "\n",
    "#Evaluation\n",
    "from sklearn.model_selection import cross_validate, GridSearchCV\n",
    "from sklearn.metrics import mean_absolute_error,r2_score,mean_squared_error"
   ]
  },
  {
   "cell_type": "markdown",
   "id": "90cc3ae7",
   "metadata": {
    "papermill": {
     "duration": 0.011678,
     "end_time": "2023-03-10T11:42:07.659219",
     "exception": false,
     "start_time": "2023-03-10T11:42:07.647541",
     "status": "completed"
    },
    "tags": []
   },
   "source": [
    "# About this notebook\n",
    "This notebook aims to predict the price of a product (trailer) for an early stage start-up. The data has been anonymized. Due to the web infrastructure of other manufacturers of similar trailers, the data was collected by hand. This project is still on-going and updated regularly. \n",
    "\n",
    "## Current Challenges\n",
    "Currently the challenge is to deal with the small amount of data. There are unfortunately not many data points availbale in general, but more data is still being collected. More features will be added soon :) "
   ]
  },
  {
   "cell_type": "code",
   "execution_count": 2,
   "id": "2cf4a637",
   "metadata": {
    "execution": {
     "iopub.execute_input": "2023-03-10T11:42:07.685548Z",
     "iopub.status.busy": "2023-03-10T11:42:07.684389Z",
     "iopub.status.idle": "2023-03-10T11:42:07.721608Z",
     "shell.execute_reply": "2023-03-10T11:42:07.720668Z"
    },
    "papermill": {
     "duration": 0.053134,
     "end_time": "2023-03-10T11:42:07.724114",
     "exception": false,
     "start_time": "2023-03-10T11:42:07.670980",
     "status": "completed"
    },
    "tags": []
   },
   "outputs": [
    {
     "data": {
      "text/html": [
       "<div>\n",
       "<style scoped>\n",
       "    .dataframe tbody tr th:only-of-type {\n",
       "        vertical-align: middle;\n",
       "    }\n",
       "\n",
       "    .dataframe tbody tr th {\n",
       "        vertical-align: top;\n",
       "    }\n",
       "\n",
       "    .dataframe thead th {\n",
       "        text-align: right;\n",
       "    }\n",
       "</style>\n",
       "<table border=\"1\" class=\"dataframe\">\n",
       "  <thead>\n",
       "    <tr style=\"text-align: right;\">\n",
       "      <th></th>\n",
       "      <th>total dry weight</th>\n",
       "      <th>length</th>\n",
       "      <th>exterior width</th>\n",
       "      <th>exterior height</th>\n",
       "      <th>interior height</th>\n",
       "      <th>price</th>\n",
       "    </tr>\n",
       "  </thead>\n",
       "  <tbody>\n",
       "    <tr>\n",
       "      <th>0</th>\n",
       "      <td>1660.0</td>\n",
       "      <td>198.0</td>\n",
       "      <td>102.0</td>\n",
       "      <td>84.0</td>\n",
       "      <td>54.0</td>\n",
       "      <td>14879.0</td>\n",
       "    </tr>\n",
       "    <tr>\n",
       "      <th>1</th>\n",
       "      <td>2260.0</td>\n",
       "      <td>194.0</td>\n",
       "      <td>102.0</td>\n",
       "      <td>108.0</td>\n",
       "      <td>74.0</td>\n",
       "      <td>18489.0</td>\n",
       "    </tr>\n",
       "    <tr>\n",
       "      <th>2</th>\n",
       "      <td>1320.0</td>\n",
       "      <td>144.0</td>\n",
       "      <td>102.0</td>\n",
       "      <td>90.0</td>\n",
       "      <td>54.0</td>\n",
       "      <td>12500.0</td>\n",
       "    </tr>\n",
       "    <tr>\n",
       "      <th>3</th>\n",
       "      <td>1320.0</td>\n",
       "      <td>144.0</td>\n",
       "      <td>102.0</td>\n",
       "      <td>90.0</td>\n",
       "      <td>54.0</td>\n",
       "      <td>14997.0</td>\n",
       "    </tr>\n",
       "    <tr>\n",
       "      <th>4</th>\n",
       "      <td>1930.0</td>\n",
       "      <td>185.0</td>\n",
       "      <td>102.0</td>\n",
       "      <td>105.0</td>\n",
       "      <td>73.0</td>\n",
       "      <td>15965.0</td>\n",
       "    </tr>\n",
       "  </tbody>\n",
       "</table>\n",
       "</div>"
      ],
      "text/plain": [
       "   total dry weight  length  exterior width  exterior height  interior height  \\\n",
       "0            1660.0   198.0           102.0             84.0             54.0   \n",
       "1            2260.0   194.0           102.0            108.0             74.0   \n",
       "2            1320.0   144.0           102.0             90.0             54.0   \n",
       "3            1320.0   144.0           102.0             90.0             54.0   \n",
       "4            1930.0   185.0           102.0            105.0             73.0   \n",
       "\n",
       "     price  \n",
       "0  14879.0  \n",
       "1  18489.0  \n",
       "2  12500.0  \n",
       "3  14997.0  \n",
       "4  15965.0  "
      ]
     },
     "execution_count": 2,
     "metadata": {},
     "output_type": "execute_result"
    }
   ],
   "source": [
    "#The trailer price data is saved in a csv file and must first be loaded\n",
    "data = pd.read_csv('/kaggle/input/trailer-prices/trailerdata2.csv', sep=';')\n",
    "data.head(5)"
   ]
  },
  {
   "cell_type": "code",
   "execution_count": 3,
   "id": "8fbe5695",
   "metadata": {
    "execution": {
     "iopub.execute_input": "2023-03-10T11:42:07.751820Z",
     "iopub.status.busy": "2023-03-10T11:42:07.751127Z",
     "iopub.status.idle": "2023-03-10T11:42:07.757951Z",
     "shell.execute_reply": "2023-03-10T11:42:07.757219Z"
    },
    "papermill": {
     "duration": 0.022913,
     "end_time": "2023-03-10T11:42:07.760046",
     "exception": false,
     "start_time": "2023-03-10T11:42:07.737133",
     "status": "completed"
    },
    "tags": []
   },
   "outputs": [
    {
     "data": {
      "text/plain": [
       "total dry weight    float64\n",
       "length              float64\n",
       "exterior width      float64\n",
       "exterior height     float64\n",
       "interior height     float64\n",
       "price               float64\n",
       "dtype: object"
      ]
     },
     "execution_count": 3,
     "metadata": {},
     "output_type": "execute_result"
    }
   ],
   "source": [
    "#inspect the data types of each column\n",
    "#for modeling everything needs to be and int or float\n",
    "data.dtypes"
   ]
  },
  {
   "cell_type": "code",
   "execution_count": 4,
   "id": "de029987",
   "metadata": {
    "execution": {
     "iopub.execute_input": "2023-03-10T11:42:07.788112Z",
     "iopub.status.busy": "2023-03-10T11:42:07.787263Z",
     "iopub.status.idle": "2023-03-10T11:42:07.795645Z",
     "shell.execute_reply": "2023-03-10T11:42:07.794730Z"
    },
    "papermill": {
     "duration": 0.025076,
     "end_time": "2023-03-10T11:42:07.797749",
     "exception": false,
     "start_time": "2023-03-10T11:42:07.772673",
     "status": "completed"
    },
    "tags": []
   },
   "outputs": [
    {
     "data": {
      "text/plain": [
       "total dry weight    11\n",
       "length              11\n",
       "exterior width      11\n",
       "exterior height     16\n",
       "interior height     16\n",
       "price               11\n",
       "dtype: int64"
      ]
     },
     "execution_count": 4,
     "metadata": {},
     "output_type": "execute_result"
    }
   ],
   "source": [
    "#checking for missing values\n",
    "#missing values must be dealt with for ML modeling\n",
    "data.isna().sum()"
   ]
  },
  {
   "cell_type": "markdown",
   "id": "8a3d13d3",
   "metadata": {
    "papermill": {
     "duration": 0.012002,
     "end_time": "2023-03-10T11:42:07.822413",
     "exception": false,
     "start_time": "2023-03-10T11:42:07.810411",
     "status": "completed"
    },
    "tags": []
   },
   "source": [
    "For modeling all rows and columns must contain data to be considered \"clean\". There are numerous empty rows which will be dealt with in various ways coming up."
   ]
  },
  {
   "cell_type": "code",
   "execution_count": 5,
   "id": "302610f3",
   "metadata": {
    "execution": {
     "iopub.execute_input": "2023-03-10T11:42:07.848943Z",
     "iopub.status.busy": "2023-03-10T11:42:07.848499Z",
     "iopub.status.idle": "2023-03-10T11:42:07.869652Z",
     "shell.execute_reply": "2023-03-10T11:42:07.868535Z"
    },
    "papermill": {
     "duration": 0.037035,
     "end_time": "2023-03-10T11:42:07.871797",
     "exception": false,
     "start_time": "2023-03-10T11:42:07.834762",
     "status": "completed"
    },
    "tags": []
   },
   "outputs": [
    {
     "data": {
      "text/html": [
       "<div>\n",
       "<style scoped>\n",
       "    .dataframe tbody tr th:only-of-type {\n",
       "        vertical-align: middle;\n",
       "    }\n",
       "\n",
       "    .dataframe tbody tr th {\n",
       "        vertical-align: top;\n",
       "    }\n",
       "\n",
       "    .dataframe thead th {\n",
       "        text-align: right;\n",
       "    }\n",
       "</style>\n",
       "<table border=\"1\" class=\"dataframe\">\n",
       "  <thead>\n",
       "    <tr style=\"text-align: right;\">\n",
       "      <th></th>\n",
       "      <th>total dry weight</th>\n",
       "      <th>length</th>\n",
       "      <th>exterior width</th>\n",
       "      <th>exterior height</th>\n",
       "      <th>interior height</th>\n",
       "      <th>price</th>\n",
       "    </tr>\n",
       "  </thead>\n",
       "  <tbody>\n",
       "    <tr>\n",
       "      <th>0</th>\n",
       "      <td>1660.0</td>\n",
       "      <td>198.0</td>\n",
       "      <td>102.0</td>\n",
       "      <td>84.0</td>\n",
       "      <td>54.0</td>\n",
       "      <td>14879.0</td>\n",
       "    </tr>\n",
       "    <tr>\n",
       "      <th>1</th>\n",
       "      <td>2260.0</td>\n",
       "      <td>194.0</td>\n",
       "      <td>102.0</td>\n",
       "      <td>108.0</td>\n",
       "      <td>74.0</td>\n",
       "      <td>18489.0</td>\n",
       "    </tr>\n",
       "    <tr>\n",
       "      <th>2</th>\n",
       "      <td>1320.0</td>\n",
       "      <td>144.0</td>\n",
       "      <td>102.0</td>\n",
       "      <td>90.0</td>\n",
       "      <td>54.0</td>\n",
       "      <td>12500.0</td>\n",
       "    </tr>\n",
       "    <tr>\n",
       "      <th>3</th>\n",
       "      <td>1320.0</td>\n",
       "      <td>144.0</td>\n",
       "      <td>102.0</td>\n",
       "      <td>90.0</td>\n",
       "      <td>54.0</td>\n",
       "      <td>14997.0</td>\n",
       "    </tr>\n",
       "    <tr>\n",
       "      <th>4</th>\n",
       "      <td>1930.0</td>\n",
       "      <td>185.0</td>\n",
       "      <td>102.0</td>\n",
       "      <td>105.0</td>\n",
       "      <td>73.0</td>\n",
       "      <td>15965.0</td>\n",
       "    </tr>\n",
       "    <tr>\n",
       "      <th>...</th>\n",
       "      <td>...</td>\n",
       "      <td>...</td>\n",
       "      <td>...</td>\n",
       "      <td>...</td>\n",
       "      <td>...</td>\n",
       "      <td>...</td>\n",
       "    </tr>\n",
       "    <tr>\n",
       "      <th>100</th>\n",
       "      <td>NaN</td>\n",
       "      <td>NaN</td>\n",
       "      <td>NaN</td>\n",
       "      <td>NaN</td>\n",
       "      <td>NaN</td>\n",
       "      <td>NaN</td>\n",
       "    </tr>\n",
       "    <tr>\n",
       "      <th>101</th>\n",
       "      <td>NaN</td>\n",
       "      <td>NaN</td>\n",
       "      <td>NaN</td>\n",
       "      <td>NaN</td>\n",
       "      <td>NaN</td>\n",
       "      <td>NaN</td>\n",
       "    </tr>\n",
       "    <tr>\n",
       "      <th>102</th>\n",
       "      <td>NaN</td>\n",
       "      <td>NaN</td>\n",
       "      <td>NaN</td>\n",
       "      <td>NaN</td>\n",
       "      <td>NaN</td>\n",
       "      <td>NaN</td>\n",
       "    </tr>\n",
       "    <tr>\n",
       "      <th>103</th>\n",
       "      <td>NaN</td>\n",
       "      <td>NaN</td>\n",
       "      <td>NaN</td>\n",
       "      <td>NaN</td>\n",
       "      <td>NaN</td>\n",
       "      <td>NaN</td>\n",
       "    </tr>\n",
       "    <tr>\n",
       "      <th>104</th>\n",
       "      <td>NaN</td>\n",
       "      <td>NaN</td>\n",
       "      <td>NaN</td>\n",
       "      <td>NaN</td>\n",
       "      <td>NaN</td>\n",
       "      <td>NaN</td>\n",
       "    </tr>\n",
       "  </tbody>\n",
       "</table>\n",
       "<p>105 rows × 6 columns</p>\n",
       "</div>"
      ],
      "text/plain": [
       "     total dry weight  length  exterior width  exterior height  \\\n",
       "0              1660.0   198.0           102.0             84.0   \n",
       "1              2260.0   194.0           102.0            108.0   \n",
       "2              1320.0   144.0           102.0             90.0   \n",
       "3              1320.0   144.0           102.0             90.0   \n",
       "4              1930.0   185.0           102.0            105.0   \n",
       "..                ...     ...             ...              ...   \n",
       "100               NaN     NaN             NaN              NaN   \n",
       "101               NaN     NaN             NaN              NaN   \n",
       "102               NaN     NaN             NaN              NaN   \n",
       "103               NaN     NaN             NaN              NaN   \n",
       "104               NaN     NaN             NaN              NaN   \n",
       "\n",
       "     interior height    price  \n",
       "0               54.0  14879.0  \n",
       "1               74.0  18489.0  \n",
       "2               54.0  12500.0  \n",
       "3               54.0  14997.0  \n",
       "4               73.0  15965.0  \n",
       "..               ...      ...  \n",
       "100              NaN      NaN  \n",
       "101              NaN      NaN  \n",
       "102              NaN      NaN  \n",
       "103              NaN      NaN  \n",
       "104              NaN      NaN  \n",
       "\n",
       "[105 rows x 6 columns]"
      ]
     },
     "execution_count": 5,
     "metadata": {},
     "output_type": "execute_result"
    }
   ],
   "source": [
    "data"
   ]
  },
  {
   "cell_type": "code",
   "execution_count": 6,
   "id": "2f6e1509",
   "metadata": {
    "execution": {
     "iopub.execute_input": "2023-03-10T11:42:07.900019Z",
     "iopub.status.busy": "2023-03-10T11:42:07.898893Z",
     "iopub.status.idle": "2023-03-10T11:42:07.913380Z",
     "shell.execute_reply": "2023-03-10T11:42:07.912331Z"
    },
    "papermill": {
     "duration": 0.031218,
     "end_time": "2023-03-10T11:42:07.915922",
     "exception": false,
     "start_time": "2023-03-10T11:42:07.884704",
     "status": "completed"
    },
    "tags": []
   },
   "outputs": [],
   "source": [
    "#everything after is blank rows\n",
    "data2=data.drop(data.index[94:])\n",
    "#53 is the target\n",
    "data2=data2.drop(data.index[53:54])\n",
    "#an outlier with a price of 90k\n",
    "data2=data2.drop(data.index[83:84])"
   ]
  },
  {
   "cell_type": "code",
   "execution_count": 7,
   "id": "76d5963d",
   "metadata": {
    "execution": {
     "iopub.execute_input": "2023-03-10T11:42:07.944295Z",
     "iopub.status.busy": "2023-03-10T11:42:07.943456Z",
     "iopub.status.idle": "2023-03-10T11:42:07.963458Z",
     "shell.execute_reply": "2023-03-10T11:42:07.962563Z"
    },
    "papermill": {
     "duration": 0.036687,
     "end_time": "2023-03-10T11:42:07.965735",
     "exception": false,
     "start_time": "2023-03-10T11:42:07.929048",
     "status": "completed"
    },
    "tags": []
   },
   "outputs": [
    {
     "data": {
      "text/html": [
       "<div>\n",
       "<style scoped>\n",
       "    .dataframe tbody tr th:only-of-type {\n",
       "        vertical-align: middle;\n",
       "    }\n",
       "\n",
       "    .dataframe tbody tr th {\n",
       "        vertical-align: top;\n",
       "    }\n",
       "\n",
       "    .dataframe thead th {\n",
       "        text-align: right;\n",
       "    }\n",
       "</style>\n",
       "<table border=\"1\" class=\"dataframe\">\n",
       "  <thead>\n",
       "    <tr style=\"text-align: right;\">\n",
       "      <th></th>\n",
       "      <th>total dry weight</th>\n",
       "      <th>length</th>\n",
       "      <th>exterior width</th>\n",
       "      <th>exterior height</th>\n",
       "      <th>interior height</th>\n",
       "      <th>price</th>\n",
       "    </tr>\n",
       "  </thead>\n",
       "  <tbody>\n",
       "    <tr>\n",
       "      <th>78</th>\n",
       "      <td>1350.0</td>\n",
       "      <td>165.0</td>\n",
       "      <td>80.0</td>\n",
       "      <td>65.25</td>\n",
       "      <td>44.5</td>\n",
       "      <td>14750.0</td>\n",
       "    </tr>\n",
       "    <tr>\n",
       "      <th>79</th>\n",
       "      <td>1350.0</td>\n",
       "      <td>165.0</td>\n",
       "      <td>80.0</td>\n",
       "      <td>68.75</td>\n",
       "      <td>44.5</td>\n",
       "      <td>16250.0</td>\n",
       "    </tr>\n",
       "    <tr>\n",
       "      <th>80</th>\n",
       "      <td>1350.0</td>\n",
       "      <td>165.0</td>\n",
       "      <td>60.0</td>\n",
       "      <td>68.75</td>\n",
       "      <td>44.5</td>\n",
       "      <td>17250.0</td>\n",
       "    </tr>\n",
       "    <tr>\n",
       "      <th>81</th>\n",
       "      <td>1750.0</td>\n",
       "      <td>200.0</td>\n",
       "      <td>80.0</td>\n",
       "      <td>69.00</td>\n",
       "      <td>44.5</td>\n",
       "      <td>19950.0</td>\n",
       "    </tr>\n",
       "    <tr>\n",
       "      <th>82</th>\n",
       "      <td>2200.0</td>\n",
       "      <td>110.0</td>\n",
       "      <td>60.0</td>\n",
       "      <td>48.00</td>\n",
       "      <td>45.0</td>\n",
       "      <td>38990.0</td>\n",
       "    </tr>\n",
       "    <tr>\n",
       "      <th>84</th>\n",
       "      <td>640.0</td>\n",
       "      <td>140.0</td>\n",
       "      <td>76.0</td>\n",
       "      <td>62.00</td>\n",
       "      <td>38.0</td>\n",
       "      <td>9950.0</td>\n",
       "    </tr>\n",
       "    <tr>\n",
       "      <th>85</th>\n",
       "      <td>1200.0</td>\n",
       "      <td>157.0</td>\n",
       "      <td>72.0</td>\n",
       "      <td>64.00</td>\n",
       "      <td>42.0</td>\n",
       "      <td>30590.0</td>\n",
       "    </tr>\n",
       "    <tr>\n",
       "      <th>86</th>\n",
       "      <td>1025.0</td>\n",
       "      <td>149.0</td>\n",
       "      <td>83.0</td>\n",
       "      <td>72.00</td>\n",
       "      <td>45.0</td>\n",
       "      <td>13174.0</td>\n",
       "    </tr>\n",
       "    <tr>\n",
       "      <th>87</th>\n",
       "      <td>1115.0</td>\n",
       "      <td>165.0</td>\n",
       "      <td>83.0</td>\n",
       "      <td>72.00</td>\n",
       "      <td>45.0</td>\n",
       "      <td>14350.0</td>\n",
       "    </tr>\n",
       "    <tr>\n",
       "      <th>88</th>\n",
       "      <td>1450.0</td>\n",
       "      <td>165.0</td>\n",
       "      <td>92.0</td>\n",
       "      <td>95.00</td>\n",
       "      <td>66.0</td>\n",
       "      <td>20230.0</td>\n",
       "    </tr>\n",
       "    <tr>\n",
       "      <th>89</th>\n",
       "      <td>2475.0</td>\n",
       "      <td>216.0</td>\n",
       "      <td>102.0</td>\n",
       "      <td>102.00</td>\n",
       "      <td>83.0</td>\n",
       "      <td>28056.0</td>\n",
       "    </tr>\n",
       "    <tr>\n",
       "      <th>90</th>\n",
       "      <td>3000.0</td>\n",
       "      <td>201.0</td>\n",
       "      <td>84.0</td>\n",
       "      <td>92.00</td>\n",
       "      <td>59.0</td>\n",
       "      <td>38999.0</td>\n",
       "    </tr>\n",
       "    <tr>\n",
       "      <th>91</th>\n",
       "      <td>1500.0</td>\n",
       "      <td>168.0</td>\n",
       "      <td>80.0</td>\n",
       "      <td>66.00</td>\n",
       "      <td>43.5</td>\n",
       "      <td>18849.0</td>\n",
       "    </tr>\n",
       "    <tr>\n",
       "      <th>92</th>\n",
       "      <td>1500.0</td>\n",
       "      <td>168.0</td>\n",
       "      <td>80.0</td>\n",
       "      <td>72.00</td>\n",
       "      <td>43.5</td>\n",
       "      <td>19899.0</td>\n",
       "    </tr>\n",
       "    <tr>\n",
       "      <th>93</th>\n",
       "      <td>1250.0</td>\n",
       "      <td>168.0</td>\n",
       "      <td>80.0</td>\n",
       "      <td>68.00</td>\n",
       "      <td>43.5</td>\n",
       "      <td>15099.0</td>\n",
       "    </tr>\n",
       "  </tbody>\n",
       "</table>\n",
       "</div>"
      ],
      "text/plain": [
       "    total dry weight  length  exterior width  exterior height  \\\n",
       "78            1350.0   165.0            80.0            65.25   \n",
       "79            1350.0   165.0            80.0            68.75   \n",
       "80            1350.0   165.0            60.0            68.75   \n",
       "81            1750.0   200.0            80.0            69.00   \n",
       "82            2200.0   110.0            60.0            48.00   \n",
       "84             640.0   140.0            76.0            62.00   \n",
       "85            1200.0   157.0            72.0            64.00   \n",
       "86            1025.0   149.0            83.0            72.00   \n",
       "87            1115.0   165.0            83.0            72.00   \n",
       "88            1450.0   165.0            92.0            95.00   \n",
       "89            2475.0   216.0           102.0           102.00   \n",
       "90            3000.0   201.0            84.0            92.00   \n",
       "91            1500.0   168.0            80.0            66.00   \n",
       "92            1500.0   168.0            80.0            72.00   \n",
       "93            1250.0   168.0            80.0            68.00   \n",
       "\n",
       "    interior height    price  \n",
       "78             44.5  14750.0  \n",
       "79             44.5  16250.0  \n",
       "80             44.5  17250.0  \n",
       "81             44.5  19950.0  \n",
       "82             45.0  38990.0  \n",
       "84             38.0   9950.0  \n",
       "85             42.0  30590.0  \n",
       "86             45.0  13174.0  \n",
       "87             45.0  14350.0  \n",
       "88             66.0  20230.0  \n",
       "89             83.0  28056.0  \n",
       "90             59.0  38999.0  \n",
       "91             43.5  18849.0  \n",
       "92             43.5  19899.0  \n",
       "93             43.5  15099.0  "
      ]
     },
     "execution_count": 7,
     "metadata": {},
     "output_type": "execute_result"
    }
   ],
   "source": [
    "data2.tail(15)"
   ]
  },
  {
   "cell_type": "code",
   "execution_count": 8,
   "id": "528b2d2d",
   "metadata": {
    "execution": {
     "iopub.execute_input": "2023-03-10T11:42:07.994304Z",
     "iopub.status.busy": "2023-03-10T11:42:07.993751Z",
     "iopub.status.idle": "2023-03-10T11:42:08.003455Z",
     "shell.execute_reply": "2023-03-10T11:42:08.002386Z"
    },
    "papermill": {
     "duration": 0.026877,
     "end_time": "2023-03-10T11:42:08.005815",
     "exception": false,
     "start_time": "2023-03-10T11:42:07.978938",
     "status": "completed"
    },
    "tags": []
   },
   "outputs": [
    {
     "data": {
      "text/plain": [
       "total dry weight    0\n",
       "length              0\n",
       "exterior width      0\n",
       "exterior height     5\n",
       "interior height     5\n",
       "price               0\n",
       "dtype: int64"
      ]
     },
     "execution_count": 8,
     "metadata": {},
     "output_type": "execute_result"
    }
   ],
   "source": [
    "data2.isna().sum()"
   ]
  },
  {
   "cell_type": "code",
   "execution_count": 9,
   "id": "a445795f",
   "metadata": {
    "execution": {
     "iopub.execute_input": "2023-03-10T11:42:08.035846Z",
     "iopub.status.busy": "2023-03-10T11:42:08.035178Z",
     "iopub.status.idle": "2023-03-10T11:42:08.041399Z",
     "shell.execute_reply": "2023-03-10T11:42:08.040376Z"
    },
    "papermill": {
     "duration": 0.023207,
     "end_time": "2023-03-10T11:42:08.043477",
     "exception": false,
     "start_time": "2023-03-10T11:42:08.020270",
     "status": "completed"
    },
    "tags": []
   },
   "outputs": [
    {
     "data": {
      "text/plain": [
       "(92, 6)"
      ]
     },
     "execution_count": 9,
     "metadata": {},
     "output_type": "execute_result"
    }
   ],
   "source": [
    "data2.shape"
   ]
  },
  {
   "cell_type": "code",
   "execution_count": 10,
   "id": "9b5f38ec",
   "metadata": {
    "execution": {
     "iopub.execute_input": "2023-03-10T11:42:08.072148Z",
     "iopub.status.busy": "2023-03-10T11:42:08.071326Z",
     "iopub.status.idle": "2023-03-10T11:42:08.075873Z",
     "shell.execute_reply": "2023-03-10T11:42:08.075114Z"
    },
    "papermill": {
     "duration": 0.021096,
     "end_time": "2023-03-10T11:42:08.077917",
     "exception": false,
     "start_time": "2023-03-10T11:42:08.056821",
     "status": "completed"
    },
    "tags": []
   },
   "outputs": [],
   "source": [
    "#data2 = data1.drop(['model', 'year', 'sleeps', 'aluminum siding (inch)', 'A/C', 'msrp', 'interior height'], axis=1)"
   ]
  },
  {
   "cell_type": "code",
   "execution_count": 11,
   "id": "08c6e892",
   "metadata": {
    "execution": {
     "iopub.execute_input": "2023-03-10T11:42:08.106524Z",
     "iopub.status.busy": "2023-03-10T11:42:08.105690Z",
     "iopub.status.idle": "2023-03-10T11:42:08.114896Z",
     "shell.execute_reply": "2023-03-10T11:42:08.113672Z"
    },
    "papermill": {
     "duration": 0.026124,
     "end_time": "2023-03-10T11:42:08.117378",
     "exception": false,
     "start_time": "2023-03-10T11:42:08.091254",
     "status": "completed"
    },
    "tags": []
   },
   "outputs": [],
   "source": [
    "#this column will be renamed to get rid of the space\n",
    "data2 = data2.rename(columns={\"exterior height\": \"eheight\", \"total dry weight\": \"tdweight\", \"interior height\":\"intheight\", \"exterior width\":\"ewidth\"})"
   ]
  },
  {
   "cell_type": "markdown",
   "id": "d9f5bd1b",
   "metadata": {
    "papermill": {
     "duration": 0.01301,
     "end_time": "2023-03-10T11:42:08.143773",
     "exception": false,
     "start_time": "2023-03-10T11:42:08.130763",
     "status": "completed"
    },
    "tags": []
   },
   "source": [
    "~~There are still 3 missing values, but it is missing because these trailers are small than all the others and actually don't have an interior to have an interior height. Therefore it makes the most sense to fill them all in with 0, as they must contain some number for modeling.~~\n",
    "These were edited in the file"
   ]
  },
  {
   "cell_type": "code",
   "execution_count": 12,
   "id": "72bc1c83",
   "metadata": {
    "execution": {
     "iopub.execute_input": "2023-03-10T11:42:08.171948Z",
     "iopub.status.busy": "2023-03-10T11:42:08.171496Z",
     "iopub.status.idle": "2023-03-10T11:42:08.180124Z",
     "shell.execute_reply": "2023-03-10T11:42:08.179145Z"
    },
    "papermill": {
     "duration": 0.025399,
     "end_time": "2023-03-10T11:42:08.182340",
     "exception": false,
     "start_time": "2023-03-10T11:42:08.156941",
     "status": "completed"
    },
    "tags": []
   },
   "outputs": [],
   "source": [
    "#impute null values \n",
    "data2['intheight'] = data2['intheight'].fillna(0)\n",
    "data2['eheight'] = data2['eheight'].fillna(data2['eheight'].mean())\n",
    "data2['ewidth'] = data2['ewidth'].fillna(data2['ewidth'].mean())"
   ]
  },
  {
   "cell_type": "code",
   "execution_count": 13,
   "id": "38b6bf46",
   "metadata": {
    "execution": {
     "iopub.execute_input": "2023-03-10T11:42:08.211276Z",
     "iopub.status.busy": "2023-03-10T11:42:08.210553Z",
     "iopub.status.idle": "2023-03-10T11:42:08.228407Z",
     "shell.execute_reply": "2023-03-10T11:42:08.227445Z"
    },
    "papermill": {
     "duration": 0.034991,
     "end_time": "2023-03-10T11:42:08.230877",
     "exception": false,
     "start_time": "2023-03-10T11:42:08.195886",
     "status": "completed"
    },
    "tags": []
   },
   "outputs": [
    {
     "data": {
      "text/html": [
       "<div>\n",
       "<style scoped>\n",
       "    .dataframe tbody tr th:only-of-type {\n",
       "        vertical-align: middle;\n",
       "    }\n",
       "\n",
       "    .dataframe tbody tr th {\n",
       "        vertical-align: top;\n",
       "    }\n",
       "\n",
       "    .dataframe thead th {\n",
       "        text-align: right;\n",
       "    }\n",
       "</style>\n",
       "<table border=\"1\" class=\"dataframe\">\n",
       "  <thead>\n",
       "    <tr style=\"text-align: right;\">\n",
       "      <th></th>\n",
       "      <th>tdweight</th>\n",
       "      <th>length</th>\n",
       "      <th>ewidth</th>\n",
       "      <th>eheight</th>\n",
       "      <th>intheight</th>\n",
       "      <th>price</th>\n",
       "    </tr>\n",
       "  </thead>\n",
       "  <tbody>\n",
       "    <tr>\n",
       "      <th>0</th>\n",
       "      <td>1660.0</td>\n",
       "      <td>198.0</td>\n",
       "      <td>102.0</td>\n",
       "      <td>84.0</td>\n",
       "      <td>54.0</td>\n",
       "      <td>14879.0</td>\n",
       "    </tr>\n",
       "    <tr>\n",
       "      <th>1</th>\n",
       "      <td>2260.0</td>\n",
       "      <td>194.0</td>\n",
       "      <td>102.0</td>\n",
       "      <td>108.0</td>\n",
       "      <td>74.0</td>\n",
       "      <td>18489.0</td>\n",
       "    </tr>\n",
       "    <tr>\n",
       "      <th>2</th>\n",
       "      <td>1320.0</td>\n",
       "      <td>144.0</td>\n",
       "      <td>102.0</td>\n",
       "      <td>90.0</td>\n",
       "      <td>54.0</td>\n",
       "      <td>12500.0</td>\n",
       "    </tr>\n",
       "    <tr>\n",
       "      <th>3</th>\n",
       "      <td>1320.0</td>\n",
       "      <td>144.0</td>\n",
       "      <td>102.0</td>\n",
       "      <td>90.0</td>\n",
       "      <td>54.0</td>\n",
       "      <td>14997.0</td>\n",
       "    </tr>\n",
       "    <tr>\n",
       "      <th>4</th>\n",
       "      <td>1930.0</td>\n",
       "      <td>185.0</td>\n",
       "      <td>102.0</td>\n",
       "      <td>105.0</td>\n",
       "      <td>73.0</td>\n",
       "      <td>15965.0</td>\n",
       "    </tr>\n",
       "    <tr>\n",
       "      <th>...</th>\n",
       "      <td>...</td>\n",
       "      <td>...</td>\n",
       "      <td>...</td>\n",
       "      <td>...</td>\n",
       "      <td>...</td>\n",
       "      <td>...</td>\n",
       "    </tr>\n",
       "    <tr>\n",
       "      <th>89</th>\n",
       "      <td>2475.0</td>\n",
       "      <td>216.0</td>\n",
       "      <td>102.0</td>\n",
       "      <td>102.0</td>\n",
       "      <td>83.0</td>\n",
       "      <td>28056.0</td>\n",
       "    </tr>\n",
       "    <tr>\n",
       "      <th>90</th>\n",
       "      <td>3000.0</td>\n",
       "      <td>201.0</td>\n",
       "      <td>84.0</td>\n",
       "      <td>92.0</td>\n",
       "      <td>59.0</td>\n",
       "      <td>38999.0</td>\n",
       "    </tr>\n",
       "    <tr>\n",
       "      <th>91</th>\n",
       "      <td>1500.0</td>\n",
       "      <td>168.0</td>\n",
       "      <td>80.0</td>\n",
       "      <td>66.0</td>\n",
       "      <td>43.5</td>\n",
       "      <td>18849.0</td>\n",
       "    </tr>\n",
       "    <tr>\n",
       "      <th>92</th>\n",
       "      <td>1500.0</td>\n",
       "      <td>168.0</td>\n",
       "      <td>80.0</td>\n",
       "      <td>72.0</td>\n",
       "      <td>43.5</td>\n",
       "      <td>19899.0</td>\n",
       "    </tr>\n",
       "    <tr>\n",
       "      <th>93</th>\n",
       "      <td>1250.0</td>\n",
       "      <td>168.0</td>\n",
       "      <td>80.0</td>\n",
       "      <td>68.0</td>\n",
       "      <td>43.5</td>\n",
       "      <td>15099.0</td>\n",
       "    </tr>\n",
       "  </tbody>\n",
       "</table>\n",
       "<p>92 rows × 6 columns</p>\n",
       "</div>"
      ],
      "text/plain": [
       "    tdweight  length  ewidth  eheight  intheight    price\n",
       "0     1660.0   198.0   102.0     84.0       54.0  14879.0\n",
       "1     2260.0   194.0   102.0    108.0       74.0  18489.0\n",
       "2     1320.0   144.0   102.0     90.0       54.0  12500.0\n",
       "3     1320.0   144.0   102.0     90.0       54.0  14997.0\n",
       "4     1930.0   185.0   102.0    105.0       73.0  15965.0\n",
       "..       ...     ...     ...      ...        ...      ...\n",
       "89    2475.0   216.0   102.0    102.0       83.0  28056.0\n",
       "90    3000.0   201.0    84.0     92.0       59.0  38999.0\n",
       "91    1500.0   168.0    80.0     66.0       43.5  18849.0\n",
       "92    1500.0   168.0    80.0     72.0       43.5  19899.0\n",
       "93    1250.0   168.0    80.0     68.0       43.5  15099.0\n",
       "\n",
       "[92 rows x 6 columns]"
      ]
     },
     "execution_count": 13,
     "metadata": {},
     "output_type": "execute_result"
    }
   ],
   "source": [
    "data2"
   ]
  },
  {
   "cell_type": "code",
   "execution_count": 14,
   "id": "a31c966d",
   "metadata": {
    "execution": {
     "iopub.execute_input": "2023-03-10T11:42:08.261740Z",
     "iopub.status.busy": "2023-03-10T11:42:08.261071Z",
     "iopub.status.idle": "2023-03-10T11:42:08.268606Z",
     "shell.execute_reply": "2023-03-10T11:42:08.267894Z"
    },
    "papermill": {
     "duration": 0.025408,
     "end_time": "2023-03-10T11:42:08.270663",
     "exception": false,
     "start_time": "2023-03-10T11:42:08.245255",
     "status": "completed"
    },
    "tags": []
   },
   "outputs": [
    {
     "data": {
      "text/plain": [
       "tdweight     0\n",
       "length       0\n",
       "ewidth       0\n",
       "eheight      0\n",
       "intheight    0\n",
       "price        0\n",
       "dtype: int64"
      ]
     },
     "execution_count": 14,
     "metadata": {},
     "output_type": "execute_result"
    }
   ],
   "source": [
    "data2.isna().sum()"
   ]
  },
  {
   "cell_type": "code",
   "execution_count": 15,
   "id": "4a4973e6",
   "metadata": {
    "execution": {
     "iopub.execute_input": "2023-03-10T11:42:08.300167Z",
     "iopub.status.busy": "2023-03-10T11:42:08.299474Z",
     "iopub.status.idle": "2023-03-10T11:42:08.306707Z",
     "shell.execute_reply": "2023-03-10T11:42:08.305756Z"
    },
    "papermill": {
     "duration": 0.024618,
     "end_time": "2023-03-10T11:42:08.308906",
     "exception": false,
     "start_time": "2023-03-10T11:42:08.284288",
     "status": "completed"
    },
    "tags": []
   },
   "outputs": [
    {
     "data": {
      "text/plain": [
       "tdweight     float64\n",
       "length       float64\n",
       "ewidth       float64\n",
       "eheight      float64\n",
       "intheight    float64\n",
       "price        float64\n",
       "dtype: object"
      ]
     },
     "execution_count": 15,
     "metadata": {},
     "output_type": "execute_result"
    }
   ],
   "source": [
    "data2.dtypes"
   ]
  },
  {
   "cell_type": "code",
   "execution_count": 16,
   "id": "0562c2d3",
   "metadata": {
    "execution": {
     "iopub.execute_input": "2023-03-10T11:42:08.339028Z",
     "iopub.status.busy": "2023-03-10T11:42:08.338605Z",
     "iopub.status.idle": "2023-03-10T11:42:08.343041Z",
     "shell.execute_reply": "2023-03-10T11:42:08.342190Z"
    },
    "papermill": {
     "duration": 0.021986,
     "end_time": "2023-03-10T11:42:08.345066",
     "exception": false,
     "start_time": "2023-03-10T11:42:08.323080",
     "status": "completed"
    },
    "tags": []
   },
   "outputs": [],
   "source": [
    "#data2['tdweight'] = data2['tdweight'].astype(float)"
   ]
  },
  {
   "cell_type": "code",
   "execution_count": 17,
   "id": "49bbf84f",
   "metadata": {
    "execution": {
     "iopub.execute_input": "2023-03-10T11:42:08.375215Z",
     "iopub.status.busy": "2023-03-10T11:42:08.374040Z",
     "iopub.status.idle": "2023-03-10T11:42:15.586576Z",
     "shell.execute_reply": "2023-03-10T11:42:15.585035Z"
    },
    "papermill": {
     "duration": 7.232218,
     "end_time": "2023-03-10T11:42:15.591403",
     "exception": false,
     "start_time": "2023-03-10T11:42:08.359185",
     "status": "completed"
    },
    "tags": []
   },
   "outputs": [
    {
     "data": {
      "text/plain": [
       "<seaborn.axisgrid.PairGrid at 0x7fa45c64e8d0>"
      ]
     },
     "execution_count": 17,
     "metadata": {},
     "output_type": "execute_result"
    },
    {
     "data": {
      "image/png": "[encoded data removed]",
      "text/plain": [
       "<Figure size 1500x1500 with 42 Axes>"
      ]
     },
     "metadata": {},
     "output_type": "display_data"
    }
   ],
   "source": [
    "sns.pairplot(data2)"
   ]
  },
  {
   "cell_type": "markdown",
   "id": "4f711c73",
   "metadata": {
    "papermill": {
     "duration": 0.019295,
     "end_time": "2023-03-10T11:42:15.631484",
     "exception": false,
     "start_time": "2023-03-10T11:42:15.612189",
     "status": "completed"
    },
    "tags": []
   },
   "source": [
    "Of all the variables, total dry weight appears to be the most correlated with the price. Let's look at it a bit more closely. "
   ]
  },
  {
   "cell_type": "code",
   "execution_count": 18,
   "id": "18b3d962",
   "metadata": {
    "execution": {
     "iopub.execute_input": "2023-03-10T11:42:15.673600Z",
     "iopub.status.busy": "2023-03-10T11:42:15.672767Z",
     "iopub.status.idle": "2023-03-10T11:42:17.126471Z",
     "shell.execute_reply": "2023-03-10T11:42:17.125094Z"
    },
    "papermill": {
     "duration": 1.477922,
     "end_time": "2023-03-10T11:42:17.129306",
     "exception": false,
     "start_time": "2023-03-10T11:42:15.651384",
     "status": "completed"
    },
    "tags": []
   },
   "outputs": [
    {
     "data": {
      "image/png": "[encoded data removed]",
      "text/plain": [
       "<Figure size 640x480 with 1 Axes>"
      ]
     },
     "metadata": {},
     "output_type": "display_data"
    }
   ],
   "source": [
    "x=data['price']\n",
    "y= data['total dry weight']\n",
    "\n",
    "col = []\n",
    "  \n",
    "for i in range(0, len(x)):\n",
    "    if x[i]==9995:\n",
    "        col.append('blue')  \n",
    "    else:\n",
    "        col.append('orange') \n",
    "  \n",
    "for i in range(len(x)):\n",
    "      \n",
    "    # plotting the corresponding x with y \n",
    "    # and respective color\n",
    "    plt.scatter(x[i], y[i], c = col[i], s = 20,\n",
    "                linewidth = 0, alpha=0.6)\n",
    "    plt.title(\"Price of Trailer by Weight in lbs\", fontsize=20)\n",
    "    plt.ylabel(\"Total Dry Weight (lbs)\", fontsize=15)\n",
    "    plt.xlabel(\"Price ($)\", fontsize=15)\n",
    "      \n",
    "plt.show()"
   ]
  },
  {
   "cell_type": "code",
   "execution_count": 19,
   "id": "c7b5581b",
   "metadata": {
    "execution": {
     "iopub.execute_input": "2023-03-10T11:42:17.171940Z",
     "iopub.status.busy": "2023-03-10T11:42:17.170948Z",
     "iopub.status.idle": "2023-03-10T11:42:17.185946Z",
     "shell.execute_reply": "2023-03-10T11:42:17.185094Z"
    },
    "papermill": {
     "duration": 0.038546,
     "end_time": "2023-03-10T11:42:17.188121",
     "exception": false,
     "start_time": "2023-03-10T11:42:17.149575",
     "status": "completed"
    },
    "tags": []
   },
   "outputs": [
    {
     "data": {
      "text/html": [
       "<div>\n",
       "<style scoped>\n",
       "    .dataframe tbody tr th:only-of-type {\n",
       "        vertical-align: middle;\n",
       "    }\n",
       "\n",
       "    .dataframe tbody tr th {\n",
       "        vertical-align: top;\n",
       "    }\n",
       "\n",
       "    .dataframe thead th {\n",
       "        text-align: right;\n",
       "    }\n",
       "</style>\n",
       "<table border=\"1\" class=\"dataframe\">\n",
       "  <thead>\n",
       "    <tr style=\"text-align: right;\">\n",
       "      <th></th>\n",
       "      <th>tdweight</th>\n",
       "      <th>length</th>\n",
       "      <th>ewidth</th>\n",
       "      <th>eheight</th>\n",
       "      <th>intheight</th>\n",
       "      <th>price</th>\n",
       "    </tr>\n",
       "  </thead>\n",
       "  <tbody>\n",
       "    <tr>\n",
       "      <th>tdweight</th>\n",
       "      <td>1.000000</td>\n",
       "      <td>0.591934</td>\n",
       "      <td>0.543366</td>\n",
       "      <td>0.613528</td>\n",
       "      <td>0.446133</td>\n",
       "      <td>0.798679</td>\n",
       "    </tr>\n",
       "    <tr>\n",
       "      <th>length</th>\n",
       "      <td>0.591934</td>\n",
       "      <td>1.000000</td>\n",
       "      <td>0.683093</td>\n",
       "      <td>0.604026</td>\n",
       "      <td>0.716880</td>\n",
       "      <td>0.412952</td>\n",
       "    </tr>\n",
       "    <tr>\n",
       "      <th>ewidth</th>\n",
       "      <td>0.543366</td>\n",
       "      <td>0.683093</td>\n",
       "      <td>1.000000</td>\n",
       "      <td>0.664586</td>\n",
       "      <td>0.674027</td>\n",
       "      <td>0.365495</td>\n",
       "    </tr>\n",
       "    <tr>\n",
       "      <th>eheight</th>\n",
       "      <td>0.613528</td>\n",
       "      <td>0.604026</td>\n",
       "      <td>0.664586</td>\n",
       "      <td>1.000000</td>\n",
       "      <td>0.484283</td>\n",
       "      <td>0.324960</td>\n",
       "    </tr>\n",
       "    <tr>\n",
       "      <th>intheight</th>\n",
       "      <td>0.446133</td>\n",
       "      <td>0.716880</td>\n",
       "      <td>0.674027</td>\n",
       "      <td>0.484283</td>\n",
       "      <td>1.000000</td>\n",
       "      <td>0.318688</td>\n",
       "    </tr>\n",
       "    <tr>\n",
       "      <th>price</th>\n",
       "      <td>0.798679</td>\n",
       "      <td>0.412952</td>\n",
       "      <td>0.365495</td>\n",
       "      <td>0.324960</td>\n",
       "      <td>0.318688</td>\n",
       "      <td>1.000000</td>\n",
       "    </tr>\n",
       "  </tbody>\n",
       "</table>\n",
       "</div>"
      ],
      "text/plain": [
       "           tdweight    length    ewidth   eheight  intheight     price\n",
       "tdweight   1.000000  0.591934  0.543366  0.613528   0.446133  0.798679\n",
       "length     0.591934  1.000000  0.683093  0.604026   0.716880  0.412952\n",
       "ewidth     0.543366  0.683093  1.000000  0.664586   0.674027  0.365495\n",
       "eheight    0.613528  0.604026  0.664586  1.000000   0.484283  0.324960\n",
       "intheight  0.446133  0.716880  0.674027  0.484283   1.000000  0.318688\n",
       "price      0.798679  0.412952  0.365495  0.324960   0.318688  1.000000"
      ]
     },
     "execution_count": 19,
     "metadata": {},
     "output_type": "execute_result"
    }
   ],
   "source": [
    "corr=data2.corr()\n",
    "corr"
   ]
  },
  {
   "cell_type": "code",
   "execution_count": 20,
   "id": "789813d8",
   "metadata": {
    "execution": {
     "iopub.execute_input": "2023-03-10T11:42:17.228612Z",
     "iopub.status.busy": "2023-03-10T11:42:17.227927Z",
     "iopub.status.idle": "2023-03-10T11:42:17.709355Z",
     "shell.execute_reply": "2023-03-10T11:42:17.708201Z"
    },
    "papermill": {
     "duration": 0.50518,
     "end_time": "2023-03-10T11:42:17.712419",
     "exception": false,
     "start_time": "2023-03-10T11:42:17.207239",
     "status": "completed"
    },
    "tags": []
   },
   "outputs": [
    {
     "data": {
      "text/plain": [
       "<AxesSubplot:>"
      ]
     },
     "execution_count": 20,
     "metadata": {},
     "output_type": "execute_result"
    },
    {
     "data": {
      "image/png": "[encoded data removed]",
      "text/plain": [
       "<Figure size 1000x800 with 2 Axes>"
      ]
     },
     "metadata": {},
     "output_type": "display_data"
    }
   ],
   "source": [
    "plt.figure(figsize=(10,8))\n",
    "sns.heatmap(corr,annot=True)"
   ]
  },
  {
   "cell_type": "markdown",
   "id": "0a12c4ee",
   "metadata": {
    "papermill": {
     "duration": 0.019935,
     "end_time": "2023-03-10T11:42:17.753193",
     "exception": false,
     "start_time": "2023-03-10T11:42:17.733258",
     "status": "completed"
    },
    "tags": []
   },
   "source": [
    "# Machine Learning Modeling\n",
    "The data is now clean and we can move forward with creating some machine learning models. Once we settle on the best model it can be used to predict the target price of the trailer in question."
   ]
  },
  {
   "cell_type": "code",
   "execution_count": 21,
   "id": "ac44c2fc",
   "metadata": {
    "execution": {
     "iopub.execute_input": "2023-03-10T11:42:17.796652Z",
     "iopub.status.busy": "2023-03-10T11:42:17.795841Z",
     "iopub.status.idle": "2023-03-10T11:42:17.803028Z",
     "shell.execute_reply": "2023-03-10T11:42:17.801832Z"
    },
    "papermill": {
     "duration": 0.031091,
     "end_time": "2023-03-10T11:42:17.805425",
     "exception": false,
     "start_time": "2023-03-10T11:42:17.774334",
     "status": "completed"
    },
    "tags": []
   },
   "outputs": [],
   "source": [
    "#here the data is split up into X,y where X contains everything but price and y contains what we want to predict (price)\n",
    "#price is what we want to predict\n",
    "X = data2.drop(['price'],axis=1)\n",
    "y=data2['price']"
   ]
  },
  {
   "cell_type": "code",
   "execution_count": 22,
   "id": "faa571ea",
   "metadata": {
    "execution": {
     "iopub.execute_input": "2023-03-10T11:42:17.846667Z",
     "iopub.status.busy": "2023-03-10T11:42:17.846268Z",
     "iopub.status.idle": "2023-03-10T11:42:17.854427Z",
     "shell.execute_reply": "2023-03-10T11:42:17.853396Z"
    },
    "papermill": {
     "duration": 0.031462,
     "end_time": "2023-03-10T11:42:17.856551",
     "exception": false,
     "start_time": "2023-03-10T11:42:17.825089",
     "status": "completed"
    },
    "tags": []
   },
   "outputs": [],
   "source": [
    "X_train,X_test,y_train,y_test = train_test_split(X,y,test_size=0.30,random_state=1)"
   ]
  },
  {
   "cell_type": "code",
   "execution_count": 23,
   "id": "3331861e",
   "metadata": {
    "execution": {
     "iopub.execute_input": "2023-03-10T11:42:17.897429Z",
     "iopub.status.busy": "2023-03-10T11:42:17.897001Z",
     "iopub.status.idle": "2023-03-10T11:42:17.907741Z",
     "shell.execute_reply": "2023-03-10T11:42:17.906896Z"
    },
    "papermill": {
     "duration": 0.033933,
     "end_time": "2023-03-10T11:42:17.909957",
     "exception": false,
     "start_time": "2023-03-10T11:42:17.876024",
     "status": "completed"
    },
    "tags": []
   },
   "outputs": [],
   "source": [
    "#scaling the data\n",
    "#this usually helps with modeling\n",
    "scaler = StandardScaler()\n",
    "\n",
    "X_train_scaled = scaler.fit_transform(X_train)\n",
    "X_test_scaled = scaler.transform(X_test)"
   ]
  },
  {
   "cell_type": "code",
   "execution_count": 24,
   "id": "3dcc5a9c",
   "metadata": {
    "execution": {
     "iopub.execute_input": "2023-03-10T11:42:17.952385Z",
     "iopub.status.busy": "2023-03-10T11:42:17.952015Z",
     "iopub.status.idle": "2023-03-10T11:42:17.957170Z",
     "shell.execute_reply": "2023-03-10T11:42:17.956366Z"
    },
    "papermill": {
     "duration": 0.028815,
     "end_time": "2023-03-10T11:42:17.959202",
     "exception": false,
     "start_time": "2023-03-10T11:42:17.930387",
     "status": "completed"
    },
    "tags": []
   },
   "outputs": [],
   "source": [
    "#function which runs different ML models and prints R^2, MAE and RMSE\n",
    "def run_experiment(model):\n",
    "    model.fit(X_train_scaled, y_train)\n",
    "    y_pred = model.predict(X_test_scaled)\n",
    "    print(\"R^2 : \", r2_score(y_test, y_pred))\n",
    "    print(\"MAE :\", mean_absolute_error(y_test,y_pred))\n",
    "    print(\"RMSE:\",np.sqrt(mean_squared_error(y_test, y_pred)))"
   ]
  },
  {
   "cell_type": "markdown",
   "id": "cf9cadae",
   "metadata": {
    "papermill": {
     "duration": 0.019891,
     "end_time": "2023-03-10T11:42:17.999501",
     "exception": false,
     "start_time": "2023-03-10T11:42:17.979610",
     "status": "completed"
    },
    "tags": []
   },
   "source": [
    "Now the data is all cleaned up and ready for creating some machine learning models. A funtion has been written to run various models and output metrics "
   ]
  },
  {
   "cell_type": "code",
   "execution_count": 25,
   "id": "87dc0dd6",
   "metadata": {
    "execution": {
     "iopub.execute_input": "2023-03-10T11:42:18.042622Z",
     "iopub.status.busy": "2023-03-10T11:42:18.041774Z",
     "iopub.status.idle": "2023-03-10T11:42:18.054187Z",
     "shell.execute_reply": "2023-03-10T11:42:18.052897Z"
    },
    "papermill": {
     "duration": 0.038001,
     "end_time": "2023-03-10T11:42:18.057476",
     "exception": false,
     "start_time": "2023-03-10T11:42:18.019475",
     "status": "completed"
    },
    "tags": []
   },
   "outputs": [
    {
     "name": "stdout",
     "output_type": "stream",
     "text": [
      "R^2 :  0.7991090804350429\n",
      "MAE : 2873.507318134626\n",
      "RMSE: 3965.873144566301\n"
     ]
    }
   ],
   "source": [
    "model_1 = LinearRegression()\n",
    "run_experiment(model_1)"
   ]
  },
  {
   "cell_type": "code",
   "execution_count": 26,
   "id": "7c930e96",
   "metadata": {
    "execution": {
     "iopub.execute_input": "2023-03-10T11:42:18.101247Z",
     "iopub.status.busy": "2023-03-10T11:42:18.100453Z",
     "iopub.status.idle": "2023-03-10T11:42:18.111055Z",
     "shell.execute_reply": "2023-03-10T11:42:18.109562Z"
    },
    "papermill": {
     "duration": 0.034552,
     "end_time": "2023-03-10T11:42:18.113334",
     "exception": false,
     "start_time": "2023-03-10T11:42:18.078782",
     "status": "completed"
    },
    "tags": []
   },
   "outputs": [
    {
     "name": "stdout",
     "output_type": "stream",
     "text": [
      "R^2 :  0.3753453720294496\n",
      "MAE : 4614.678571428572\n",
      "RMSE: 6993.2434305243105\n"
     ]
    }
   ],
   "source": [
    "model_2 = DecisionTreeRegressor(random_state = 1)\n",
    "run_experiment(model_2)"
   ]
  },
  {
   "cell_type": "code",
   "execution_count": 27,
   "id": "dbe70c9c",
   "metadata": {
    "execution": {
     "iopub.execute_input": "2023-03-10T11:42:18.155577Z",
     "iopub.status.busy": "2023-03-10T11:42:18.154532Z",
     "iopub.status.idle": "2023-03-10T11:42:18.168208Z",
     "shell.execute_reply": "2023-03-10T11:42:18.166834Z"
    },
    "papermill": {
     "duration": 0.037236,
     "end_time": "2023-03-10T11:42:18.170599",
     "exception": false,
     "start_time": "2023-03-10T11:42:18.133363",
     "status": "completed"
    },
    "tags": []
   },
   "outputs": [
    {
     "name": "stdout",
     "output_type": "stream",
     "text": [
      "R^2 :  0.28894017428510144\n",
      "MAE : 4898.464281721965\n",
      "RMSE: 7461.25247713512\n"
     ]
    }
   ],
   "source": [
    "model_3 = Ridge(alpha=100, solver='cholesky', tol=0.0001, random_state=1)\n",
    "run_experiment(model_3)"
   ]
  },
  {
   "cell_type": "code",
   "execution_count": 28,
   "id": "678c690f",
   "metadata": {
    "execution": {
     "iopub.execute_input": "2023-03-10T11:42:18.213389Z",
     "iopub.status.busy": "2023-03-10T11:42:18.212957Z",
     "iopub.status.idle": "2023-03-10T11:42:18.224625Z",
     "shell.execute_reply": "2023-03-10T11:42:18.222943Z"
    },
    "papermill": {
     "duration": 0.035901,
     "end_time": "2023-03-10T11:42:18.226757",
     "exception": false,
     "start_time": "2023-03-10T11:42:18.190856",
     "status": "completed"
    },
    "tags": []
   },
   "outputs": [
    {
     "name": "stdout",
     "output_type": "stream",
     "text": [
      "R^2 :  0.7472725353385832\n",
      "MAE : 2984.3913531089916\n",
      "RMSE: 4448.205936314322\n"
     ]
    }
   ],
   "source": [
    "model_4 = Lasso(alpha=0.1, precompute=True, positive=True, selection='random', random_state=1)\n",
    "run_experiment(model_4)"
   ]
  },
  {
   "cell_type": "code",
   "execution_count": 29,
   "id": "86382aec",
   "metadata": {
    "execution": {
     "iopub.execute_input": "2023-03-10T11:42:18.270163Z",
     "iopub.status.busy": "2023-03-10T11:42:18.268275Z",
     "iopub.status.idle": "2023-03-10T11:42:18.280228Z",
     "shell.execute_reply": "2023-03-10T11:42:18.278817Z"
    },
    "papermill": {
     "duration": 0.03557,
     "end_time": "2023-03-10T11:42:18.282707",
     "exception": false,
     "start_time": "2023-03-10T11:42:18.247137",
     "status": "completed"
    },
    "tags": []
   },
   "outputs": [
    {
     "name": "stdout",
     "output_type": "stream",
     "text": [
      "R^2 :  0.7939948730170724\n",
      "MAE : 2906.116459518383\n",
      "RMSE: 4016.0367619227927\n"
     ]
    }
   ],
   "source": [
    "model_5 = ElasticNet(alpha=0.1, l1_ratio=0.9, selection='random', random_state=1)\n",
    "run_experiment(model_5)"
   ]
  },
  {
   "cell_type": "code",
   "execution_count": 30,
   "id": "518cd327",
   "metadata": {
    "execution": {
     "iopub.execute_input": "2023-03-10T11:42:18.325811Z",
     "iopub.status.busy": "2023-03-10T11:42:18.324624Z",
     "iopub.status.idle": "2023-03-10T11:42:18.337949Z",
     "shell.execute_reply": "2023-03-10T11:42:18.335546Z"
    },
    "papermill": {
     "duration": 0.038975,
     "end_time": "2023-03-10T11:42:18.341954",
     "exception": false,
     "start_time": "2023-03-10T11:42:18.302979",
     "status": "completed"
    },
    "tags": []
   },
   "outputs": [
    {
     "name": "stdout",
     "output_type": "stream",
     "text": [
      "R^2 :  0.799215569306703\n",
      "MAE : 2872.2522051560795\n",
      "RMSE: 3964.8218841648522\n"
     ]
    },
    {
     "name": "stderr",
     "output_type": "stream",
     "text": [
      "/opt/conda/lib/python3.7/site-packages/sklearn/linear_model/_base.py:138: FutureWarning: The default of 'normalize' will be set to False in version 1.2 and deprecated in version 1.4.\n",
      "If you wish to scale the data, use Pipeline with a StandardScaler in a preprocessing stage. To reproduce the previous behavior:\n",
      "\n",
      "from sklearn.pipeline import make_pipeline\n",
      "\n",
      "model = make_pipeline(StandardScaler(with_mean=False), LassoLars())\n",
      "\n",
      "If you wish to pass a sample_weight parameter, you need to pass it as a fit parameter to each step of the pipeline as follows:\n",
      "\n",
      "kwargs = {s[0] + '__sample_weight': sample_weight for s in model.steps}\n",
      "model.fit(X, y, **kwargs)\n",
      "\n",
      "Set parameter alpha to: original_alpha * np.sqrt(n_samples). \n",
      "  FutureWarning,\n"
     ]
    }
   ],
   "source": [
    "model_6 = LassoLars(alpha=.1)\n",
    "run_experiment(model_6)"
   ]
  },
  {
   "cell_type": "code",
   "execution_count": 31,
   "id": "e7bd1f2d",
   "metadata": {
    "execution": {
     "iopub.execute_input": "2023-03-10T11:42:18.388143Z",
     "iopub.status.busy": "2023-03-10T11:42:18.386772Z",
     "iopub.status.idle": "2023-03-10T11:42:18.399965Z",
     "shell.execute_reply": "2023-03-10T11:42:18.398393Z"
    },
    "papermill": {
     "duration": 0.039568,
     "end_time": "2023-03-10T11:42:18.403269",
     "exception": false,
     "start_time": "2023-03-10T11:42:18.363701",
     "status": "completed"
    },
    "tags": []
   },
   "outputs": [
    {
     "name": "stdout",
     "output_type": "stream",
     "text": [
      "R^2 :  0.7737451139091855\n",
      "MAE : 3023.05067299995\n",
      "RMSE: 4208.79379442033\n"
     ]
    }
   ],
   "source": [
    "model_7 = BayesianRidge()\n",
    "run_experiment(model_7)"
   ]
  },
  {
   "cell_type": "code",
   "execution_count": 32,
   "id": "8f1bc067",
   "metadata": {
    "execution": {
     "iopub.execute_input": "2023-03-10T11:42:18.449689Z",
     "iopub.status.busy": "2023-03-10T11:42:18.449097Z",
     "iopub.status.idle": "2023-03-10T11:42:18.460948Z",
     "shell.execute_reply": "2023-03-10T11:42:18.459580Z"
    },
    "papermill": {
     "duration": 0.037537,
     "end_time": "2023-03-10T11:42:18.463494",
     "exception": false,
     "start_time": "2023-03-10T11:42:18.425957",
     "status": "completed"
    },
    "tags": []
   },
   "outputs": [
    {
     "name": "stdout",
     "output_type": "stream",
     "text": [
      "R^2 :  0.7942997644104152\n",
      "MAE : 2904.596435947659\n",
      "RMSE: 4013.063757193266\n"
     ]
    }
   ],
   "source": [
    "model_8 = SGDRegressor(max_iter=1000, tol=1e-3)\n",
    "run_experiment(model_8)"
   ]
  },
  {
   "cell_type": "code",
   "execution_count": 33,
   "id": "51f6c1e5",
   "metadata": {
    "execution": {
     "iopub.execute_input": "2023-03-10T11:42:18.510272Z",
     "iopub.status.busy": "2023-03-10T11:42:18.509386Z",
     "iopub.status.idle": "2023-03-10T11:42:18.520005Z",
     "shell.execute_reply": "2023-03-10T11:42:18.518768Z"
    },
    "papermill": {
     "duration": 0.037408,
     "end_time": "2023-03-10T11:42:18.522788",
     "exception": false,
     "start_time": "2023-03-10T11:42:18.485380",
     "status": "completed"
    },
    "tags": []
   },
   "outputs": [
    {
     "name": "stdout",
     "output_type": "stream",
     "text": [
      "R^2 :  -0.27667679074047435\n",
      "MAE : 6569.762571368822\n",
      "RMSE: 9997.678035867588\n"
     ]
    }
   ],
   "source": [
    "model_9 = SVR(epsilon=0.2)\n",
    "run_experiment(model_9)"
   ]
  },
  {
   "cell_type": "code",
   "execution_count": 34,
   "id": "ab86b6a0",
   "metadata": {
    "execution": {
     "iopub.execute_input": "2023-03-10T11:42:18.568916Z",
     "iopub.status.busy": "2023-03-10T11:42:18.568447Z",
     "iopub.status.idle": "2023-03-10T11:42:18.710895Z",
     "shell.execute_reply": "2023-03-10T11:42:18.709072Z"
    },
    "papermill": {
     "duration": 0.169828,
     "end_time": "2023-03-10T11:42:18.714602",
     "exception": false,
     "start_time": "2023-03-10T11:42:18.544774",
     "status": "completed"
    },
    "tags": []
   },
   "outputs": [
    {
     "name": "stdout",
     "output_type": "stream",
     "text": [
      "R^2 :  0.7179004597233365\n",
      "MAE : 3374.869178096708\n",
      "RMSE: 4699.5887365206645\n"
     ]
    }
   ],
   "source": [
    "model_10 = RandomForestRegressor(n_estimators=100, min_samples_leaf=3, random_state=1)\n",
    "run_experiment(model_10)"
   ]
  },
  {
   "cell_type": "markdown",
   "id": "764df71a",
   "metadata": {
    "papermill": {
     "duration": 0.02151,
     "end_time": "2023-03-10T11:42:18.758889",
     "exception": false,
     "start_time": "2023-03-10T11:42:18.737379",
     "status": "completed"
    },
    "tags": []
   },
   "source": [
    "At first the Random Forest model was preforming the best, but now it is changing every time new data is added, so more comments will be made later."
   ]
  },
  {
   "cell_type": "markdown",
   "id": "3abe9a45",
   "metadata": {
    "papermill": {
     "duration": 0.021212,
     "end_time": "2023-03-10T11:42:18.801899",
     "exception": false,
     "start_time": "2023-03-10T11:42:18.780687",
     "status": "completed"
    },
    "tags": []
   },
   "source": [
    "## Hyperparameter Tuning\n",
    "Started this when the Random Forest was working better than other models by far, but now it's clear need to wait until the dataset is more complete."
   ]
  },
  {
   "cell_type": "code",
   "execution_count": 35,
   "id": "cf52aedf",
   "metadata": {
    "execution": {
     "iopub.execute_input": "2023-03-10T11:42:18.848355Z",
     "iopub.status.busy": "2023-03-10T11:42:18.847590Z",
     "iopub.status.idle": "2023-03-10T11:42:18.852056Z",
     "shell.execute_reply": "2023-03-10T11:42:18.851087Z"
    },
    "papermill": {
     "duration": 0.030797,
     "end_time": "2023-03-10T11:42:18.854452",
     "exception": false,
     "start_time": "2023-03-10T11:42:18.823655",
     "status": "completed"
    },
    "tags": []
   },
   "outputs": [],
   "source": [
    "#rfc=RandomForestRegressor(random_state=1)"
   ]
  },
  {
   "cell_type": "code",
   "execution_count": 36,
   "id": "e9366feb",
   "metadata": {
    "execution": {
     "iopub.execute_input": "2023-03-10T11:42:18.901216Z",
     "iopub.status.busy": "2023-03-10T11:42:18.900288Z",
     "iopub.status.idle": "2023-03-10T11:42:18.904864Z",
     "shell.execute_reply": "2023-03-10T11:42:18.904008Z"
    },
    "papermill": {
     "duration": 0.030593,
     "end_time": "2023-03-10T11:42:18.906967",
     "exception": false,
     "start_time": "2023-03-10T11:42:18.876374",
     "status": "completed"
    },
    "tags": []
   },
   "outputs": [],
   "source": [
    "#param_grid = { \n",
    "#    'n_estimators': [100, 500, 1000, 5000],\n",
    "#    'max_features': ['auto', 'sqrt', 'log2'],\n",
    "    #to save time in updating the notebook, max_depth is also left out\n",
    "#    'max_depth' : [5, 10, 15],\n",
    "#    'min_samples_leaf' : [1,2,3,5],\n",
    "    #'criterion' :['squared_error', 'absolute_error', 'friedman_mse']\n",
    "#}\n"
   ]
  },
  {
   "cell_type": "code",
   "execution_count": 37,
   "id": "632cd6c5",
   "metadata": {
    "execution": {
     "iopub.execute_input": "2023-03-10T11:42:18.954956Z",
     "iopub.status.busy": "2023-03-10T11:42:18.954217Z",
     "iopub.status.idle": "2023-03-10T11:42:18.958402Z",
     "shell.execute_reply": "2023-03-10T11:42:18.957368Z"
    },
    "papermill": {
     "duration": 0.031458,
     "end_time": "2023-03-10T11:42:18.960811",
     "exception": false,
     "start_time": "2023-03-10T11:42:18.929353",
     "status": "completed"
    },
    "tags": []
   },
   "outputs": [],
   "source": [
    "#CV_rfc = GridSearchCV(estimator=rfc, param_grid=param_grid, cv= 5)\n",
    "#CV_rfc.fit(X_train_scaled, y_train)"
   ]
  },
  {
   "cell_type": "code",
   "execution_count": 38,
   "id": "0fce4d5a",
   "metadata": {
    "execution": {
     "iopub.execute_input": "2023-03-10T11:42:19.007661Z",
     "iopub.status.busy": "2023-03-10T11:42:19.007157Z",
     "iopub.status.idle": "2023-03-10T11:42:19.012011Z",
     "shell.execute_reply": "2023-03-10T11:42:19.011048Z"
    },
    "papermill": {
     "duration": 0.031511,
     "end_time": "2023-03-10T11:42:19.014168",
     "exception": false,
     "start_time": "2023-03-10T11:42:18.982657",
     "status": "completed"
    },
    "tags": []
   },
   "outputs": [],
   "source": [
    "#print the best parameters determined in GridSearchCV\n",
    "#CV_rfc.best_params_"
   ]
  },
  {
   "cell_type": "code",
   "execution_count": 39,
   "id": "cf75e223",
   "metadata": {
    "execution": {
     "iopub.execute_input": "2023-03-10T11:42:19.064792Z",
     "iopub.status.busy": "2023-03-10T11:42:19.062896Z",
     "iopub.status.idle": "2023-03-10T11:42:19.069034Z",
     "shell.execute_reply": "2023-03-10T11:42:19.067886Z"
    },
    "papermill": {
     "duration": 0.034054,
     "end_time": "2023-03-10T11:42:19.071642",
     "exception": false,
     "start_time": "2023-03-10T11:42:19.037588",
     "status": "completed"
    },
    "tags": []
   },
   "outputs": [],
   "source": [
    "#run a final model using the optimal parameters\n",
    "#final_model = RandomForestRegressor(n_estimators=5000, max_features='sqrt', max_depth=10, min_samples_leaf=1, random_state=1)\n",
    "#run_experiment(final_model)"
   ]
  },
  {
   "cell_type": "markdown",
   "id": "b970fb7b",
   "metadata": {
    "papermill": {
     "duration": 0.021632,
     "end_time": "2023-03-10T11:42:19.115824",
     "exception": false,
     "start_time": "2023-03-10T11:42:19.094192",
     "status": "completed"
    },
    "tags": []
   },
   "source": [
    "# Making a prediction for the target "
   ]
  },
  {
   "cell_type": "code",
   "execution_count": 40,
   "id": "33f880f8",
   "metadata": {
    "execution": {
     "iopub.execute_input": "2023-03-10T11:42:19.162293Z",
     "iopub.status.busy": "2023-03-10T11:42:19.161717Z",
     "iopub.status.idle": "2023-03-10T11:42:19.178516Z",
     "shell.execute_reply": "2023-03-10T11:42:19.177419Z"
    },
    "papermill": {
     "duration": 0.0428,
     "end_time": "2023-03-10T11:42:19.180884",
     "exception": false,
     "start_time": "2023-03-10T11:42:19.138084",
     "status": "completed"
    },
    "tags": []
   },
   "outputs": [
    {
     "data": {
      "text/html": [
       "<div>\n",
       "<style scoped>\n",
       "    .dataframe tbody tr th:only-of-type {\n",
       "        vertical-align: middle;\n",
       "    }\n",
       "\n",
       "    .dataframe tbody tr th {\n",
       "        vertical-align: top;\n",
       "    }\n",
       "\n",
       "    .dataframe thead th {\n",
       "        text-align: right;\n",
       "    }\n",
       "</style>\n",
       "<table border=\"1\" class=\"dataframe\">\n",
       "  <thead>\n",
       "    <tr style=\"text-align: right;\">\n",
       "      <th></th>\n",
       "      <th>total dry weight</th>\n",
       "      <th>length</th>\n",
       "      <th>exterior width</th>\n",
       "      <th>exterior height</th>\n",
       "      <th>interior height</th>\n",
       "      <th>price</th>\n",
       "    </tr>\n",
       "  </thead>\n",
       "  <tbody>\n",
       "    <tr>\n",
       "      <th>53</th>\n",
       "      <td>850.0</td>\n",
       "      <td>144.0</td>\n",
       "      <td>93.0</td>\n",
       "      <td>72.0</td>\n",
       "      <td>47.0</td>\n",
       "      <td>9995.0</td>\n",
       "    </tr>\n",
       "  </tbody>\n",
       "</table>\n",
       "</div>"
      ],
      "text/plain": [
       "    total dry weight  length  exterior width  exterior height  \\\n",
       "53             850.0   144.0            93.0             72.0   \n",
       "\n",
       "    interior height   price  \n",
       "53             47.0  9995.0  "
      ]
     },
     "execution_count": 40,
     "metadata": {},
     "output_type": "execute_result"
    }
   ],
   "source": [
    "#select the row of the target\n",
    "new_input = data.iloc[53:54]\n",
    "new_input"
   ]
  },
  {
   "cell_type": "code",
   "execution_count": 41,
   "id": "e2206b82",
   "metadata": {
    "execution": {
     "iopub.execute_input": "2023-03-10T11:42:19.227618Z",
     "iopub.status.busy": "2023-03-10T11:42:19.226490Z",
     "iopub.status.idle": "2023-03-10T11:42:19.241969Z",
     "shell.execute_reply": "2023-03-10T11:42:19.240736Z"
    },
    "papermill": {
     "duration": 0.041497,
     "end_time": "2023-03-10T11:42:19.244441",
     "exception": false,
     "start_time": "2023-03-10T11:42:19.202944",
     "status": "completed"
    },
    "tags": []
   },
   "outputs": [
    {
     "data": {
      "text/html": [
       "<div>\n",
       "<style scoped>\n",
       "    .dataframe tbody tr th:only-of-type {\n",
       "        vertical-align: middle;\n",
       "    }\n",
       "\n",
       "    .dataframe tbody tr th {\n",
       "        vertical-align: top;\n",
       "    }\n",
       "\n",
       "    .dataframe thead th {\n",
       "        text-align: right;\n",
       "    }\n",
       "</style>\n",
       "<table border=\"1\" class=\"dataframe\">\n",
       "  <thead>\n",
       "    <tr style=\"text-align: right;\">\n",
       "      <th></th>\n",
       "      <th>total dry weight</th>\n",
       "      <th>length</th>\n",
       "      <th>exterior width</th>\n",
       "      <th>exterior height</th>\n",
       "      <th>interior height</th>\n",
       "    </tr>\n",
       "  </thead>\n",
       "  <tbody>\n",
       "    <tr>\n",
       "      <th>53</th>\n",
       "      <td>850.0</td>\n",
       "      <td>144.0</td>\n",
       "      <td>93.0</td>\n",
       "      <td>72.0</td>\n",
       "      <td>47.0</td>\n",
       "    </tr>\n",
       "  </tbody>\n",
       "</table>\n",
       "</div>"
      ],
      "text/plain": [
       "    total dry weight  length  exterior width  exterior height  interior height\n",
       "53             850.0   144.0            93.0             72.0             47.0"
      ]
     },
     "execution_count": 41,
     "metadata": {},
     "output_type": "execute_result"
    }
   ],
   "source": [
    "#drop the variable to be predicted\n",
    "new_input=new_input.drop(['price'],axis=1)\n",
    "new_input"
   ]
  },
  {
   "cell_type": "code",
   "execution_count": 42,
   "id": "678c91cf",
   "metadata": {
    "execution": {
     "iopub.execute_input": "2023-03-10T11:42:19.291135Z",
     "iopub.status.busy": "2023-03-10T11:42:19.289620Z",
     "iopub.status.idle": "2023-03-10T11:42:19.299882Z",
     "shell.execute_reply": "2023-03-10T11:42:19.298257Z"
    },
    "papermill": {
     "duration": 0.036793,
     "end_time": "2023-03-10T11:42:19.303059",
     "exception": false,
     "start_time": "2023-03-10T11:42:19.266266",
     "status": "completed"
    },
    "tags": []
   },
   "outputs": [],
   "source": [
    "#scale the new input\n",
    "new_input_scaled = scaler.fit_transform(new_input)"
   ]
  },
  {
   "cell_type": "code",
   "execution_count": 43,
   "id": "bdaf6bc7",
   "metadata": {
    "execution": {
     "iopub.execute_input": "2023-03-10T11:42:19.349957Z",
     "iopub.status.busy": "2023-03-10T11:42:19.349439Z",
     "iopub.status.idle": "2023-03-10T11:42:19.357520Z",
     "shell.execute_reply": "2023-03-10T11:42:19.356386Z"
    },
    "papermill": {
     "duration": 0.034604,
     "end_time": "2023-03-10T11:42:19.360027",
     "exception": false,
     "start_time": "2023-03-10T11:42:19.325423",
     "status": "completed"
    },
    "tags": []
   },
   "outputs": [
    {
     "data": {
      "text/plain": [
       "array([12411.57711207])"
      ]
     },
     "execution_count": 43,
     "metadata": {},
     "output_type": "execute_result"
    }
   ],
   "source": [
    "#gives prediction in USD\n",
    "new_output = model_9.predict(new_input_scaled)\n",
    "new_output"
   ]
  },
  {
   "cell_type": "markdown",
   "id": "9c87b956",
   "metadata": {
    "papermill": {
     "duration": 0.021288,
     "end_time": "2023-03-10T11:42:19.404298",
     "exception": false,
     "start_time": "2023-03-10T11:42:19.383010",
     "status": "completed"
    },
    "tags": []
   },
   "source": [
    "# Notes on the metrics used\n",
    "✔️ Regression Evaluation Metrics\n",
    "Here are three common evaluation metrics for regression problems:\n",
    "\n",
    "Mean Absolute Error (MAE) is the mean of the absolute value of the errors:\n",
    "1𝑛∑𝑖=1𝑛|𝑦𝑖−𝑦̂𝑖|\n",
    "1\n",
    "n\n",
    "∑\n",
    "i\n",
    "=\n",
    "1\n",
    "n\n",
    "|\n",
    "y\n",
    "i\n",
    "−\n",
    "y\n",
    "^\n",
    "i\n",
    "|\n",
    " \n",
    "\n",
    " \n",
    "Mean Squared Error (MSE) is the mean of the squared errors:\n",
    "1𝑛∑𝑖=1𝑛(𝑦𝑖−𝑦̂𝑖)2\n",
    "1\n",
    "n\n",
    "∑\n",
    "i\n",
    "=\n",
    "1\n",
    "n\n",
    "(\n",
    "y\n",
    "i\n",
    "−\n",
    "y\n",
    "^\n",
    "i\n",
    ")\n",
    "2\n",
    " \n",
    "Root Mean Squared Error (RMSE) is the square root of the mean of the squared errors:\n",
    "1𝑛∑𝑖=1𝑛(𝑦𝑖−𝑦̂𝑖)2‾‾‾‾‾‾‾‾‾‾‾‾‾‾⎷\n",
    "1\n",
    "n\n",
    "∑\n",
    "i\n",
    "=\n",
    "1\n",
    "n\n",
    "(\n",
    "y\n",
    "i\n",
    "−\n",
    "y\n",
    "^\n",
    "i\n",
    ")\n",
    "2\n",
    " \n",
    "📌 Comparing these metrics:\n",
    "\n",
    "MAE is the easiest to understand, because it's the average error.\n",
    "MSE is more popular than MAE, because MSE \"punishes\" larger errors, which tends to be useful in the real world.\n",
    "RMSE is even more popular than MSE, because RMSE is interpretable in the \"y\" units.\n",
    "All of these are loss functions, because we want to minimize them."
   ]
  },
  {
   "cell_type": "markdown",
   "id": "a2cd053f",
   "metadata": {
    "papermill": {
     "duration": 0.021392,
     "end_time": "2023-03-10T11:42:19.447222",
     "exception": false,
     "start_time": "2023-03-10T11:42:19.425830",
     "status": "completed"
    },
    "tags": []
   },
   "source": [
    "https://www.kaggle.com/code/faressayah/practical-introduction-to-10-regression-algorithm?scriptVersionId=117768677&cellId=36"
   ]
  },
  {
   "cell_type": "markdown",
   "id": "25a86ab8",
   "metadata": {
    "papermill": {
     "duration": 0.02102,
     "end_time": "2023-03-10T11:42:19.489508",
     "exception": false,
     "start_time": "2023-03-10T11:42:19.468488",
     "status": "completed"
    },
    "tags": []
   },
   "source": [
    "<iframe src=\"https://www.kaggle.com/embed/faressayah/practical-introduction-to-10-regression-algorithm?cellIds=36&kernelSessionId=117768677\" height=\"300\" style=\"margin: 0 auto; width: 100%; max-width: 950px;\" frameborder=\"0\" scrolling=\"auto\" title=\"Practical Introduction to 10 Regression Algorithm\"></iframe>"
   ]
  }
 ],
 "metadata": {
  "kernelspec": {
   "display_name": "Python 3",
   "language": "python",
   "name": "python3"
  },
  "language_info": {
   "codemirror_mode": {
    "name": "ipython",
    "version": 3
   },
   "file_extension": ".py",
   "mimetype": "text/x-python",
   "name": "python",
   "nbconvert_exporter": "python",
   "pygments_lexer": "ipython3",
   "version": "3.7.12"
  },
  "papermill": {
   "default_parameters": {},
   "duration": 24.173808,
   "end_time": "2023-03-10T11:42:20.433584",
   "environment_variables": {},
   "exception": null,
   "input_path": "__notebook__.ipynb",
   "output_path": "__notebook__.ipynb",
   "parameters": {},
   "start_time": "2023-03-10T11:41:56.259776",
   "version": "2.3.4"
  }
 },
 "nbformat": 4,
 "nbformat_minor": 5
}
