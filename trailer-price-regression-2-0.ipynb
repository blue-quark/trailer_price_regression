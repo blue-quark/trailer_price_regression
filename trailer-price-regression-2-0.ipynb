{
 "cells": [
  {
   "cell_type": "code",
   "execution_count": 1,
   "id": "a67026ef",
   "metadata": {
    "_cell_guid": "b1076dfc-b9ad-4769-8c92-a6c4dae69d19",
    "_uuid": "8f2839f25d086af736a60e9eeb907d3b93b6e0e5",
    "execution": {
     "iopub.execute_input": "2023-03-06T20:29:01.339614Z",
     "iopub.status.busy": "2023-03-06T20:29:01.339179Z",
     "iopub.status.idle": "2023-03-06T20:29:03.262823Z",
     "shell.execute_reply": "2023-03-06T20:29:03.261727Z"
    },
    "papermill": {
     "duration": 1.940281,
     "end_time": "2023-03-06T20:29:03.265339",
     "exception": false,
     "start_time": "2023-03-06T20:29:01.325058",
     "status": "completed"
    },
    "tags": []
   },
   "outputs": [
    {
     "name": "stdout",
     "output_type": "stream",
     "text": [
      "/kaggle/input/trailer-prices/trailerdata1.csv\n",
      "/kaggle/input/trailer-prices/trailerdata2.csv\n"
     ]
    }
   ],
   "source": [
    "import numpy as np # linear algebra\n",
    "import pandas as pd # data processing, CSV file I/O (e.g. pd.read_csv)\n",
    "\n",
    "import matplotlib.pyplot as plt\n",
    "import seaborn as sns\n",
    "\n",
    "import os\n",
    "for dirname, _, filenames in os.walk('/kaggle/input'):\n",
    "    for filename in filenames:\n",
    "        print(os.path.join(dirname, filename))\n",
    "        \n",
    "        \n",
    "#Scaling and Splitting\n",
    "from sklearn.preprocessing import StandardScaler,MinMaxScaler,RobustScaler\n",
    "from sklearn.model_selection import train_test_split\n",
    "\n",
    "#Modeling\n",
    "from sklearn.linear_model import LassoLars\n",
    "from sklearn.linear_model import BayesianRidge\n",
    "from sklearn.linear_model import SGDRegressor\n",
    "from sklearn.svm import SVR\n",
    "from sklearn.linear_model import LinearRegression\n",
    "from sklearn.tree import DecisionTreeRegressor\n",
    "from sklearn.ensemble import RandomForestRegressor\n",
    "from sklearn.linear_model import Ridge\n",
    "from sklearn.linear_model import Lasso\n",
    "from sklearn.linear_model import ElasticNet\n",
    "\n",
    "#Evaluation\n",
    "from sklearn.model_selection import cross_validate, GridSearchCV\n",
    "from sklearn.metrics import mean_absolute_error,r2_score,mean_squared_error"
   ]
  },
  {
   "cell_type": "markdown",
   "id": "635c80a5",
   "metadata": {
    "papermill": {
     "duration": 0.010222,
     "end_time": "2023-03-06T20:29:03.286401",
     "exception": false,
     "start_time": "2023-03-06T20:29:03.276179",
     "status": "completed"
    },
    "tags": []
   },
   "source": [
    "# About this notebook\n",
    "This notebook aims to predict the price of a product (trailer) for an early stage start-up. The data has been anonymized. Due to the web infrastructure of other manufacturers of similar trailers, the data was collected by hand. This project is still on-going and updated regularly. \n",
    "\n",
    "## Current Challenges\n",
    "Currently the challenge is to deal with the small amount of data. There are unfortunately not many data points availbale in general, but work is underway to fill gather at least 100 data points with more features for modeling. "
   ]
  },
  {
   "cell_type": "code",
   "execution_count": 2,
   "id": "7cf75385",
   "metadata": {
    "execution": {
     "iopub.execute_input": "2023-03-06T20:29:03.310700Z",
     "iopub.status.busy": "2023-03-06T20:29:03.310112Z",
     "iopub.status.idle": "2023-03-06T20:29:03.348690Z",
     "shell.execute_reply": "2023-03-06T20:29:03.347800Z"
    },
    "papermill": {
     "duration": 0.05384,
     "end_time": "2023-03-06T20:29:03.350784",
     "exception": false,
     "start_time": "2023-03-06T20:29:03.296944",
     "status": "completed"
    },
    "tags": []
   },
   "outputs": [
    {
     "data": {
      "text/html": [
       "<div>\n",
       "<style scoped>\n",
       "    .dataframe tbody tr th:only-of-type {\n",
       "        vertical-align: middle;\n",
       "    }\n",
       "\n",
       "    .dataframe tbody tr th {\n",
       "        vertical-align: top;\n",
       "    }\n",
       "\n",
       "    .dataframe thead th {\n",
       "        text-align: right;\n",
       "    }\n",
       "</style>\n",
       "<table border=\"1\" class=\"dataframe\">\n",
       "  <thead>\n",
       "    <tr style=\"text-align: right;\">\n",
       "      <th></th>\n",
       "      <th>total dry weight</th>\n",
       "      <th>length</th>\n",
       "      <th>exterior width</th>\n",
       "      <th>exterior height</th>\n",
       "      <th>interior height</th>\n",
       "      <th>price</th>\n",
       "    </tr>\n",
       "  </thead>\n",
       "  <tbody>\n",
       "    <tr>\n",
       "      <th>0</th>\n",
       "      <td>1660.0</td>\n",
       "      <td>198.0</td>\n",
       "      <td>102.0</td>\n",
       "      <td>84.0</td>\n",
       "      <td>54.0</td>\n",
       "      <td>14879.0</td>\n",
       "    </tr>\n",
       "    <tr>\n",
       "      <th>1</th>\n",
       "      <td>2260.0</td>\n",
       "      <td>194.0</td>\n",
       "      <td>102.0</td>\n",
       "      <td>108.0</td>\n",
       "      <td>74.0</td>\n",
       "      <td>18489.0</td>\n",
       "    </tr>\n",
       "    <tr>\n",
       "      <th>2</th>\n",
       "      <td>1320.0</td>\n",
       "      <td>144.0</td>\n",
       "      <td>102.0</td>\n",
       "      <td>90.0</td>\n",
       "      <td>54.0</td>\n",
       "      <td>12500.0</td>\n",
       "    </tr>\n",
       "    <tr>\n",
       "      <th>3</th>\n",
       "      <td>1320.0</td>\n",
       "      <td>144.0</td>\n",
       "      <td>102.0</td>\n",
       "      <td>90.0</td>\n",
       "      <td>54.0</td>\n",
       "      <td>14997.0</td>\n",
       "    </tr>\n",
       "    <tr>\n",
       "      <th>4</th>\n",
       "      <td>1930.0</td>\n",
       "      <td>185.0</td>\n",
       "      <td>102.0</td>\n",
       "      <td>105.0</td>\n",
       "      <td>73.0</td>\n",
       "      <td>15965.0</td>\n",
       "    </tr>\n",
       "  </tbody>\n",
       "</table>\n",
       "</div>"
      ],
      "text/plain": [
       "   total dry weight  length  exterior width  exterior height  interior height  \\\n",
       "0            1660.0   198.0           102.0             84.0             54.0   \n",
       "1            2260.0   194.0           102.0            108.0             74.0   \n",
       "2            1320.0   144.0           102.0             90.0             54.0   \n",
       "3            1320.0   144.0           102.0             90.0             54.0   \n",
       "4            1930.0   185.0           102.0            105.0             73.0   \n",
       "\n",
       "     price  \n",
       "0  14879.0  \n",
       "1  18489.0  \n",
       "2  12500.0  \n",
       "3  14997.0  \n",
       "4  15965.0  "
      ]
     },
     "execution_count": 2,
     "metadata": {},
     "output_type": "execute_result"
    }
   ],
   "source": [
    "#The trailer price data is saved in a csv file and must first be loaded\n",
    "data = pd.read_csv('/kaggle/input/trailer-prices/trailerdata2.csv', sep=';')\n",
    "data.head(5)"
   ]
  },
  {
   "cell_type": "code",
   "execution_count": 3,
   "id": "e4f24da8",
   "metadata": {
    "execution": {
     "iopub.execute_input": "2023-03-06T20:29:03.374036Z",
     "iopub.status.busy": "2023-03-06T20:29:03.373355Z",
     "iopub.status.idle": "2023-03-06T20:29:03.380918Z",
     "shell.execute_reply": "2023-03-06T20:29:03.379359Z"
    },
    "papermill": {
     "duration": 0.021642,
     "end_time": "2023-03-06T20:29:03.383136",
     "exception": false,
     "start_time": "2023-03-06T20:29:03.361494",
     "status": "completed"
    },
    "tags": []
   },
   "outputs": [
    {
     "data": {
      "text/plain": [
       "total dry weight    float64\n",
       "length              float64\n",
       "exterior width      float64\n",
       "exterior height     float64\n",
       "interior height     float64\n",
       "price               float64\n",
       "dtype: object"
      ]
     },
     "execution_count": 3,
     "metadata": {},
     "output_type": "execute_result"
    }
   ],
   "source": [
    "#inspect the data types of each column\n",
    "#for modeling everything needs to be and int or float\n",
    "data.dtypes"
   ]
  },
  {
   "cell_type": "code",
   "execution_count": 4,
   "id": "0842ae8e",
   "metadata": {
    "execution": {
     "iopub.execute_input": "2023-03-06T20:29:03.407395Z",
     "iopub.status.busy": "2023-03-06T20:29:03.407047Z",
     "iopub.status.idle": "2023-03-06T20:29:03.415641Z",
     "shell.execute_reply": "2023-03-06T20:29:03.413973Z"
    },
    "papermill": {
     "duration": 0.024108,
     "end_time": "2023-03-06T20:29:03.418278",
     "exception": false,
     "start_time": "2023-03-06T20:29:03.394170",
     "status": "completed"
    },
    "tags": []
   },
   "outputs": [
    {
     "data": {
      "text/plain": [
       "total dry weight    15\n",
       "length              15\n",
       "exterior width      15\n",
       "exterior height     15\n",
       "interior height     15\n",
       "price               15\n",
       "dtype: int64"
      ]
     },
     "execution_count": 4,
     "metadata": {},
     "output_type": "execute_result"
    }
   ],
   "source": [
    "#checking for missing values\n",
    "#missing values must be dealt with for ML modeling\n",
    "data.isna().sum()"
   ]
  },
  {
   "cell_type": "markdown",
   "id": "c216b97e",
   "metadata": {
    "papermill": {
     "duration": 0.011441,
     "end_time": "2023-03-06T20:29:03.440967",
     "exception": false,
     "start_time": "2023-03-06T20:29:03.429526",
     "status": "completed"
    },
    "tags": []
   },
   "source": [
    "For modeling all rows and columns must contain data to be considered \"clean\". There are numerous empty rows which will be dealt with in various ways coming up."
   ]
  },
  {
   "cell_type": "code",
   "execution_count": 5,
   "id": "152537ee",
   "metadata": {
    "execution": {
     "iopub.execute_input": "2023-03-06T20:29:03.466095Z",
     "iopub.status.busy": "2023-03-06T20:29:03.465730Z",
     "iopub.status.idle": "2023-03-06T20:29:03.487235Z",
     "shell.execute_reply": "2023-03-06T20:29:03.485635Z"
    },
    "papermill": {
     "duration": 0.037385,
     "end_time": "2023-03-06T20:29:03.490064",
     "exception": false,
     "start_time": "2023-03-06T20:29:03.452679",
     "status": "completed"
    },
    "tags": []
   },
   "outputs": [
    {
     "data": {
      "text/html": [
       "<div>\n",
       "<style scoped>\n",
       "    .dataframe tbody tr th:only-of-type {\n",
       "        vertical-align: middle;\n",
       "    }\n",
       "\n",
       "    .dataframe tbody tr th {\n",
       "        vertical-align: top;\n",
       "    }\n",
       "\n",
       "    .dataframe thead th {\n",
       "        text-align: right;\n",
       "    }\n",
       "</style>\n",
       "<table border=\"1\" class=\"dataframe\">\n",
       "  <thead>\n",
       "    <tr style=\"text-align: right;\">\n",
       "      <th></th>\n",
       "      <th>total dry weight</th>\n",
       "      <th>length</th>\n",
       "      <th>exterior width</th>\n",
       "      <th>exterior height</th>\n",
       "      <th>interior height</th>\n",
       "      <th>price</th>\n",
       "    </tr>\n",
       "  </thead>\n",
       "  <tbody>\n",
       "    <tr>\n",
       "      <th>0</th>\n",
       "      <td>1660.0</td>\n",
       "      <td>198.0</td>\n",
       "      <td>102.0</td>\n",
       "      <td>84.0</td>\n",
       "      <td>54.0</td>\n",
       "      <td>14879.0</td>\n",
       "    </tr>\n",
       "    <tr>\n",
       "      <th>1</th>\n",
       "      <td>2260.0</td>\n",
       "      <td>194.0</td>\n",
       "      <td>102.0</td>\n",
       "      <td>108.0</td>\n",
       "      <td>74.0</td>\n",
       "      <td>18489.0</td>\n",
       "    </tr>\n",
       "    <tr>\n",
       "      <th>2</th>\n",
       "      <td>1320.0</td>\n",
       "      <td>144.0</td>\n",
       "      <td>102.0</td>\n",
       "      <td>90.0</td>\n",
       "      <td>54.0</td>\n",
       "      <td>12500.0</td>\n",
       "    </tr>\n",
       "    <tr>\n",
       "      <th>3</th>\n",
       "      <td>1320.0</td>\n",
       "      <td>144.0</td>\n",
       "      <td>102.0</td>\n",
       "      <td>90.0</td>\n",
       "      <td>54.0</td>\n",
       "      <td>14997.0</td>\n",
       "    </tr>\n",
       "    <tr>\n",
       "      <th>4</th>\n",
       "      <td>1930.0</td>\n",
       "      <td>185.0</td>\n",
       "      <td>102.0</td>\n",
       "      <td>105.0</td>\n",
       "      <td>73.0</td>\n",
       "      <td>15965.0</td>\n",
       "    </tr>\n",
       "    <tr>\n",
       "      <th>...</th>\n",
       "      <td>...</td>\n",
       "      <td>...</td>\n",
       "      <td>...</td>\n",
       "      <td>...</td>\n",
       "      <td>...</td>\n",
       "      <td>...</td>\n",
       "    </tr>\n",
       "    <tr>\n",
       "      <th>63</th>\n",
       "      <td>NaN</td>\n",
       "      <td>NaN</td>\n",
       "      <td>NaN</td>\n",
       "      <td>NaN</td>\n",
       "      <td>NaN</td>\n",
       "      <td>NaN</td>\n",
       "    </tr>\n",
       "    <tr>\n",
       "      <th>64</th>\n",
       "      <td>NaN</td>\n",
       "      <td>NaN</td>\n",
       "      <td>NaN</td>\n",
       "      <td>NaN</td>\n",
       "      <td>NaN</td>\n",
       "      <td>NaN</td>\n",
       "    </tr>\n",
       "    <tr>\n",
       "      <th>65</th>\n",
       "      <td>NaN</td>\n",
       "      <td>NaN</td>\n",
       "      <td>NaN</td>\n",
       "      <td>NaN</td>\n",
       "      <td>NaN</td>\n",
       "      <td>NaN</td>\n",
       "    </tr>\n",
       "    <tr>\n",
       "      <th>66</th>\n",
       "      <td>NaN</td>\n",
       "      <td>NaN</td>\n",
       "      <td>NaN</td>\n",
       "      <td>NaN</td>\n",
       "      <td>NaN</td>\n",
       "      <td>NaN</td>\n",
       "    </tr>\n",
       "    <tr>\n",
       "      <th>67</th>\n",
       "      <td>NaN</td>\n",
       "      <td>NaN</td>\n",
       "      <td>NaN</td>\n",
       "      <td>NaN</td>\n",
       "      <td>NaN</td>\n",
       "      <td>NaN</td>\n",
       "    </tr>\n",
       "  </tbody>\n",
       "</table>\n",
       "<p>68 rows × 6 columns</p>\n",
       "</div>"
      ],
      "text/plain": [
       "    total dry weight  length  exterior width  exterior height  \\\n",
       "0             1660.0   198.0           102.0             84.0   \n",
       "1             2260.0   194.0           102.0            108.0   \n",
       "2             1320.0   144.0           102.0             90.0   \n",
       "3             1320.0   144.0           102.0             90.0   \n",
       "4             1930.0   185.0           102.0            105.0   \n",
       "..               ...     ...             ...              ...   \n",
       "63               NaN     NaN             NaN              NaN   \n",
       "64               NaN     NaN             NaN              NaN   \n",
       "65               NaN     NaN             NaN              NaN   \n",
       "66               NaN     NaN             NaN              NaN   \n",
       "67               NaN     NaN             NaN              NaN   \n",
       "\n",
       "    interior height    price  \n",
       "0              54.0  14879.0  \n",
       "1              74.0  18489.0  \n",
       "2              54.0  12500.0  \n",
       "3              54.0  14997.0  \n",
       "4              73.0  15965.0  \n",
       "..              ...      ...  \n",
       "63              NaN      NaN  \n",
       "64              NaN      NaN  \n",
       "65              NaN      NaN  \n",
       "66              NaN      NaN  \n",
       "67              NaN      NaN  \n",
       "\n",
       "[68 rows x 6 columns]"
      ]
     },
     "execution_count": 5,
     "metadata": {},
     "output_type": "execute_result"
    }
   ],
   "source": [
    "data"
   ]
  },
  {
   "cell_type": "code",
   "execution_count": 6,
   "id": "c0de1b8a",
   "metadata": {
    "execution": {
     "iopub.execute_input": "2023-03-06T20:29:03.514369Z",
     "iopub.status.busy": "2023-03-06T20:29:03.514011Z",
     "iopub.status.idle": "2023-03-06T20:29:03.523074Z",
     "shell.execute_reply": "2023-03-06T20:29:03.521823Z"
    },
    "papermill": {
     "duration": 0.02375,
     "end_time": "2023-03-06T20:29:03.525456",
     "exception": false,
     "start_time": "2023-03-06T20:29:03.501706",
     "status": "completed"
    },
    "tags": []
   },
   "outputs": [],
   "source": [
    "#52 is the target\n",
    "#everything after is blank rows\n",
    "data2=data.drop(data.index[52:])"
   ]
  },
  {
   "cell_type": "code",
   "execution_count": 7,
   "id": "39978886",
   "metadata": {
    "execution": {
     "iopub.execute_input": "2023-03-06T20:29:03.550777Z",
     "iopub.status.busy": "2023-03-06T20:29:03.550419Z",
     "iopub.status.idle": "2023-03-06T20:29:03.581026Z",
     "shell.execute_reply": "2023-03-06T20:29:03.579898Z"
    },
    "papermill": {
     "duration": 0.046454,
     "end_time": "2023-03-06T20:29:03.583356",
     "exception": false,
     "start_time": "2023-03-06T20:29:03.536902",
     "status": "completed"
    },
    "tags": []
   },
   "outputs": [
    {
     "data": {
      "text/html": [
       "<div>\n",
       "<style scoped>\n",
       "    .dataframe tbody tr th:only-of-type {\n",
       "        vertical-align: middle;\n",
       "    }\n",
       "\n",
       "    .dataframe tbody tr th {\n",
       "        vertical-align: top;\n",
       "    }\n",
       "\n",
       "    .dataframe thead th {\n",
       "        text-align: right;\n",
       "    }\n",
       "</style>\n",
       "<table border=\"1\" class=\"dataframe\">\n",
       "  <thead>\n",
       "    <tr style=\"text-align: right;\">\n",
       "      <th></th>\n",
       "      <th>total dry weight</th>\n",
       "      <th>length</th>\n",
       "      <th>exterior width</th>\n",
       "      <th>exterior height</th>\n",
       "      <th>interior height</th>\n",
       "      <th>price</th>\n",
       "    </tr>\n",
       "  </thead>\n",
       "  <tbody>\n",
       "    <tr>\n",
       "      <th>0</th>\n",
       "      <td>1660.0</td>\n",
       "      <td>198.0</td>\n",
       "      <td>102.0</td>\n",
       "      <td>84.00</td>\n",
       "      <td>54.0</td>\n",
       "      <td>14879.0</td>\n",
       "    </tr>\n",
       "    <tr>\n",
       "      <th>1</th>\n",
       "      <td>2260.0</td>\n",
       "      <td>194.0</td>\n",
       "      <td>102.0</td>\n",
       "      <td>108.00</td>\n",
       "      <td>74.0</td>\n",
       "      <td>18489.0</td>\n",
       "    </tr>\n",
       "    <tr>\n",
       "      <th>2</th>\n",
       "      <td>1320.0</td>\n",
       "      <td>144.0</td>\n",
       "      <td>102.0</td>\n",
       "      <td>90.00</td>\n",
       "      <td>54.0</td>\n",
       "      <td>12500.0</td>\n",
       "    </tr>\n",
       "    <tr>\n",
       "      <th>3</th>\n",
       "      <td>1320.0</td>\n",
       "      <td>144.0</td>\n",
       "      <td>102.0</td>\n",
       "      <td>90.00</td>\n",
       "      <td>54.0</td>\n",
       "      <td>14997.0</td>\n",
       "    </tr>\n",
       "    <tr>\n",
       "      <th>4</th>\n",
       "      <td>1930.0</td>\n",
       "      <td>185.0</td>\n",
       "      <td>102.0</td>\n",
       "      <td>105.00</td>\n",
       "      <td>73.0</td>\n",
       "      <td>15965.0</td>\n",
       "    </tr>\n",
       "    <tr>\n",
       "      <th>5</th>\n",
       "      <td>2260.0</td>\n",
       "      <td>188.0</td>\n",
       "      <td>102.0</td>\n",
       "      <td>108.00</td>\n",
       "      <td>74.0</td>\n",
       "      <td>18689.0</td>\n",
       "    </tr>\n",
       "    <tr>\n",
       "      <th>6</th>\n",
       "      <td>720.0</td>\n",
       "      <td>144.0</td>\n",
       "      <td>48.0</td>\n",
       "      <td>64.00</td>\n",
       "      <td>46.0</td>\n",
       "      <td>5500.0</td>\n",
       "    </tr>\n",
       "    <tr>\n",
       "      <th>7</th>\n",
       "      <td>820.0</td>\n",
       "      <td>144.0</td>\n",
       "      <td>60.0</td>\n",
       "      <td>64.00</td>\n",
       "      <td>46.0</td>\n",
       "      <td>6500.0</td>\n",
       "    </tr>\n",
       "    <tr>\n",
       "      <th>8</th>\n",
       "      <td>820.0</td>\n",
       "      <td>144.0</td>\n",
       "      <td>60.0</td>\n",
       "      <td>64.00</td>\n",
       "      <td>46.0</td>\n",
       "      <td>6999.0</td>\n",
       "    </tr>\n",
       "    <tr>\n",
       "      <th>9</th>\n",
       "      <td>999.0</td>\n",
       "      <td>144.0</td>\n",
       "      <td>60.0</td>\n",
       "      <td>64.00</td>\n",
       "      <td>46.0</td>\n",
       "      <td>7999.0</td>\n",
       "    </tr>\n",
       "    <tr>\n",
       "      <th>10</th>\n",
       "      <td>1190.0</td>\n",
       "      <td>144.0</td>\n",
       "      <td>60.0</td>\n",
       "      <td>64.00</td>\n",
       "      <td>46.0</td>\n",
       "      <td>9999.0</td>\n",
       "    </tr>\n",
       "    <tr>\n",
       "      <th>11</th>\n",
       "      <td>990.0</td>\n",
       "      <td>144.0</td>\n",
       "      <td>68.0</td>\n",
       "      <td>73.00</td>\n",
       "      <td>46.5</td>\n",
       "      <td>7450.0</td>\n",
       "    </tr>\n",
       "    <tr>\n",
       "      <th>12</th>\n",
       "      <td>1080.0</td>\n",
       "      <td>144.0</td>\n",
       "      <td>80.0</td>\n",
       "      <td>73.00</td>\n",
       "      <td>58.5</td>\n",
       "      <td>8569.0</td>\n",
       "    </tr>\n",
       "    <tr>\n",
       "      <th>13</th>\n",
       "      <td>1190.0</td>\n",
       "      <td>144.0</td>\n",
       "      <td>92.0</td>\n",
       "      <td>73.00</td>\n",
       "      <td>70.5</td>\n",
       "      <td>9039.0</td>\n",
       "    </tr>\n",
       "    <tr>\n",
       "      <th>14</th>\n",
       "      <td>1000.0</td>\n",
       "      <td>148.0</td>\n",
       "      <td>76.0</td>\n",
       "      <td>70.50</td>\n",
       "      <td>46.0</td>\n",
       "      <td>24800.0</td>\n",
       "    </tr>\n",
       "    <tr>\n",
       "      <th>15</th>\n",
       "      <td>1150.0</td>\n",
       "      <td>148.0</td>\n",
       "      <td>82.0</td>\n",
       "      <td>71.00</td>\n",
       "      <td>46.0</td>\n",
       "      <td>26500.0</td>\n",
       "    </tr>\n",
       "    <tr>\n",
       "      <th>16</th>\n",
       "      <td>1750.0</td>\n",
       "      <td>173.0</td>\n",
       "      <td>88.0</td>\n",
       "      <td>85.50</td>\n",
       "      <td>57.0</td>\n",
       "      <td>36100.0</td>\n",
       "    </tr>\n",
       "    <tr>\n",
       "      <th>17</th>\n",
       "      <td>1470.0</td>\n",
       "      <td>173.0</td>\n",
       "      <td>82.0</td>\n",
       "      <td>83.00</td>\n",
       "      <td>57.0</td>\n",
       "      <td>33100.0</td>\n",
       "    </tr>\n",
       "    <tr>\n",
       "      <th>18</th>\n",
       "      <td>909.0</td>\n",
       "      <td>138.0</td>\n",
       "      <td>77.5</td>\n",
       "      <td>66.00</td>\n",
       "      <td>48.0</td>\n",
       "      <td>9850.0</td>\n",
       "    </tr>\n",
       "    <tr>\n",
       "      <th>19</th>\n",
       "      <td>1041.0</td>\n",
       "      <td>144.0</td>\n",
       "      <td>77.5</td>\n",
       "      <td>66.00</td>\n",
       "      <td>48.0</td>\n",
       "      <td>16335.0</td>\n",
       "    </tr>\n",
       "    <tr>\n",
       "      <th>20</th>\n",
       "      <td>1455.0</td>\n",
       "      <td>168.0</td>\n",
       "      <td>83.0</td>\n",
       "      <td>67.00</td>\n",
       "      <td>48.0</td>\n",
       "      <td>25735.0</td>\n",
       "    </tr>\n",
       "    <tr>\n",
       "      <th>21</th>\n",
       "      <td>840.0</td>\n",
       "      <td>140.0</td>\n",
       "      <td>75.0</td>\n",
       "      <td>52.00</td>\n",
       "      <td>78.0</td>\n",
       "      <td>14495.0</td>\n",
       "    </tr>\n",
       "    <tr>\n",
       "      <th>22</th>\n",
       "      <td>116.8</td>\n",
       "      <td>83.0</td>\n",
       "      <td>51.0</td>\n",
       "      <td>11.00</td>\n",
       "      <td>0.0</td>\n",
       "      <td>5695.0</td>\n",
       "    </tr>\n",
       "    <tr>\n",
       "      <th>23</th>\n",
       "      <td>450.0</td>\n",
       "      <td>40.0</td>\n",
       "      <td>43.0</td>\n",
       "      <td>26.00</td>\n",
       "      <td>0.0</td>\n",
       "      <td>7996.0</td>\n",
       "    </tr>\n",
       "    <tr>\n",
       "      <th>24</th>\n",
       "      <td>580.0</td>\n",
       "      <td>136.0</td>\n",
       "      <td>66.0</td>\n",
       "      <td>65.00</td>\n",
       "      <td>46.0</td>\n",
       "      <td>5995.0</td>\n",
       "    </tr>\n",
       "    <tr>\n",
       "      <th>25</th>\n",
       "      <td>765.0</td>\n",
       "      <td>136.0</td>\n",
       "      <td>94.0</td>\n",
       "      <td>65.00</td>\n",
       "      <td>46.0</td>\n",
       "      <td>7645.0</td>\n",
       "    </tr>\n",
       "    <tr>\n",
       "      <th>26</th>\n",
       "      <td>840.0</td>\n",
       "      <td>136.0</td>\n",
       "      <td>94.0</td>\n",
       "      <td>87.00</td>\n",
       "      <td>70.0</td>\n",
       "      <td>9220.0</td>\n",
       "    </tr>\n",
       "    <tr>\n",
       "      <th>27</th>\n",
       "      <td>1650.0</td>\n",
       "      <td>168.0</td>\n",
       "      <td>86.0</td>\n",
       "      <td>80.00</td>\n",
       "      <td>54.5</td>\n",
       "      <td>30180.0</td>\n",
       "    </tr>\n",
       "    <tr>\n",
       "      <th>28</th>\n",
       "      <td>1650.0</td>\n",
       "      <td>168.0</td>\n",
       "      <td>86.0</td>\n",
       "      <td>80.00</td>\n",
       "      <td>54.5</td>\n",
       "      <td>29180.0</td>\n",
       "    </tr>\n",
       "    <tr>\n",
       "      <th>29</th>\n",
       "      <td>1850.0</td>\n",
       "      <td>168.0</td>\n",
       "      <td>88.0</td>\n",
       "      <td>81.00</td>\n",
       "      <td>54.5</td>\n",
       "      <td>31680.0</td>\n",
       "    </tr>\n",
       "    <tr>\n",
       "      <th>30</th>\n",
       "      <td>2000.0</td>\n",
       "      <td>168.0</td>\n",
       "      <td>88.0</td>\n",
       "      <td>83.00</td>\n",
       "      <td>54.5</td>\n",
       "      <td>32680.0</td>\n",
       "    </tr>\n",
       "    <tr>\n",
       "      <th>31</th>\n",
       "      <td>2600.0</td>\n",
       "      <td>182.0</td>\n",
       "      <td>90.0</td>\n",
       "      <td>86.00</td>\n",
       "      <td>54.5</td>\n",
       "      <td>44335.0</td>\n",
       "    </tr>\n",
       "    <tr>\n",
       "      <th>32</th>\n",
       "      <td>1100.0</td>\n",
       "      <td>156.0</td>\n",
       "      <td>80.0</td>\n",
       "      <td>80.50</td>\n",
       "      <td>58.0</td>\n",
       "      <td>9991.0</td>\n",
       "    </tr>\n",
       "    <tr>\n",
       "      <th>33</th>\n",
       "      <td>1350.0</td>\n",
       "      <td>156.0</td>\n",
       "      <td>80.0</td>\n",
       "      <td>80.50</td>\n",
       "      <td>58.0</td>\n",
       "      <td>16997.0</td>\n",
       "    </tr>\n",
       "    <tr>\n",
       "      <th>34</th>\n",
       "      <td>1100.0</td>\n",
       "      <td>156.0</td>\n",
       "      <td>80.0</td>\n",
       "      <td>69.00</td>\n",
       "      <td>44.0</td>\n",
       "      <td>15991.0</td>\n",
       "    </tr>\n",
       "    <tr>\n",
       "      <th>35</th>\n",
       "      <td>1400.0</td>\n",
       "      <td>156.0</td>\n",
       "      <td>80.0</td>\n",
       "      <td>80.50</td>\n",
       "      <td>58.0</td>\n",
       "      <td>19991.0</td>\n",
       "    </tr>\n",
       "    <tr>\n",
       "      <th>36</th>\n",
       "      <td>1525.0</td>\n",
       "      <td>168.0</td>\n",
       "      <td>80.0</td>\n",
       "      <td>94.00</td>\n",
       "      <td>70.0</td>\n",
       "      <td>21997.0</td>\n",
       "    </tr>\n",
       "    <tr>\n",
       "      <th>37</th>\n",
       "      <td>800.0</td>\n",
       "      <td>144.0</td>\n",
       "      <td>80.0</td>\n",
       "      <td>68.00</td>\n",
       "      <td>44.0</td>\n",
       "      <td>9999.0</td>\n",
       "    </tr>\n",
       "    <tr>\n",
       "      <th>38</th>\n",
       "      <td>800.0</td>\n",
       "      <td>144.0</td>\n",
       "      <td>80.0</td>\n",
       "      <td>68.00</td>\n",
       "      <td>44.0</td>\n",
       "      <td>10499.0</td>\n",
       "    </tr>\n",
       "    <tr>\n",
       "      <th>39</th>\n",
       "      <td>900.0</td>\n",
       "      <td>156.0</td>\n",
       "      <td>80.0</td>\n",
       "      <td>68.00</td>\n",
       "      <td>44.0</td>\n",
       "      <td>11499.0</td>\n",
       "    </tr>\n",
       "    <tr>\n",
       "      <th>40</th>\n",
       "      <td>1000.0</td>\n",
       "      <td>168.0</td>\n",
       "      <td>80.0</td>\n",
       "      <td>68.00</td>\n",
       "      <td>44.0</td>\n",
       "      <td>12499.0</td>\n",
       "    </tr>\n",
       "    <tr>\n",
       "      <th>41</th>\n",
       "      <td>1000.0</td>\n",
       "      <td>147.0</td>\n",
       "      <td>81.0</td>\n",
       "      <td>71.00</td>\n",
       "      <td>44.0</td>\n",
       "      <td>13499.0</td>\n",
       "    </tr>\n",
       "    <tr>\n",
       "      <th>42</th>\n",
       "      <td>1100.0</td>\n",
       "      <td>159.0</td>\n",
       "      <td>81.0</td>\n",
       "      <td>71.00</td>\n",
       "      <td>44.0</td>\n",
       "      <td>14499.0</td>\n",
       "    </tr>\n",
       "    <tr>\n",
       "      <th>43</th>\n",
       "      <td>1200.0</td>\n",
       "      <td>171.0</td>\n",
       "      <td>81.0</td>\n",
       "      <td>71.00</td>\n",
       "      <td>44.0</td>\n",
       "      <td>15499.0</td>\n",
       "    </tr>\n",
       "    <tr>\n",
       "      <th>44</th>\n",
       "      <td>1100.0</td>\n",
       "      <td>155.0</td>\n",
       "      <td>84.0</td>\n",
       "      <td>75.00</td>\n",
       "      <td>44.0</td>\n",
       "      <td>18799.0</td>\n",
       "    </tr>\n",
       "    <tr>\n",
       "      <th>45</th>\n",
       "      <td>1200.0</td>\n",
       "      <td>167.0</td>\n",
       "      <td>84.0</td>\n",
       "      <td>75.00</td>\n",
       "      <td>44.0</td>\n",
       "      <td>19799.0</td>\n",
       "    </tr>\n",
       "    <tr>\n",
       "      <th>46</th>\n",
       "      <td>1300.0</td>\n",
       "      <td>179.0</td>\n",
       "      <td>84.0</td>\n",
       "      <td>75.00</td>\n",
       "      <td>44.0</td>\n",
       "      <td>20799.0</td>\n",
       "    </tr>\n",
       "    <tr>\n",
       "      <th>47</th>\n",
       "      <td>1350.0</td>\n",
       "      <td>165.0</td>\n",
       "      <td>80.0</td>\n",
       "      <td>65.25</td>\n",
       "      <td>44.5</td>\n",
       "      <td>13750.0</td>\n",
       "    </tr>\n",
       "    <tr>\n",
       "      <th>48</th>\n",
       "      <td>1350.0</td>\n",
       "      <td>165.0</td>\n",
       "      <td>80.0</td>\n",
       "      <td>65.25</td>\n",
       "      <td>44.5</td>\n",
       "      <td>14750.0</td>\n",
       "    </tr>\n",
       "    <tr>\n",
       "      <th>49</th>\n",
       "      <td>1350.0</td>\n",
       "      <td>165.0</td>\n",
       "      <td>80.0</td>\n",
       "      <td>68.75</td>\n",
       "      <td>44.5</td>\n",
       "      <td>16250.0</td>\n",
       "    </tr>\n",
       "    <tr>\n",
       "      <th>50</th>\n",
       "      <td>1350.0</td>\n",
       "      <td>165.0</td>\n",
       "      <td>60.0</td>\n",
       "      <td>68.75</td>\n",
       "      <td>44.5</td>\n",
       "      <td>17250.0</td>\n",
       "    </tr>\n",
       "    <tr>\n",
       "      <th>51</th>\n",
       "      <td>1750.0</td>\n",
       "      <td>200.0</td>\n",
       "      <td>80.0</td>\n",
       "      <td>69.00</td>\n",
       "      <td>44.5</td>\n",
       "      <td>19950.0</td>\n",
       "    </tr>\n",
       "  </tbody>\n",
       "</table>\n",
       "</div>"
      ],
      "text/plain": [
       "    total dry weight  length  exterior width  exterior height  \\\n",
       "0             1660.0   198.0           102.0            84.00   \n",
       "1             2260.0   194.0           102.0           108.00   \n",
       "2             1320.0   144.0           102.0            90.00   \n",
       "3             1320.0   144.0           102.0            90.00   \n",
       "4             1930.0   185.0           102.0           105.00   \n",
       "5             2260.0   188.0           102.0           108.00   \n",
       "6              720.0   144.0            48.0            64.00   \n",
       "7              820.0   144.0            60.0            64.00   \n",
       "8              820.0   144.0            60.0            64.00   \n",
       "9              999.0   144.0            60.0            64.00   \n",
       "10            1190.0   144.0            60.0            64.00   \n",
       "11             990.0   144.0            68.0            73.00   \n",
       "12            1080.0   144.0            80.0            73.00   \n",
       "13            1190.0   144.0            92.0            73.00   \n",
       "14            1000.0   148.0            76.0            70.50   \n",
       "15            1150.0   148.0            82.0            71.00   \n",
       "16            1750.0   173.0            88.0            85.50   \n",
       "17            1470.0   173.0            82.0            83.00   \n",
       "18             909.0   138.0            77.5            66.00   \n",
       "19            1041.0   144.0            77.5            66.00   \n",
       "20            1455.0   168.0            83.0            67.00   \n",
       "21             840.0   140.0            75.0            52.00   \n",
       "22             116.8    83.0            51.0            11.00   \n",
       "23             450.0    40.0            43.0            26.00   \n",
       "24             580.0   136.0            66.0            65.00   \n",
       "25             765.0   136.0            94.0            65.00   \n",
       "26             840.0   136.0            94.0            87.00   \n",
       "27            1650.0   168.0            86.0            80.00   \n",
       "28            1650.0   168.0            86.0            80.00   \n",
       "29            1850.0   168.0            88.0            81.00   \n",
       "30            2000.0   168.0            88.0            83.00   \n",
       "31            2600.0   182.0            90.0            86.00   \n",
       "32            1100.0   156.0            80.0            80.50   \n",
       "33            1350.0   156.0            80.0            80.50   \n",
       "34            1100.0   156.0            80.0            69.00   \n",
       "35            1400.0   156.0            80.0            80.50   \n",
       "36            1525.0   168.0            80.0            94.00   \n",
       "37             800.0   144.0            80.0            68.00   \n",
       "38             800.0   144.0            80.0            68.00   \n",
       "39             900.0   156.0            80.0            68.00   \n",
       "40            1000.0   168.0            80.0            68.00   \n",
       "41            1000.0   147.0            81.0            71.00   \n",
       "42            1100.0   159.0            81.0            71.00   \n",
       "43            1200.0   171.0            81.0            71.00   \n",
       "44            1100.0   155.0            84.0            75.00   \n",
       "45            1200.0   167.0            84.0            75.00   \n",
       "46            1300.0   179.0            84.0            75.00   \n",
       "47            1350.0   165.0            80.0            65.25   \n",
       "48            1350.0   165.0            80.0            65.25   \n",
       "49            1350.0   165.0            80.0            68.75   \n",
       "50            1350.0   165.0            60.0            68.75   \n",
       "51            1750.0   200.0            80.0            69.00   \n",
       "\n",
       "    interior height    price  \n",
       "0              54.0  14879.0  \n",
       "1              74.0  18489.0  \n",
       "2              54.0  12500.0  \n",
       "3              54.0  14997.0  \n",
       "4              73.0  15965.0  \n",
       "5              74.0  18689.0  \n",
       "6              46.0   5500.0  \n",
       "7              46.0   6500.0  \n",
       "8              46.0   6999.0  \n",
       "9              46.0   7999.0  \n",
       "10             46.0   9999.0  \n",
       "11             46.5   7450.0  \n",
       "12             58.5   8569.0  \n",
       "13             70.5   9039.0  \n",
       "14             46.0  24800.0  \n",
       "15             46.0  26500.0  \n",
       "16             57.0  36100.0  \n",
       "17             57.0  33100.0  \n",
       "18             48.0   9850.0  \n",
       "19             48.0  16335.0  \n",
       "20             48.0  25735.0  \n",
       "21             78.0  14495.0  \n",
       "22              0.0   5695.0  \n",
       "23              0.0   7996.0  \n",
       "24             46.0   5995.0  \n",
       "25             46.0   7645.0  \n",
       "26             70.0   9220.0  \n",
       "27             54.5  30180.0  \n",
       "28             54.5  29180.0  \n",
       "29             54.5  31680.0  \n",
       "30             54.5  32680.0  \n",
       "31             54.5  44335.0  \n",
       "32             58.0   9991.0  \n",
       "33             58.0  16997.0  \n",
       "34             44.0  15991.0  \n",
       "35             58.0  19991.0  \n",
       "36             70.0  21997.0  \n",
       "37             44.0   9999.0  \n",
       "38             44.0  10499.0  \n",
       "39             44.0  11499.0  \n",
       "40             44.0  12499.0  \n",
       "41             44.0  13499.0  \n",
       "42             44.0  14499.0  \n",
       "43             44.0  15499.0  \n",
       "44             44.0  18799.0  \n",
       "45             44.0  19799.0  \n",
       "46             44.0  20799.0  \n",
       "47             44.5  13750.0  \n",
       "48             44.5  14750.0  \n",
       "49             44.5  16250.0  \n",
       "50             44.5  17250.0  \n",
       "51             44.5  19950.0  "
      ]
     },
     "execution_count": 7,
     "metadata": {},
     "output_type": "execute_result"
    }
   ],
   "source": [
    "data2"
   ]
  },
  {
   "cell_type": "code",
   "execution_count": 8,
   "id": "a15d761e",
   "metadata": {
    "execution": {
     "iopub.execute_input": "2023-03-06T20:29:03.610456Z",
     "iopub.status.busy": "2023-03-06T20:29:03.609070Z",
     "iopub.status.idle": "2023-03-06T20:29:03.617941Z",
     "shell.execute_reply": "2023-03-06T20:29:03.617072Z"
    },
    "papermill": {
     "duration": 0.024215,
     "end_time": "2023-03-06T20:29:03.619718",
     "exception": false,
     "start_time": "2023-03-06T20:29:03.595503",
     "status": "completed"
    },
    "tags": []
   },
   "outputs": [
    {
     "data": {
      "text/plain": [
       "total dry weight    0\n",
       "length              0\n",
       "exterior width      0\n",
       "exterior height     0\n",
       "interior height     0\n",
       "price               0\n",
       "dtype: int64"
      ]
     },
     "execution_count": 8,
     "metadata": {},
     "output_type": "execute_result"
    }
   ],
   "source": [
    "data2.isna().sum()"
   ]
  },
  {
   "cell_type": "code",
   "execution_count": 9,
   "id": "6b65cbbd",
   "metadata": {
    "execution": {
     "iopub.execute_input": "2023-03-06T20:29:03.645822Z",
     "iopub.status.busy": "2023-03-06T20:29:03.645346Z",
     "iopub.status.idle": "2023-03-06T20:29:03.651227Z",
     "shell.execute_reply": "2023-03-06T20:29:03.649847Z"
    },
    "papermill": {
     "duration": 0.022199,
     "end_time": "2023-03-06T20:29:03.654036",
     "exception": false,
     "start_time": "2023-03-06T20:29:03.631837",
     "status": "completed"
    },
    "tags": []
   },
   "outputs": [
    {
     "data": {
      "text/plain": [
       "(52, 6)"
      ]
     },
     "execution_count": 9,
     "metadata": {},
     "output_type": "execute_result"
    }
   ],
   "source": [
    "data2.shape"
   ]
  },
  {
   "cell_type": "code",
   "execution_count": 10,
   "id": "477bc6a4",
   "metadata": {
    "execution": {
     "iopub.execute_input": "2023-03-06T20:29:03.680125Z",
     "iopub.status.busy": "2023-03-06T20:29:03.679818Z",
     "iopub.status.idle": "2023-03-06T20:29:03.684535Z",
     "shell.execute_reply": "2023-03-06T20:29:03.682876Z"
    },
    "papermill": {
     "duration": 0.02043,
     "end_time": "2023-03-06T20:29:03.686890",
     "exception": false,
     "start_time": "2023-03-06T20:29:03.666460",
     "status": "completed"
    },
    "tags": []
   },
   "outputs": [],
   "source": [
    "#data2 = data1.drop(['model', 'year', 'sleeps', 'aluminum siding (inch)', 'A/C', 'msrp', 'interior height'], axis=1)"
   ]
  },
  {
   "cell_type": "code",
   "execution_count": 11,
   "id": "e3f8d868",
   "metadata": {
    "execution": {
     "iopub.execute_input": "2023-03-06T20:29:03.715021Z",
     "iopub.status.busy": "2023-03-06T20:29:03.714415Z",
     "iopub.status.idle": "2023-03-06T20:29:03.724587Z",
     "shell.execute_reply": "2023-03-06T20:29:03.723472Z"
    },
    "papermill": {
     "duration": 0.02766,
     "end_time": "2023-03-06T20:29:03.727041",
     "exception": false,
     "start_time": "2023-03-06T20:29:03.699381",
     "status": "completed"
    },
    "tags": []
   },
   "outputs": [],
   "source": [
    "#this column will be renamed to get rid of the space\n",
    "data2 = data2.rename(columns={\"exterior height\": \"eheight\", \"total dry weight\": \"tdweight\", \"interior height\":\"intheight\"})"
   ]
  },
  {
   "cell_type": "markdown",
   "id": "ca175650",
   "metadata": {
    "papermill": {
     "duration": 0.011583,
     "end_time": "2023-03-06T20:29:03.750855",
     "exception": false,
     "start_time": "2023-03-06T20:29:03.739272",
     "status": "completed"
    },
    "tags": []
   },
   "source": [
    "~~There are still 3 missing values, but it is missing because these trailers are small than all the others and actually don't have an interior to have an interior height. Therefore it makes the most sense to fill them all in with 0, as they must contain some number for modeling.~~\n",
    "These were edited in the file"
   ]
  },
  {
   "cell_type": "code",
   "execution_count": 12,
   "id": "209528d1",
   "metadata": {
    "execution": {
     "iopub.execute_input": "2023-03-06T20:29:03.776231Z",
     "iopub.status.busy": "2023-03-06T20:29:03.775682Z",
     "iopub.status.idle": "2023-03-06T20:29:03.779854Z",
     "shell.execute_reply": "2023-03-06T20:29:03.778798Z"
    },
    "papermill": {
     "duration": 0.019345,
     "end_time": "2023-03-06T20:29:03.781957",
     "exception": false,
     "start_time": "2023-03-06T20:29:03.762612",
     "status": "completed"
    },
    "tags": []
   },
   "outputs": [],
   "source": [
    "#impute null values \n",
    "#data2.intheight = data2.intheight.fillna(0)"
   ]
  },
  {
   "cell_type": "code",
   "execution_count": 13,
   "id": "57eff57d",
   "metadata": {
    "execution": {
     "iopub.execute_input": "2023-03-06T20:29:03.808327Z",
     "iopub.status.busy": "2023-03-06T20:29:03.807774Z",
     "iopub.status.idle": "2023-03-06T20:29:03.845370Z",
     "shell.execute_reply": "2023-03-06T20:29:03.844555Z"
    },
    "papermill": {
     "duration": 0.052506,
     "end_time": "2023-03-06T20:29:03.847172",
     "exception": false,
     "start_time": "2023-03-06T20:29:03.794666",
     "status": "completed"
    },
    "tags": []
   },
   "outputs": [
    {
     "data": {
      "text/html": [
       "<div>\n",
       "<style scoped>\n",
       "    .dataframe tbody tr th:only-of-type {\n",
       "        vertical-align: middle;\n",
       "    }\n",
       "\n",
       "    .dataframe tbody tr th {\n",
       "        vertical-align: top;\n",
       "    }\n",
       "\n",
       "    .dataframe thead th {\n",
       "        text-align: right;\n",
       "    }\n",
       "</style>\n",
       "<table border=\"1\" class=\"dataframe\">\n",
       "  <thead>\n",
       "    <tr style=\"text-align: right;\">\n",
       "      <th></th>\n",
       "      <th>tdweight</th>\n",
       "      <th>length</th>\n",
       "      <th>exterior width</th>\n",
       "      <th>eheight</th>\n",
       "      <th>intheight</th>\n",
       "      <th>price</th>\n",
       "    </tr>\n",
       "  </thead>\n",
       "  <tbody>\n",
       "    <tr>\n",
       "      <th>0</th>\n",
       "      <td>1660.0</td>\n",
       "      <td>198.0</td>\n",
       "      <td>102.0</td>\n",
       "      <td>84.00</td>\n",
       "      <td>54.0</td>\n",
       "      <td>14879.0</td>\n",
       "    </tr>\n",
       "    <tr>\n",
       "      <th>1</th>\n",
       "      <td>2260.0</td>\n",
       "      <td>194.0</td>\n",
       "      <td>102.0</td>\n",
       "      <td>108.00</td>\n",
       "      <td>74.0</td>\n",
       "      <td>18489.0</td>\n",
       "    </tr>\n",
       "    <tr>\n",
       "      <th>2</th>\n",
       "      <td>1320.0</td>\n",
       "      <td>144.0</td>\n",
       "      <td>102.0</td>\n",
       "      <td>90.00</td>\n",
       "      <td>54.0</td>\n",
       "      <td>12500.0</td>\n",
       "    </tr>\n",
       "    <tr>\n",
       "      <th>3</th>\n",
       "      <td>1320.0</td>\n",
       "      <td>144.0</td>\n",
       "      <td>102.0</td>\n",
       "      <td>90.00</td>\n",
       "      <td>54.0</td>\n",
       "      <td>14997.0</td>\n",
       "    </tr>\n",
       "    <tr>\n",
       "      <th>4</th>\n",
       "      <td>1930.0</td>\n",
       "      <td>185.0</td>\n",
       "      <td>102.0</td>\n",
       "      <td>105.00</td>\n",
       "      <td>73.0</td>\n",
       "      <td>15965.0</td>\n",
       "    </tr>\n",
       "    <tr>\n",
       "      <th>5</th>\n",
       "      <td>2260.0</td>\n",
       "      <td>188.0</td>\n",
       "      <td>102.0</td>\n",
       "      <td>108.00</td>\n",
       "      <td>74.0</td>\n",
       "      <td>18689.0</td>\n",
       "    </tr>\n",
       "    <tr>\n",
       "      <th>6</th>\n",
       "      <td>720.0</td>\n",
       "      <td>144.0</td>\n",
       "      <td>48.0</td>\n",
       "      <td>64.00</td>\n",
       "      <td>46.0</td>\n",
       "      <td>5500.0</td>\n",
       "    </tr>\n",
       "    <tr>\n",
       "      <th>7</th>\n",
       "      <td>820.0</td>\n",
       "      <td>144.0</td>\n",
       "      <td>60.0</td>\n",
       "      <td>64.00</td>\n",
       "      <td>46.0</td>\n",
       "      <td>6500.0</td>\n",
       "    </tr>\n",
       "    <tr>\n",
       "      <th>8</th>\n",
       "      <td>820.0</td>\n",
       "      <td>144.0</td>\n",
       "      <td>60.0</td>\n",
       "      <td>64.00</td>\n",
       "      <td>46.0</td>\n",
       "      <td>6999.0</td>\n",
       "    </tr>\n",
       "    <tr>\n",
       "      <th>9</th>\n",
       "      <td>999.0</td>\n",
       "      <td>144.0</td>\n",
       "      <td>60.0</td>\n",
       "      <td>64.00</td>\n",
       "      <td>46.0</td>\n",
       "      <td>7999.0</td>\n",
       "    </tr>\n",
       "    <tr>\n",
       "      <th>10</th>\n",
       "      <td>1190.0</td>\n",
       "      <td>144.0</td>\n",
       "      <td>60.0</td>\n",
       "      <td>64.00</td>\n",
       "      <td>46.0</td>\n",
       "      <td>9999.0</td>\n",
       "    </tr>\n",
       "    <tr>\n",
       "      <th>11</th>\n",
       "      <td>990.0</td>\n",
       "      <td>144.0</td>\n",
       "      <td>68.0</td>\n",
       "      <td>73.00</td>\n",
       "      <td>46.5</td>\n",
       "      <td>7450.0</td>\n",
       "    </tr>\n",
       "    <tr>\n",
       "      <th>12</th>\n",
       "      <td>1080.0</td>\n",
       "      <td>144.0</td>\n",
       "      <td>80.0</td>\n",
       "      <td>73.00</td>\n",
       "      <td>58.5</td>\n",
       "      <td>8569.0</td>\n",
       "    </tr>\n",
       "    <tr>\n",
       "      <th>13</th>\n",
       "      <td>1190.0</td>\n",
       "      <td>144.0</td>\n",
       "      <td>92.0</td>\n",
       "      <td>73.00</td>\n",
       "      <td>70.5</td>\n",
       "      <td>9039.0</td>\n",
       "    </tr>\n",
       "    <tr>\n",
       "      <th>14</th>\n",
       "      <td>1000.0</td>\n",
       "      <td>148.0</td>\n",
       "      <td>76.0</td>\n",
       "      <td>70.50</td>\n",
       "      <td>46.0</td>\n",
       "      <td>24800.0</td>\n",
       "    </tr>\n",
       "    <tr>\n",
       "      <th>15</th>\n",
       "      <td>1150.0</td>\n",
       "      <td>148.0</td>\n",
       "      <td>82.0</td>\n",
       "      <td>71.00</td>\n",
       "      <td>46.0</td>\n",
       "      <td>26500.0</td>\n",
       "    </tr>\n",
       "    <tr>\n",
       "      <th>16</th>\n",
       "      <td>1750.0</td>\n",
       "      <td>173.0</td>\n",
       "      <td>88.0</td>\n",
       "      <td>85.50</td>\n",
       "      <td>57.0</td>\n",
       "      <td>36100.0</td>\n",
       "    </tr>\n",
       "    <tr>\n",
       "      <th>17</th>\n",
       "      <td>1470.0</td>\n",
       "      <td>173.0</td>\n",
       "      <td>82.0</td>\n",
       "      <td>83.00</td>\n",
       "      <td>57.0</td>\n",
       "      <td>33100.0</td>\n",
       "    </tr>\n",
       "    <tr>\n",
       "      <th>18</th>\n",
       "      <td>909.0</td>\n",
       "      <td>138.0</td>\n",
       "      <td>77.5</td>\n",
       "      <td>66.00</td>\n",
       "      <td>48.0</td>\n",
       "      <td>9850.0</td>\n",
       "    </tr>\n",
       "    <tr>\n",
       "      <th>19</th>\n",
       "      <td>1041.0</td>\n",
       "      <td>144.0</td>\n",
       "      <td>77.5</td>\n",
       "      <td>66.00</td>\n",
       "      <td>48.0</td>\n",
       "      <td>16335.0</td>\n",
       "    </tr>\n",
       "    <tr>\n",
       "      <th>20</th>\n",
       "      <td>1455.0</td>\n",
       "      <td>168.0</td>\n",
       "      <td>83.0</td>\n",
       "      <td>67.00</td>\n",
       "      <td>48.0</td>\n",
       "      <td>25735.0</td>\n",
       "    </tr>\n",
       "    <tr>\n",
       "      <th>21</th>\n",
       "      <td>840.0</td>\n",
       "      <td>140.0</td>\n",
       "      <td>75.0</td>\n",
       "      <td>52.00</td>\n",
       "      <td>78.0</td>\n",
       "      <td>14495.0</td>\n",
       "    </tr>\n",
       "    <tr>\n",
       "      <th>22</th>\n",
       "      <td>116.8</td>\n",
       "      <td>83.0</td>\n",
       "      <td>51.0</td>\n",
       "      <td>11.00</td>\n",
       "      <td>0.0</td>\n",
       "      <td>5695.0</td>\n",
       "    </tr>\n",
       "    <tr>\n",
       "      <th>23</th>\n",
       "      <td>450.0</td>\n",
       "      <td>40.0</td>\n",
       "      <td>43.0</td>\n",
       "      <td>26.00</td>\n",
       "      <td>0.0</td>\n",
       "      <td>7996.0</td>\n",
       "    </tr>\n",
       "    <tr>\n",
       "      <th>24</th>\n",
       "      <td>580.0</td>\n",
       "      <td>136.0</td>\n",
       "      <td>66.0</td>\n",
       "      <td>65.00</td>\n",
       "      <td>46.0</td>\n",
       "      <td>5995.0</td>\n",
       "    </tr>\n",
       "    <tr>\n",
       "      <th>25</th>\n",
       "      <td>765.0</td>\n",
       "      <td>136.0</td>\n",
       "      <td>94.0</td>\n",
       "      <td>65.00</td>\n",
       "      <td>46.0</td>\n",
       "      <td>7645.0</td>\n",
       "    </tr>\n",
       "    <tr>\n",
       "      <th>26</th>\n",
       "      <td>840.0</td>\n",
       "      <td>136.0</td>\n",
       "      <td>94.0</td>\n",
       "      <td>87.00</td>\n",
       "      <td>70.0</td>\n",
       "      <td>9220.0</td>\n",
       "    </tr>\n",
       "    <tr>\n",
       "      <th>27</th>\n",
       "      <td>1650.0</td>\n",
       "      <td>168.0</td>\n",
       "      <td>86.0</td>\n",
       "      <td>80.00</td>\n",
       "      <td>54.5</td>\n",
       "      <td>30180.0</td>\n",
       "    </tr>\n",
       "    <tr>\n",
       "      <th>28</th>\n",
       "      <td>1650.0</td>\n",
       "      <td>168.0</td>\n",
       "      <td>86.0</td>\n",
       "      <td>80.00</td>\n",
       "      <td>54.5</td>\n",
       "      <td>29180.0</td>\n",
       "    </tr>\n",
       "    <tr>\n",
       "      <th>29</th>\n",
       "      <td>1850.0</td>\n",
       "      <td>168.0</td>\n",
       "      <td>88.0</td>\n",
       "      <td>81.00</td>\n",
       "      <td>54.5</td>\n",
       "      <td>31680.0</td>\n",
       "    </tr>\n",
       "    <tr>\n",
       "      <th>30</th>\n",
       "      <td>2000.0</td>\n",
       "      <td>168.0</td>\n",
       "      <td>88.0</td>\n",
       "      <td>83.00</td>\n",
       "      <td>54.5</td>\n",
       "      <td>32680.0</td>\n",
       "    </tr>\n",
       "    <tr>\n",
       "      <th>31</th>\n",
       "      <td>2600.0</td>\n",
       "      <td>182.0</td>\n",
       "      <td>90.0</td>\n",
       "      <td>86.00</td>\n",
       "      <td>54.5</td>\n",
       "      <td>44335.0</td>\n",
       "    </tr>\n",
       "    <tr>\n",
       "      <th>32</th>\n",
       "      <td>1100.0</td>\n",
       "      <td>156.0</td>\n",
       "      <td>80.0</td>\n",
       "      <td>80.50</td>\n",
       "      <td>58.0</td>\n",
       "      <td>9991.0</td>\n",
       "    </tr>\n",
       "    <tr>\n",
       "      <th>33</th>\n",
       "      <td>1350.0</td>\n",
       "      <td>156.0</td>\n",
       "      <td>80.0</td>\n",
       "      <td>80.50</td>\n",
       "      <td>58.0</td>\n",
       "      <td>16997.0</td>\n",
       "    </tr>\n",
       "    <tr>\n",
       "      <th>34</th>\n",
       "      <td>1100.0</td>\n",
       "      <td>156.0</td>\n",
       "      <td>80.0</td>\n",
       "      <td>69.00</td>\n",
       "      <td>44.0</td>\n",
       "      <td>15991.0</td>\n",
       "    </tr>\n",
       "    <tr>\n",
       "      <th>35</th>\n",
       "      <td>1400.0</td>\n",
       "      <td>156.0</td>\n",
       "      <td>80.0</td>\n",
       "      <td>80.50</td>\n",
       "      <td>58.0</td>\n",
       "      <td>19991.0</td>\n",
       "    </tr>\n",
       "    <tr>\n",
       "      <th>36</th>\n",
       "      <td>1525.0</td>\n",
       "      <td>168.0</td>\n",
       "      <td>80.0</td>\n",
       "      <td>94.00</td>\n",
       "      <td>70.0</td>\n",
       "      <td>21997.0</td>\n",
       "    </tr>\n",
       "    <tr>\n",
       "      <th>37</th>\n",
       "      <td>800.0</td>\n",
       "      <td>144.0</td>\n",
       "      <td>80.0</td>\n",
       "      <td>68.00</td>\n",
       "      <td>44.0</td>\n",
       "      <td>9999.0</td>\n",
       "    </tr>\n",
       "    <tr>\n",
       "      <th>38</th>\n",
       "      <td>800.0</td>\n",
       "      <td>144.0</td>\n",
       "      <td>80.0</td>\n",
       "      <td>68.00</td>\n",
       "      <td>44.0</td>\n",
       "      <td>10499.0</td>\n",
       "    </tr>\n",
       "    <tr>\n",
       "      <th>39</th>\n",
       "      <td>900.0</td>\n",
       "      <td>156.0</td>\n",
       "      <td>80.0</td>\n",
       "      <td>68.00</td>\n",
       "      <td>44.0</td>\n",
       "      <td>11499.0</td>\n",
       "    </tr>\n",
       "    <tr>\n",
       "      <th>40</th>\n",
       "      <td>1000.0</td>\n",
       "      <td>168.0</td>\n",
       "      <td>80.0</td>\n",
       "      <td>68.00</td>\n",
       "      <td>44.0</td>\n",
       "      <td>12499.0</td>\n",
       "    </tr>\n",
       "    <tr>\n",
       "      <th>41</th>\n",
       "      <td>1000.0</td>\n",
       "      <td>147.0</td>\n",
       "      <td>81.0</td>\n",
       "      <td>71.00</td>\n",
       "      <td>44.0</td>\n",
       "      <td>13499.0</td>\n",
       "    </tr>\n",
       "    <tr>\n",
       "      <th>42</th>\n",
       "      <td>1100.0</td>\n",
       "      <td>159.0</td>\n",
       "      <td>81.0</td>\n",
       "      <td>71.00</td>\n",
       "      <td>44.0</td>\n",
       "      <td>14499.0</td>\n",
       "    </tr>\n",
       "    <tr>\n",
       "      <th>43</th>\n",
       "      <td>1200.0</td>\n",
       "      <td>171.0</td>\n",
       "      <td>81.0</td>\n",
       "      <td>71.00</td>\n",
       "      <td>44.0</td>\n",
       "      <td>15499.0</td>\n",
       "    </tr>\n",
       "    <tr>\n",
       "      <th>44</th>\n",
       "      <td>1100.0</td>\n",
       "      <td>155.0</td>\n",
       "      <td>84.0</td>\n",
       "      <td>75.00</td>\n",
       "      <td>44.0</td>\n",
       "      <td>18799.0</td>\n",
       "    </tr>\n",
       "    <tr>\n",
       "      <th>45</th>\n",
       "      <td>1200.0</td>\n",
       "      <td>167.0</td>\n",
       "      <td>84.0</td>\n",
       "      <td>75.00</td>\n",
       "      <td>44.0</td>\n",
       "      <td>19799.0</td>\n",
       "    </tr>\n",
       "    <tr>\n",
       "      <th>46</th>\n",
       "      <td>1300.0</td>\n",
       "      <td>179.0</td>\n",
       "      <td>84.0</td>\n",
       "      <td>75.00</td>\n",
       "      <td>44.0</td>\n",
       "      <td>20799.0</td>\n",
       "    </tr>\n",
       "    <tr>\n",
       "      <th>47</th>\n",
       "      <td>1350.0</td>\n",
       "      <td>165.0</td>\n",
       "      <td>80.0</td>\n",
       "      <td>65.25</td>\n",
       "      <td>44.5</td>\n",
       "      <td>13750.0</td>\n",
       "    </tr>\n",
       "    <tr>\n",
       "      <th>48</th>\n",
       "      <td>1350.0</td>\n",
       "      <td>165.0</td>\n",
       "      <td>80.0</td>\n",
       "      <td>65.25</td>\n",
       "      <td>44.5</td>\n",
       "      <td>14750.0</td>\n",
       "    </tr>\n",
       "    <tr>\n",
       "      <th>49</th>\n",
       "      <td>1350.0</td>\n",
       "      <td>165.0</td>\n",
       "      <td>80.0</td>\n",
       "      <td>68.75</td>\n",
       "      <td>44.5</td>\n",
       "      <td>16250.0</td>\n",
       "    </tr>\n",
       "    <tr>\n",
       "      <th>50</th>\n",
       "      <td>1350.0</td>\n",
       "      <td>165.0</td>\n",
       "      <td>60.0</td>\n",
       "      <td>68.75</td>\n",
       "      <td>44.5</td>\n",
       "      <td>17250.0</td>\n",
       "    </tr>\n",
       "    <tr>\n",
       "      <th>51</th>\n",
       "      <td>1750.0</td>\n",
       "      <td>200.0</td>\n",
       "      <td>80.0</td>\n",
       "      <td>69.00</td>\n",
       "      <td>44.5</td>\n",
       "      <td>19950.0</td>\n",
       "    </tr>\n",
       "  </tbody>\n",
       "</table>\n",
       "</div>"
      ],
      "text/plain": [
       "    tdweight  length  exterior width  eheight  intheight    price\n",
       "0     1660.0   198.0           102.0    84.00       54.0  14879.0\n",
       "1     2260.0   194.0           102.0   108.00       74.0  18489.0\n",
       "2     1320.0   144.0           102.0    90.00       54.0  12500.0\n",
       "3     1320.0   144.0           102.0    90.00       54.0  14997.0\n",
       "4     1930.0   185.0           102.0   105.00       73.0  15965.0\n",
       "5     2260.0   188.0           102.0   108.00       74.0  18689.0\n",
       "6      720.0   144.0            48.0    64.00       46.0   5500.0\n",
       "7      820.0   144.0            60.0    64.00       46.0   6500.0\n",
       "8      820.0   144.0            60.0    64.00       46.0   6999.0\n",
       "9      999.0   144.0            60.0    64.00       46.0   7999.0\n",
       "10    1190.0   144.0            60.0    64.00       46.0   9999.0\n",
       "11     990.0   144.0            68.0    73.00       46.5   7450.0\n",
       "12    1080.0   144.0            80.0    73.00       58.5   8569.0\n",
       "13    1190.0   144.0            92.0    73.00       70.5   9039.0\n",
       "14    1000.0   148.0            76.0    70.50       46.0  24800.0\n",
       "15    1150.0   148.0            82.0    71.00       46.0  26500.0\n",
       "16    1750.0   173.0            88.0    85.50       57.0  36100.0\n",
       "17    1470.0   173.0            82.0    83.00       57.0  33100.0\n",
       "18     909.0   138.0            77.5    66.00       48.0   9850.0\n",
       "19    1041.0   144.0            77.5    66.00       48.0  16335.0\n",
       "20    1455.0   168.0            83.0    67.00       48.0  25735.0\n",
       "21     840.0   140.0            75.0    52.00       78.0  14495.0\n",
       "22     116.8    83.0            51.0    11.00        0.0   5695.0\n",
       "23     450.0    40.0            43.0    26.00        0.0   7996.0\n",
       "24     580.0   136.0            66.0    65.00       46.0   5995.0\n",
       "25     765.0   136.0            94.0    65.00       46.0   7645.0\n",
       "26     840.0   136.0            94.0    87.00       70.0   9220.0\n",
       "27    1650.0   168.0            86.0    80.00       54.5  30180.0\n",
       "28    1650.0   168.0            86.0    80.00       54.5  29180.0\n",
       "29    1850.0   168.0            88.0    81.00       54.5  31680.0\n",
       "30    2000.0   168.0            88.0    83.00       54.5  32680.0\n",
       "31    2600.0   182.0            90.0    86.00       54.5  44335.0\n",
       "32    1100.0   156.0            80.0    80.50       58.0   9991.0\n",
       "33    1350.0   156.0            80.0    80.50       58.0  16997.0\n",
       "34    1100.0   156.0            80.0    69.00       44.0  15991.0\n",
       "35    1400.0   156.0            80.0    80.50       58.0  19991.0\n",
       "36    1525.0   168.0            80.0    94.00       70.0  21997.0\n",
       "37     800.0   144.0            80.0    68.00       44.0   9999.0\n",
       "38     800.0   144.0            80.0    68.00       44.0  10499.0\n",
       "39     900.0   156.0            80.0    68.00       44.0  11499.0\n",
       "40    1000.0   168.0            80.0    68.00       44.0  12499.0\n",
       "41    1000.0   147.0            81.0    71.00       44.0  13499.0\n",
       "42    1100.0   159.0            81.0    71.00       44.0  14499.0\n",
       "43    1200.0   171.0            81.0    71.00       44.0  15499.0\n",
       "44    1100.0   155.0            84.0    75.00       44.0  18799.0\n",
       "45    1200.0   167.0            84.0    75.00       44.0  19799.0\n",
       "46    1300.0   179.0            84.0    75.00       44.0  20799.0\n",
       "47    1350.0   165.0            80.0    65.25       44.5  13750.0\n",
       "48    1350.0   165.0            80.0    65.25       44.5  14750.0\n",
       "49    1350.0   165.0            80.0    68.75       44.5  16250.0\n",
       "50    1350.0   165.0            60.0    68.75       44.5  17250.0\n",
       "51    1750.0   200.0            80.0    69.00       44.5  19950.0"
      ]
     },
     "execution_count": 13,
     "metadata": {},
     "output_type": "execute_result"
    }
   ],
   "source": [
    "data2"
   ]
  },
  {
   "cell_type": "code",
   "execution_count": 14,
   "id": "44937c1d",
   "metadata": {
    "execution": {
     "iopub.execute_input": "2023-03-06T20:29:03.881380Z",
     "iopub.status.busy": "2023-03-06T20:29:03.880765Z",
     "iopub.status.idle": "2023-03-06T20:29:03.888178Z",
     "shell.execute_reply": "2023-03-06T20:29:03.887342Z"
    },
    "papermill": {
     "duration": 0.026562,
     "end_time": "2023-03-06T20:29:03.890076",
     "exception": false,
     "start_time": "2023-03-06T20:29:03.863514",
     "status": "completed"
    },
    "tags": []
   },
   "outputs": [
    {
     "data": {
      "text/plain": [
       "tdweight          0\n",
       "length            0\n",
       "exterior width    0\n",
       "eheight           0\n",
       "intheight         0\n",
       "price             0\n",
       "dtype: int64"
      ]
     },
     "execution_count": 14,
     "metadata": {},
     "output_type": "execute_result"
    }
   ],
   "source": [
    "data2.isna().sum()"
   ]
  },
  {
   "cell_type": "code",
   "execution_count": 15,
   "id": "dd9e16d6",
   "metadata": {
    "execution": {
     "iopub.execute_input": "2023-03-06T20:29:03.917331Z",
     "iopub.status.busy": "2023-03-06T20:29:03.916725Z",
     "iopub.status.idle": "2023-03-06T20:29:03.922964Z",
     "shell.execute_reply": "2023-03-06T20:29:03.922361Z"
    },
    "papermill": {
     "duration": 0.021607,
     "end_time": "2023-03-06T20:29:03.924642",
     "exception": false,
     "start_time": "2023-03-06T20:29:03.903035",
     "status": "completed"
    },
    "tags": []
   },
   "outputs": [
    {
     "data": {
      "text/plain": [
       "tdweight          float64\n",
       "length            float64\n",
       "exterior width    float64\n",
       "eheight           float64\n",
       "intheight         float64\n",
       "price             float64\n",
       "dtype: object"
      ]
     },
     "execution_count": 15,
     "metadata": {},
     "output_type": "execute_result"
    }
   ],
   "source": [
    "data2.dtypes"
   ]
  },
  {
   "cell_type": "code",
   "execution_count": 16,
   "id": "b8d112e8",
   "metadata": {
    "execution": {
     "iopub.execute_input": "2023-03-06T20:29:03.953647Z",
     "iopub.status.busy": "2023-03-06T20:29:03.953052Z",
     "iopub.status.idle": "2023-03-06T20:29:03.957393Z",
     "shell.execute_reply": "2023-03-06T20:29:03.956383Z"
    },
    "papermill": {
     "duration": 0.02038,
     "end_time": "2023-03-06T20:29:03.959497",
     "exception": false,
     "start_time": "2023-03-06T20:29:03.939117",
     "status": "completed"
    },
    "tags": []
   },
   "outputs": [],
   "source": [
    "#data2['tdweight'] = data2['tdweight'].astype(float)"
   ]
  },
  {
   "cell_type": "code",
   "execution_count": 17,
   "id": "67a321a3",
   "metadata": {
    "execution": {
     "iopub.execute_input": "2023-03-06T20:29:03.987768Z",
     "iopub.status.busy": "2023-03-06T20:29:03.987168Z",
     "iopub.status.idle": "2023-03-06T20:29:10.035925Z",
     "shell.execute_reply": "2023-03-06T20:29:10.034039Z"
    },
    "papermill": {
     "duration": 6.066125,
     "end_time": "2023-03-06T20:29:10.038880",
     "exception": false,
     "start_time": "2023-03-06T20:29:03.972755",
     "status": "completed"
    },
    "tags": []
   },
   "outputs": [
    {
     "data": {
      "text/plain": [
       "<seaborn.axisgrid.PairGrid at 0x7fe5f9b392d0>"
      ]
     },
     "execution_count": 17,
     "metadata": {},
     "output_type": "execute_result"
    },
    {
     "data": {
      "image/png": "[encoded data removed]",
      "text/plain": [
       "<Figure size 1500x1500 with 42 Axes>"
      ]
     },
     "metadata": {},
     "output_type": "display_data"
    }
   ],
   "source": [
    "sns.pairplot(data2)"
   ]
  },
  {
   "cell_type": "markdown",
   "id": "ca74f152",
   "metadata": {
    "papermill": {
     "duration": 0.01565,
     "end_time": "2023-03-06T20:29:10.070931",
     "exception": false,
     "start_time": "2023-03-06T20:29:10.055281",
     "status": "completed"
    },
    "tags": []
   },
   "source": [
    "Of all the variables, total dry weight appears to be the most correlated with the price. Let's look at it a bit more closely. "
   ]
  },
  {
   "cell_type": "code",
   "execution_count": 18,
   "id": "6ab98a18",
   "metadata": {
    "execution": {
     "iopub.execute_input": "2023-03-06T20:29:10.103078Z",
     "iopub.status.busy": "2023-03-06T20:29:10.102764Z",
     "iopub.status.idle": "2023-03-06T20:29:10.311881Z",
     "shell.execute_reply": "2023-03-06T20:29:10.310471Z"
    },
    "papermill": {
     "duration": 0.228199,
     "end_time": "2023-03-06T20:29:10.314393",
     "exception": false,
     "start_time": "2023-03-06T20:29:10.086194",
     "status": "completed"
    },
    "tags": []
   },
   "outputs": [
    {
     "data": {
      "text/plain": [
       "Text(0.5, 0, 'Price ($)')"
      ]
     },
     "execution_count": 18,
     "metadata": {},
     "output_type": "execute_result"
    },
    {
     "data": {
      "image/png": "[encoded data removed]",
      "text/plain": [
       "<Figure size 640x480 with 1 Axes>"
      ]
     },
     "metadata": {},
     "output_type": "display_data"
    }
   ],
   "source": [
    "x=\"price\"\n",
    "y= \"tdweight\"\n",
    "plt.scatter(x, y, data=data2, alpha=0.6);\n",
    "plt.title(\"Price of Trailer by Weight in lbs\", fontsize=20)\n",
    "plt.ylabel(\"Total Dry Weight (lbs)\", fontsize=15)\n",
    "plt.xlabel(\"Price ($)\", fontsize=15)\n",
    "#highlight last point"
   ]
  },
  {
   "cell_type": "code",
   "execution_count": 19,
   "id": "d1d584b2",
   "metadata": {
    "execution": {
     "iopub.execute_input": "2023-03-06T20:29:10.351034Z",
     "iopub.status.busy": "2023-03-06T20:29:10.350688Z",
     "iopub.status.idle": "2023-03-06T20:29:10.364027Z",
     "shell.execute_reply": "2023-03-06T20:29:10.362724Z"
    },
    "papermill": {
     "duration": 0.034728,
     "end_time": "2023-03-06T20:29:10.366480",
     "exception": false,
     "start_time": "2023-03-06T20:29:10.331752",
     "status": "completed"
    },
    "tags": []
   },
   "outputs": [
    {
     "data": {
      "text/html": [
       "<div>\n",
       "<style scoped>\n",
       "    .dataframe tbody tr th:only-of-type {\n",
       "        vertical-align: middle;\n",
       "    }\n",
       "\n",
       "    .dataframe tbody tr th {\n",
       "        vertical-align: top;\n",
       "    }\n",
       "\n",
       "    .dataframe thead th {\n",
       "        text-align: right;\n",
       "    }\n",
       "</style>\n",
       "<table border=\"1\" class=\"dataframe\">\n",
       "  <thead>\n",
       "    <tr style=\"text-align: right;\">\n",
       "      <th></th>\n",
       "      <th>tdweight</th>\n",
       "      <th>length</th>\n",
       "      <th>exterior width</th>\n",
       "      <th>eheight</th>\n",
       "      <th>intheight</th>\n",
       "      <th>price</th>\n",
       "    </tr>\n",
       "  </thead>\n",
       "  <tbody>\n",
       "    <tr>\n",
       "      <th>tdweight</th>\n",
       "      <td>1.000000</td>\n",
       "      <td>0.772707</td>\n",
       "      <td>0.639788</td>\n",
       "      <td>0.762135</td>\n",
       "      <td>0.571656</td>\n",
       "      <td>0.739339</td>\n",
       "    </tr>\n",
       "    <tr>\n",
       "      <th>length</th>\n",
       "      <td>0.772707</td>\n",
       "      <td>1.000000</td>\n",
       "      <td>0.619544</td>\n",
       "      <td>0.746848</td>\n",
       "      <td>0.629951</td>\n",
       "      <td>0.512671</td>\n",
       "    </tr>\n",
       "    <tr>\n",
       "      <th>exterior width</th>\n",
       "      <td>0.639788</td>\n",
       "      <td>0.619544</td>\n",
       "      <td>1.000000</td>\n",
       "      <td>0.776988</td>\n",
       "      <td>0.646660</td>\n",
       "      <td>0.403914</td>\n",
       "    </tr>\n",
       "    <tr>\n",
       "      <th>eheight</th>\n",
       "      <td>0.762135</td>\n",
       "      <td>0.746848</td>\n",
       "      <td>0.776988</td>\n",
       "      <td>1.000000</td>\n",
       "      <td>0.814423</td>\n",
       "      <td>0.422420</td>\n",
       "    </tr>\n",
       "    <tr>\n",
       "      <th>intheight</th>\n",
       "      <td>0.571656</td>\n",
       "      <td>0.629951</td>\n",
       "      <td>0.646660</td>\n",
       "      <td>0.814423</td>\n",
       "      <td>1.000000</td>\n",
       "      <td>0.264935</td>\n",
       "    </tr>\n",
       "    <tr>\n",
       "      <th>price</th>\n",
       "      <td>0.739339</td>\n",
       "      <td>0.512671</td>\n",
       "      <td>0.403914</td>\n",
       "      <td>0.422420</td>\n",
       "      <td>0.264935</td>\n",
       "      <td>1.000000</td>\n",
       "    </tr>\n",
       "  </tbody>\n",
       "</table>\n",
       "</div>"
      ],
      "text/plain": [
       "                tdweight    length  exterior width   eheight  intheight  \\\n",
       "tdweight        1.000000  0.772707        0.639788  0.762135   0.571656   \n",
       "length          0.772707  1.000000        0.619544  0.746848   0.629951   \n",
       "exterior width  0.639788  0.619544        1.000000  0.776988   0.646660   \n",
       "eheight         0.762135  0.746848        0.776988  1.000000   0.814423   \n",
       "intheight       0.571656  0.629951        0.646660  0.814423   1.000000   \n",
       "price           0.739339  0.512671        0.403914  0.422420   0.264935   \n",
       "\n",
       "                   price  \n",
       "tdweight        0.739339  \n",
       "length          0.512671  \n",
       "exterior width  0.403914  \n",
       "eheight         0.422420  \n",
       "intheight       0.264935  \n",
       "price           1.000000  "
      ]
     },
     "execution_count": 19,
     "metadata": {},
     "output_type": "execute_result"
    }
   ],
   "source": [
    "corr=data2.corr()\n",
    "corr"
   ]
  },
  {
   "cell_type": "code",
   "execution_count": 20,
   "id": "8d890b75",
   "metadata": {
    "execution": {
     "iopub.execute_input": "2023-03-06T20:29:10.401685Z",
     "iopub.status.busy": "2023-03-06T20:29:10.401262Z",
     "iopub.status.idle": "2023-03-06T20:29:10.802887Z",
     "shell.execute_reply": "2023-03-06T20:29:10.801287Z"
    },
    "papermill": {
     "duration": 0.422276,
     "end_time": "2023-03-06T20:29:10.805430",
     "exception": false,
     "start_time": "2023-03-06T20:29:10.383154",
     "status": "completed"
    },
    "tags": []
   },
   "outputs": [
    {
     "data": {
      "text/plain": [
       "<AxesSubplot:>"
      ]
     },
     "execution_count": 20,
     "metadata": {},
     "output_type": "execute_result"
    },
    {
     "data": {
      "image/png": "[encoded data removed]",
      "text/plain": [
       "<Figure size 1000x800 with 2 Axes>"
      ]
     },
     "metadata": {},
     "output_type": "display_data"
    }
   ],
   "source": [
    "plt.figure(figsize=(10,8))\n",
    "sns.heatmap(corr,annot=True)"
   ]
  },
  {
   "cell_type": "markdown",
   "id": "6464a3e1",
   "metadata": {
    "papermill": {
     "duration": 0.017358,
     "end_time": "2023-03-06T20:29:10.840584",
     "exception": false,
     "start_time": "2023-03-06T20:29:10.823226",
     "status": "completed"
    },
    "tags": []
   },
   "source": [
    "# Machine Learning Modeling\n",
    "The data is now clean and we can move forward with creating some machine learning models. Once we settle on the best model it can be used to predict the target price of the trailer in question."
   ]
  },
  {
   "cell_type": "code",
   "execution_count": 21,
   "id": "d6ed36e6",
   "metadata": {
    "execution": {
     "iopub.execute_input": "2023-03-06T20:29:10.878084Z",
     "iopub.status.busy": "2023-03-06T20:29:10.877170Z",
     "iopub.status.idle": "2023-03-06T20:29:10.883127Z",
     "shell.execute_reply": "2023-03-06T20:29:10.882166Z"
    },
    "papermill": {
     "duration": 0.02701,
     "end_time": "2023-03-06T20:29:10.885382",
     "exception": false,
     "start_time": "2023-03-06T20:29:10.858372",
     "status": "completed"
    },
    "tags": []
   },
   "outputs": [],
   "source": [
    "#here the data is split up into X,y where X contains everything but price and y contains what we want to predict (price)\n",
    "#price is what we want to predict\n",
    "X = data2.drop(['price'],axis=1)\n",
    "y=data2['price']"
   ]
  },
  {
   "cell_type": "code",
   "execution_count": 22,
   "id": "669724b6",
   "metadata": {
    "execution": {
     "iopub.execute_input": "2023-03-06T20:29:10.923429Z",
     "iopub.status.busy": "2023-03-06T20:29:10.922669Z",
     "iopub.status.idle": "2023-03-06T20:29:10.932152Z",
     "shell.execute_reply": "2023-03-06T20:29:10.930795Z"
    },
    "papermill": {
     "duration": 0.031355,
     "end_time": "2023-03-06T20:29:10.934589",
     "exception": false,
     "start_time": "2023-03-06T20:29:10.903234",
     "status": "completed"
    },
    "tags": []
   },
   "outputs": [],
   "source": [
    "X_train,X_test,y_train,y_test = train_test_split(X,y,test_size=0.30,random_state=1)"
   ]
  },
  {
   "cell_type": "code",
   "execution_count": 23,
   "id": "869cba1f",
   "metadata": {
    "execution": {
     "iopub.execute_input": "2023-03-06T20:29:10.970786Z",
     "iopub.status.busy": "2023-03-06T20:29:10.970449Z",
     "iopub.status.idle": "2023-03-06T20:29:10.979436Z",
     "shell.execute_reply": "2023-03-06T20:29:10.978014Z"
    },
    "papermill": {
     "duration": 0.029906,
     "end_time": "2023-03-06T20:29:10.981746",
     "exception": false,
     "start_time": "2023-03-06T20:29:10.951840",
     "status": "completed"
    },
    "tags": []
   },
   "outputs": [],
   "source": [
    "#scaling the data\n",
    "#this usually helps with modeling\n",
    "scaler = StandardScaler()\n",
    "\n",
    "X_train_scaled = scaler.fit_transform(X_train)\n",
    "X_test_scaled = scaler.transform(X_test)"
   ]
  },
  {
   "cell_type": "code",
   "execution_count": 24,
   "id": "a6f58d60",
   "metadata": {
    "execution": {
     "iopub.execute_input": "2023-03-06T20:29:11.017161Z",
     "iopub.status.busy": "2023-03-06T20:29:11.016821Z",
     "iopub.status.idle": "2023-03-06T20:29:11.021720Z",
     "shell.execute_reply": "2023-03-06T20:29:11.020957Z"
    },
    "papermill": {
     "duration": 0.025157,
     "end_time": "2023-03-06T20:29:11.023937",
     "exception": false,
     "start_time": "2023-03-06T20:29:10.998780",
     "status": "completed"
    },
    "tags": []
   },
   "outputs": [],
   "source": [
    "#function which runs different ML models and prints R^2, MAE and RMSE\n",
    "def run_experiment(model):\n",
    "    model.fit(X_train_scaled, y_train)\n",
    "    y_pred = model.predict(X_test_scaled)\n",
    "    print(\"R^2 : \", r2_score(y_test, y_pred))\n",
    "    print(\"MAE :\", mean_absolute_error(y_test,y_pred))\n",
    "    print(\"RMSE:\",np.sqrt(mean_squared_error(y_test, y_pred)))"
   ]
  },
  {
   "cell_type": "markdown",
   "id": "57a71040",
   "metadata": {
    "papermill": {
     "duration": 0.018632,
     "end_time": "2023-03-06T20:29:11.061027",
     "exception": false,
     "start_time": "2023-03-06T20:29:11.042395",
     "status": "completed"
    },
    "tags": []
   },
   "source": [
    "Now the data is all cleaned up and ready for creating some machine learning models. A funtion has been written to run various models and output metrics "
   ]
  },
  {
   "cell_type": "code",
   "execution_count": 25,
   "id": "37914314",
   "metadata": {
    "execution": {
     "iopub.execute_input": "2023-03-06T20:29:11.099864Z",
     "iopub.status.busy": "2023-03-06T20:29:11.098109Z",
     "iopub.status.idle": "2023-03-06T20:29:11.112751Z",
     "shell.execute_reply": "2023-03-06T20:29:11.110947Z"
    },
    "papermill": {
     "duration": 0.036399,
     "end_time": "2023-03-06T20:29:11.115049",
     "exception": false,
     "start_time": "2023-03-06T20:29:11.078650",
     "status": "completed"
    },
    "tags": []
   },
   "outputs": [
    {
     "name": "stdout",
     "output_type": "stream",
     "text": [
      "R^2 :  0.7586004955998551\n",
      "MAE : 3547.4314644902656\n",
      "RMSE: 4475.676914782712\n"
     ]
    }
   ],
   "source": [
    "model_1 = LinearRegression()\n",
    "run_experiment(model_1)"
   ]
  },
  {
   "cell_type": "code",
   "execution_count": 26,
   "id": "02fad16a",
   "metadata": {
    "execution": {
     "iopub.execute_input": "2023-03-06T20:29:11.156234Z",
     "iopub.status.busy": "2023-03-06T20:29:11.154718Z",
     "iopub.status.idle": "2023-03-06T20:29:11.164361Z",
     "shell.execute_reply": "2023-03-06T20:29:11.163592Z"
    },
    "papermill": {
     "duration": 0.031896,
     "end_time": "2023-03-06T20:29:11.166258",
     "exception": false,
     "start_time": "2023-03-06T20:29:11.134362",
     "status": "completed"
    },
    "tags": []
   },
   "outputs": [
    {
     "name": "stdout",
     "output_type": "stream",
     "text": [
      "R^2 :  0.7473971012435442\n",
      "MAE : 3598.28125\n",
      "RMSE: 4578.357553820475\n"
     ]
    }
   ],
   "source": [
    "model_2 = DecisionTreeRegressor(random_state = 1)\n",
    "run_experiment(model_2)"
   ]
  },
  {
   "cell_type": "code",
   "execution_count": 27,
   "id": "40601ee6",
   "metadata": {
    "execution": {
     "iopub.execute_input": "2023-03-06T20:29:11.203633Z",
     "iopub.status.busy": "2023-03-06T20:29:11.202910Z",
     "iopub.status.idle": "2023-03-06T20:29:11.216173Z",
     "shell.execute_reply": "2023-03-06T20:29:11.214454Z"
    },
    "papermill": {
     "duration": 0.03516,
     "end_time": "2023-03-06T20:29:11.219119",
     "exception": false,
     "start_time": "2023-03-06T20:29:11.183959",
     "status": "completed"
    },
    "tags": []
   },
   "outputs": [
    {
     "name": "stdout",
     "output_type": "stream",
     "text": [
      "R^2 :  0.29081861402961817\n",
      "MAE : 5157.071402930066\n",
      "RMSE: 7671.304215139029\n"
     ]
    }
   ],
   "source": [
    "model_3 = Ridge(alpha=100, solver='cholesky', tol=0.0001, random_state=1)\n",
    "run_experiment(model_3)"
   ]
  },
  {
   "cell_type": "code",
   "execution_count": 28,
   "id": "71f85ef0",
   "metadata": {
    "execution": {
     "iopub.execute_input": "2023-03-06T20:29:11.255681Z",
     "iopub.status.busy": "2023-03-06T20:29:11.255368Z",
     "iopub.status.idle": "2023-03-06T20:29:11.265136Z",
     "shell.execute_reply": "2023-03-06T20:29:11.264232Z"
    },
    "papermill": {
     "duration": 0.030635,
     "end_time": "2023-03-06T20:29:11.267108",
     "exception": false,
     "start_time": "2023-03-06T20:29:11.236473",
     "status": "completed"
    },
    "tags": []
   },
   "outputs": [
    {
     "name": "stdout",
     "output_type": "stream",
     "text": [
      "R^2 :  0.747963074071445\n",
      "MAE : 3626.8519286875685\n",
      "RMSE: 4573.22562725803\n"
     ]
    }
   ],
   "source": [
    "model_4 = Lasso(alpha=0.1, precompute=True, positive=True, selection='random', random_state=1)\n",
    "run_experiment(model_4)"
   ]
  },
  {
   "cell_type": "code",
   "execution_count": 29,
   "id": "37641673",
   "metadata": {
    "execution": {
     "iopub.execute_input": "2023-03-06T20:29:11.305348Z",
     "iopub.status.busy": "2023-03-06T20:29:11.304647Z",
     "iopub.status.idle": "2023-03-06T20:29:11.314109Z",
     "shell.execute_reply": "2023-03-06T20:29:11.313166Z"
    },
    "papermill": {
     "duration": 0.030944,
     "end_time": "2023-03-06T20:29:11.315810",
     "exception": false,
     "start_time": "2023-03-06T20:29:11.284866",
     "status": "completed"
    },
    "tags": []
   },
   "outputs": [
    {
     "name": "stdout",
     "output_type": "stream",
     "text": [
      "R^2 :  0.7581874256384429\n",
      "MAE : 3589.3358568662507\n",
      "RMSE: 4479.50454792726\n"
     ]
    }
   ],
   "source": [
    "model_5 = ElasticNet(alpha=0.1, l1_ratio=0.9, selection='random', random_state=1)\n",
    "run_experiment(model_5)"
   ]
  },
  {
   "cell_type": "code",
   "execution_count": 30,
   "id": "b1810972",
   "metadata": {
    "execution": {
     "iopub.execute_input": "2023-03-06T20:29:11.353960Z",
     "iopub.status.busy": "2023-03-06T20:29:11.353500Z",
     "iopub.status.idle": "2023-03-06T20:29:11.365027Z",
     "shell.execute_reply": "2023-03-06T20:29:11.364111Z"
    },
    "papermill": {
     "duration": 0.034015,
     "end_time": "2023-03-06T20:29:11.367246",
     "exception": false,
     "start_time": "2023-03-06T20:29:11.333231",
     "status": "completed"
    },
    "tags": []
   },
   "outputs": [
    {
     "name": "stdout",
     "output_type": "stream",
     "text": [
      "R^2 :  0.7591955858842371\n",
      "MAE : 3544.3901589658726\n",
      "RMSE: 4470.156863420973\n"
     ]
    },
    {
     "name": "stderr",
     "output_type": "stream",
     "text": [
      "/opt/conda/lib/python3.7/site-packages/sklearn/linear_model/_base.py:138: FutureWarning: The default of 'normalize' will be set to False in version 1.2 and deprecated in version 1.4.\n",
      "If you wish to scale the data, use Pipeline with a StandardScaler in a preprocessing stage. To reproduce the previous behavior:\n",
      "\n",
      "from sklearn.pipeline import make_pipeline\n",
      "\n",
      "model = make_pipeline(StandardScaler(with_mean=False), LassoLars())\n",
      "\n",
      "If you wish to pass a sample_weight parameter, you need to pass it as a fit parameter to each step of the pipeline as follows:\n",
      "\n",
      "kwargs = {s[0] + '__sample_weight': sample_weight for s in model.steps}\n",
      "model.fit(X, y, **kwargs)\n",
      "\n",
      "Set parameter alpha to: original_alpha * np.sqrt(n_samples). \n",
      "  FutureWarning,\n"
     ]
    }
   ],
   "source": [
    "model_6 = LassoLars(alpha=.1)\n",
    "run_experiment(model_6)"
   ]
  },
  {
   "cell_type": "code",
   "execution_count": 31,
   "id": "3818c67d",
   "metadata": {
    "execution": {
     "iopub.execute_input": "2023-03-06T20:29:11.403424Z",
     "iopub.status.busy": "2023-03-06T20:29:11.402956Z",
     "iopub.status.idle": "2023-03-06T20:29:11.412931Z",
     "shell.execute_reply": "2023-03-06T20:29:11.412066Z"
    },
    "papermill": {
     "duration": 0.030858,
     "end_time": "2023-03-06T20:29:11.415335",
     "exception": false,
     "start_time": "2023-03-06T20:29:11.384477",
     "status": "completed"
    },
    "tags": []
   },
   "outputs": [
    {
     "name": "stdout",
     "output_type": "stream",
     "text": [
      "R^2 :  0.6985380778369921\n",
      "MAE : 4016.852760907983\n",
      "RMSE: 5001.574861357483\n"
     ]
    }
   ],
   "source": [
    "model_7 = BayesianRidge()\n",
    "run_experiment(model_7)"
   ]
  },
  {
   "cell_type": "code",
   "execution_count": 32,
   "id": "f66abfbf",
   "metadata": {
    "execution": {
     "iopub.execute_input": "2023-03-06T20:29:11.454194Z",
     "iopub.status.busy": "2023-03-06T20:29:11.453695Z",
     "iopub.status.idle": "2023-03-06T20:29:11.463711Z",
     "shell.execute_reply": "2023-03-06T20:29:11.462015Z"
    },
    "papermill": {
     "duration": 0.031887,
     "end_time": "2023-03-06T20:29:11.466158",
     "exception": false,
     "start_time": "2023-03-06T20:29:11.434271",
     "status": "completed"
    },
    "tags": []
   },
   "outputs": [
    {
     "name": "stdout",
     "output_type": "stream",
     "text": [
      "R^2 :  0.7578453605110195\n",
      "MAE : 3632.662320264423\n",
      "RMSE: 4482.6717545830425\n"
     ]
    }
   ],
   "source": [
    "model_8 = SGDRegressor(max_iter=1000, tol=1e-3)\n",
    "run_experiment(model_8)"
   ]
  },
  {
   "cell_type": "code",
   "execution_count": 33,
   "id": "623c1290",
   "metadata": {
    "execution": {
     "iopub.execute_input": "2023-03-06T20:29:11.505820Z",
     "iopub.status.busy": "2023-03-06T20:29:11.505320Z",
     "iopub.status.idle": "2023-03-06T20:29:11.513953Z",
     "shell.execute_reply": "2023-03-06T20:29:11.513211Z"
    },
    "papermill": {
     "duration": 0.031529,
     "end_time": "2023-03-06T20:29:11.517099",
     "exception": false,
     "start_time": "2023-03-06T20:29:11.485570",
     "status": "completed"
    },
    "tags": []
   },
   "outputs": [
    {
     "name": "stdout",
     "output_type": "stream",
     "text": [
      "R^2 :  -0.013982544202551406\n",
      "MAE : 5726.053483281188\n",
      "RMSE: 9172.8814527698\n"
     ]
    }
   ],
   "source": [
    "model_9 = SVR(epsilon=0.2)\n",
    "run_experiment(model_9)"
   ]
  },
  {
   "cell_type": "code",
   "execution_count": 34,
   "id": "e1786965",
   "metadata": {
    "execution": {
     "iopub.execute_input": "2023-03-06T20:29:11.555325Z",
     "iopub.status.busy": "2023-03-06T20:29:11.554981Z",
     "iopub.status.idle": "2023-03-06T20:29:11.670254Z",
     "shell.execute_reply": "2023-03-06T20:29:11.667580Z"
    },
    "papermill": {
     "duration": 0.138206,
     "end_time": "2023-03-06T20:29:11.674078",
     "exception": false,
     "start_time": "2023-03-06T20:29:11.535872",
     "status": "completed"
    },
    "tags": []
   },
   "outputs": [
    {
     "name": "stdout",
     "output_type": "stream",
     "text": [
      "R^2 :  0.5261209537970194\n",
      "MAE : 4043.2519906204893\n",
      "RMSE: 6270.819416319538\n"
     ]
    }
   ],
   "source": [
    "model_10 = RandomForestRegressor(n_estimators=100, min_samples_leaf=3, random_state=1)\n",
    "run_experiment(model_10)"
   ]
  },
  {
   "cell_type": "markdown",
   "id": "2e965737",
   "metadata": {
    "papermill": {
     "duration": 0.017809,
     "end_time": "2023-03-06T20:29:11.710361",
     "exception": false,
     "start_time": "2023-03-06T20:29:11.692552",
     "status": "completed"
    },
    "tags": []
   },
   "source": [
    "At first the Random Forest model was preforming the best, but now it is changing every time new data is added, so more comments will be made later."
   ]
  },
  {
   "cell_type": "markdown",
   "id": "3b298ab6",
   "metadata": {
    "papermill": {
     "duration": 0.018401,
     "end_time": "2023-03-06T20:29:11.747244",
     "exception": false,
     "start_time": "2023-03-06T20:29:11.728843",
     "status": "completed"
    },
    "tags": []
   },
   "source": [
    "## Hyperparameter Tuning\n",
    "Started this when the Random Forest was working better than other models by far, but now it's clear need to wait until the dataset is more complete."
   ]
  },
  {
   "cell_type": "code",
   "execution_count": 35,
   "id": "825924d3",
   "metadata": {
    "execution": {
     "iopub.execute_input": "2023-03-06T20:29:11.785272Z",
     "iopub.status.busy": "2023-03-06T20:29:11.784955Z",
     "iopub.status.idle": "2023-03-06T20:29:11.790083Z",
     "shell.execute_reply": "2023-03-06T20:29:11.788879Z"
    },
    "papermill": {
     "duration": 0.026926,
     "end_time": "2023-03-06T20:29:11.792678",
     "exception": false,
     "start_time": "2023-03-06T20:29:11.765752",
     "status": "completed"
    },
    "tags": []
   },
   "outputs": [],
   "source": [
    "#rfc=RandomForestRegressor(random_state=1)"
   ]
  },
  {
   "cell_type": "code",
   "execution_count": 36,
   "id": "61cc8b02",
   "metadata": {
    "execution": {
     "iopub.execute_input": "2023-03-06T20:29:11.832287Z",
     "iopub.status.busy": "2023-03-06T20:29:11.831931Z",
     "iopub.status.idle": "2023-03-06T20:29:11.836755Z",
     "shell.execute_reply": "2023-03-06T20:29:11.835679Z"
    },
    "papermill": {
     "duration": 0.027195,
     "end_time": "2023-03-06T20:29:11.838704",
     "exception": false,
     "start_time": "2023-03-06T20:29:11.811509",
     "status": "completed"
    },
    "tags": []
   },
   "outputs": [],
   "source": [
    "#param_grid = { \n",
    "#    'n_estimators': [100, 500, 1000, 5000],\n",
    "#    'max_features': ['auto', 'sqrt', 'log2'],\n",
    "    #to save time in updating the notebook, max_depth is also left out\n",
    "#    'max_depth' : [5, 10, 15],\n",
    "#    'min_samples_leaf' : [1,2,3,5],\n",
    "    #'criterion' :['squared_error', 'absolute_error', 'friedman_mse']\n",
    "#}\n"
   ]
  },
  {
   "cell_type": "code",
   "execution_count": 37,
   "id": "4bd6329b",
   "metadata": {
    "execution": {
     "iopub.execute_input": "2023-03-06T20:29:11.877813Z",
     "iopub.status.busy": "2023-03-06T20:29:11.877004Z",
     "iopub.status.idle": "2023-03-06T20:29:11.881036Z",
     "shell.execute_reply": "2023-03-06T20:29:11.880380Z"
    },
    "papermill": {
     "duration": 0.025936,
     "end_time": "2023-03-06T20:29:11.882898",
     "exception": false,
     "start_time": "2023-03-06T20:29:11.856962",
     "status": "completed"
    },
    "tags": []
   },
   "outputs": [],
   "source": [
    "#CV_rfc = GridSearchCV(estimator=rfc, param_grid=param_grid, cv= 5)\n",
    "#CV_rfc.fit(X_train_scaled, y_train)"
   ]
  },
  {
   "cell_type": "code",
   "execution_count": 38,
   "id": "d806e12e",
   "metadata": {
    "execution": {
     "iopub.execute_input": "2023-03-06T20:29:11.923629Z",
     "iopub.status.busy": "2023-03-06T20:29:11.921202Z",
     "iopub.status.idle": "2023-03-06T20:29:11.927590Z",
     "shell.execute_reply": "2023-03-06T20:29:11.926510Z"
    },
    "papermill": {
     "duration": 0.028598,
     "end_time": "2023-03-06T20:29:11.930127",
     "exception": false,
     "start_time": "2023-03-06T20:29:11.901529",
     "status": "completed"
    },
    "tags": []
   },
   "outputs": [],
   "source": [
    "#print the best parameters determined in GridSearchCV\n",
    "#CV_rfc.best_params_"
   ]
  },
  {
   "cell_type": "code",
   "execution_count": 39,
   "id": "1f86062f",
   "metadata": {
    "execution": {
     "iopub.execute_input": "2023-03-06T20:29:11.968820Z",
     "iopub.status.busy": "2023-03-06T20:29:11.968219Z",
     "iopub.status.idle": "2023-03-06T20:29:11.973536Z",
     "shell.execute_reply": "2023-03-06T20:29:11.972494Z"
    },
    "papermill": {
     "duration": 0.027225,
     "end_time": "2023-03-06T20:29:11.975745",
     "exception": false,
     "start_time": "2023-03-06T20:29:11.948520",
     "status": "completed"
    },
    "tags": []
   },
   "outputs": [],
   "source": [
    "#run a final model using the optimal parameters\n",
    "#final_model = RandomForestRegressor(n_estimators=5000, max_features='sqrt', max_depth=10, min_samples_leaf=1, random_state=1)\n",
    "#run_experiment(final_model)"
   ]
  },
  {
   "cell_type": "markdown",
   "id": "7a372026",
   "metadata": {
    "papermill": {
     "duration": 0.018294,
     "end_time": "2023-03-06T20:29:12.013017",
     "exception": false,
     "start_time": "2023-03-06T20:29:11.994723",
     "status": "completed"
    },
    "tags": []
   },
   "source": [
    "# Making a prediction for the target "
   ]
  },
  {
   "cell_type": "code",
   "execution_count": 40,
   "id": "dfde18bd",
   "metadata": {
    "execution": {
     "iopub.execute_input": "2023-03-06T20:29:12.052181Z",
     "iopub.status.busy": "2023-03-06T20:29:12.051412Z",
     "iopub.status.idle": "2023-03-06T20:29:12.062254Z",
     "shell.execute_reply": "2023-03-06T20:29:12.061442Z"
    },
    "papermill": {
     "duration": 0.033573,
     "end_time": "2023-03-06T20:29:12.064602",
     "exception": false,
     "start_time": "2023-03-06T20:29:12.031029",
     "status": "completed"
    },
    "tags": []
   },
   "outputs": [
    {
     "data": {
      "text/html": [
       "<div>\n",
       "<style scoped>\n",
       "    .dataframe tbody tr th:only-of-type {\n",
       "        vertical-align: middle;\n",
       "    }\n",
       "\n",
       "    .dataframe tbody tr th {\n",
       "        vertical-align: top;\n",
       "    }\n",
       "\n",
       "    .dataframe thead th {\n",
       "        text-align: right;\n",
       "    }\n",
       "</style>\n",
       "<table border=\"1\" class=\"dataframe\">\n",
       "  <thead>\n",
       "    <tr style=\"text-align: right;\">\n",
       "      <th></th>\n",
       "      <th>total dry weight</th>\n",
       "      <th>length</th>\n",
       "      <th>exterior width</th>\n",
       "      <th>exterior height</th>\n",
       "      <th>interior height</th>\n",
       "      <th>price</th>\n",
       "    </tr>\n",
       "  </thead>\n",
       "  <tbody>\n",
       "    <tr>\n",
       "      <th>52</th>\n",
       "      <td>850.0</td>\n",
       "      <td>144.0</td>\n",
       "      <td>93.0</td>\n",
       "      <td>72.0</td>\n",
       "      <td>47.0</td>\n",
       "      <td>9995.0</td>\n",
       "    </tr>\n",
       "  </tbody>\n",
       "</table>\n",
       "</div>"
      ],
      "text/plain": [
       "    total dry weight  length  exterior width  exterior height  \\\n",
       "52             850.0   144.0            93.0             72.0   \n",
       "\n",
       "    interior height   price  \n",
       "52             47.0  9995.0  "
      ]
     },
     "execution_count": 40,
     "metadata": {},
     "output_type": "execute_result"
    }
   ],
   "source": [
    "#select the row of the target\n",
    "new_input = data.iloc[52:53]\n",
    "new_input"
   ]
  },
  {
   "cell_type": "code",
   "execution_count": 41,
   "id": "67e8d67c",
   "metadata": {
    "execution": {
     "iopub.execute_input": "2023-03-06T20:29:12.103857Z",
     "iopub.status.busy": "2023-03-06T20:29:12.103487Z",
     "iopub.status.idle": "2023-03-06T20:29:12.116526Z",
     "shell.execute_reply": "2023-03-06T20:29:12.114897Z"
    },
    "papermill": {
     "duration": 0.035178,
     "end_time": "2023-03-06T20:29:12.119069",
     "exception": false,
     "start_time": "2023-03-06T20:29:12.083891",
     "status": "completed"
    },
    "tags": []
   },
   "outputs": [
    {
     "data": {
      "text/html": [
       "<div>\n",
       "<style scoped>\n",
       "    .dataframe tbody tr th:only-of-type {\n",
       "        vertical-align: middle;\n",
       "    }\n",
       "\n",
       "    .dataframe tbody tr th {\n",
       "        vertical-align: top;\n",
       "    }\n",
       "\n",
       "    .dataframe thead th {\n",
       "        text-align: right;\n",
       "    }\n",
       "</style>\n",
       "<table border=\"1\" class=\"dataframe\">\n",
       "  <thead>\n",
       "    <tr style=\"text-align: right;\">\n",
       "      <th></th>\n",
       "      <th>total dry weight</th>\n",
       "      <th>length</th>\n",
       "      <th>exterior width</th>\n",
       "      <th>exterior height</th>\n",
       "      <th>interior height</th>\n",
       "    </tr>\n",
       "  </thead>\n",
       "  <tbody>\n",
       "    <tr>\n",
       "      <th>52</th>\n",
       "      <td>850.0</td>\n",
       "      <td>144.0</td>\n",
       "      <td>93.0</td>\n",
       "      <td>72.0</td>\n",
       "      <td>47.0</td>\n",
       "    </tr>\n",
       "  </tbody>\n",
       "</table>\n",
       "</div>"
      ],
      "text/plain": [
       "    total dry weight  length  exterior width  exterior height  interior height\n",
       "52             850.0   144.0            93.0             72.0             47.0"
      ]
     },
     "execution_count": 41,
     "metadata": {},
     "output_type": "execute_result"
    }
   ],
   "source": [
    "#drop the variable to be predicted\n",
    "new_input=new_input.drop(['price'],axis=1)\n",
    "new_input"
   ]
  },
  {
   "cell_type": "code",
   "execution_count": 42,
   "id": "69b4c4a0",
   "metadata": {
    "execution": {
     "iopub.execute_input": "2023-03-06T20:29:12.160368Z",
     "iopub.status.busy": "2023-03-06T20:29:12.159980Z",
     "iopub.status.idle": "2023-03-06T20:29:12.168316Z",
     "shell.execute_reply": "2023-03-06T20:29:12.166334Z"
    },
    "papermill": {
     "duration": 0.033249,
     "end_time": "2023-03-06T20:29:12.171539",
     "exception": false,
     "start_time": "2023-03-06T20:29:12.138290",
     "status": "completed"
    },
    "tags": []
   },
   "outputs": [],
   "source": [
    "#scale the new input\n",
    "new_input_scaled = scaler.fit_transform(new_input)"
   ]
  },
  {
   "cell_type": "code",
   "execution_count": 43,
   "id": "9d99bd0e",
   "metadata": {
    "execution": {
     "iopub.execute_input": "2023-03-06T20:29:12.210990Z",
     "iopub.status.busy": "2023-03-06T20:29:12.210269Z",
     "iopub.status.idle": "2023-03-06T20:29:12.218758Z",
     "shell.execute_reply": "2023-03-06T20:29:12.217389Z"
    },
    "papermill": {
     "duration": 0.031424,
     "end_time": "2023-03-06T20:29:12.221702",
     "exception": false,
     "start_time": "2023-03-06T20:29:12.190278",
     "status": "completed"
    },
    "tags": []
   },
   "outputs": [
    {
     "data": {
      "text/plain": [
       "array([16497.85153738])"
      ]
     },
     "execution_count": 43,
     "metadata": {},
     "output_type": "execute_result"
    }
   ],
   "source": [
    "#gives prediction in USD\n",
    "new_output = model_8.predict(new_input_scaled)\n",
    "new_output"
   ]
  },
  {
   "cell_type": "markdown",
   "id": "25032190",
   "metadata": {
    "papermill": {
     "duration": 0.018781,
     "end_time": "2023-03-06T20:29:12.260990",
     "exception": false,
     "start_time": "2023-03-06T20:29:12.242209",
     "status": "completed"
    },
    "tags": []
   },
   "source": [
    "# Notes on the metrics used\n",
    "✔️ Regression Evaluation Metrics\n",
    "Here are three common evaluation metrics for regression problems:\n",
    "\n",
    "Mean Absolute Error (MAE) is the mean of the absolute value of the errors:\n",
    "1𝑛∑𝑖=1𝑛|𝑦𝑖−𝑦̂𝑖|\n",
    "1\n",
    "n\n",
    "∑\n",
    "i\n",
    "=\n",
    "1\n",
    "n\n",
    "|\n",
    "y\n",
    "i\n",
    "−\n",
    "y\n",
    "^\n",
    "i\n",
    "|\n",
    " \n",
    "\n",
    " \n",
    "Mean Squared Error (MSE) is the mean of the squared errors:\n",
    "1𝑛∑𝑖=1𝑛(𝑦𝑖−𝑦̂𝑖)2\n",
    "1\n",
    "n\n",
    "∑\n",
    "i\n",
    "=\n",
    "1\n",
    "n\n",
    "(\n",
    "y\n",
    "i\n",
    "−\n",
    "y\n",
    "^\n",
    "i\n",
    ")\n",
    "2\n",
    " \n",
    "Root Mean Squared Error (RMSE) is the square root of the mean of the squared errors:\n",
    "1𝑛∑𝑖=1𝑛(𝑦𝑖−𝑦̂𝑖)2‾‾‾‾‾‾‾‾‾‾‾‾‾‾⎷\n",
    "1\n",
    "n\n",
    "∑\n",
    "i\n",
    "=\n",
    "1\n",
    "n\n",
    "(\n",
    "y\n",
    "i\n",
    "−\n",
    "y\n",
    "^\n",
    "i\n",
    ")\n",
    "2\n",
    " \n",
    "📌 Comparing these metrics:\n",
    "\n",
    "MAE is the easiest to understand, because it's the average error.\n",
    "MSE is more popular than MAE, because MSE \"punishes\" larger errors, which tends to be useful in the real world.\n",
    "RMSE is even more popular than MSE, because RMSE is interpretable in the \"y\" units.\n",
    "All of these are loss functions, because we want to minimize them."
   ]
  },
  {
   "cell_type": "markdown",
   "id": "a1beda8b",
   "metadata": {
    "papermill": {
     "duration": 0.018,
     "end_time": "2023-03-06T20:29:12.297965",
     "exception": false,
     "start_time": "2023-03-06T20:29:12.279965",
     "status": "completed"
    },
    "tags": []
   },
   "source": [
    "https://www.kaggle.com/code/faressayah/practical-introduction-to-10-regression-algorithm?scriptVersionId=117768677&cellId=36"
   ]
  },
  {
   "cell_type": "markdown",
   "id": "d5372752",
   "metadata": {
    "papermill": {
     "duration": 0.019153,
     "end_time": "2023-03-06T20:29:12.336506",
     "exception": false,
     "start_time": "2023-03-06T20:29:12.317353",
     "status": "completed"
    },
    "tags": []
   },
   "source": [
    "<iframe src=\"https://www.kaggle.com/embed/faressayah/practical-introduction-to-10-regression-algorithm?cellIds=36&kernelSessionId=117768677\" height=\"300\" style=\"margin: 0 auto; width: 100%; max-width: 950px;\" frameborder=\"0\" scrolling=\"auto\" title=\"Practical Introduction to 10 Regression Algorithm\"></iframe>"
   ]
  }
 ],
 "metadata": {
  "kernelspec": {
   "display_name": "Python 3",
   "language": "python",
   "name": "python3"
  },
  "language_info": {
   "codemirror_mode": {
    "name": "ipython",
    "version": 3
   },
   "file_extension": ".py",
   "mimetype": "text/x-python",
   "name": "python",
   "nbconvert_exporter": "python",
   "pygments_lexer": "ipython3",
   "version": "3.7.12"
  },
  "papermill": {
   "default_parameters": {},
   "duration": 22.035916,
   "end_time": "2023-03-06T20:29:13.277294",
   "environment_variables": {},
   "exception": null,
   "input_path": "__notebook__.ipynb",
   "output_path": "__notebook__.ipynb",
   "parameters": {},
   "start_time": "2023-03-06T20:28:51.241378",
   "version": "2.3.4"
  }
 },
 "nbformat": 4,
 "nbformat_minor": 5
}
